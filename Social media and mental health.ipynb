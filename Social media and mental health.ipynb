{
 "cells": [
  {
   "cell_type": "markdown",
   "metadata": {},
   "source": [
    "With the information getting polarized on social media, it is natural to think if it affects our mental health in real life as well. In this tutorial, we explore the correlation of mental health with  social media usage using Python and GridDB. The outline of the tutorial will be as follows:\n",
    "\n",
    "1. Prerequisites and Environment Set up\n",
    "2. About the Dataset\n",
    "3. Importing the libraries\n",
    "4. Reading the data\n",
    "5. Exploratory Data Analysis\n",
    "6. Data Transformation\n",
    "7. What is GridDB?\n",
    "8. Inserting and Reading data from GridDB\n",
    "9. Basic Data Visualization\n",
    "10. Quantifying the mental health\n",
    "11. Correlation between mental health and social media usage\n",
    "12. Conclusion\n",
    "13. References"
   ]
  },
  {
   "cell_type": "markdown",
   "metadata": {},
   "source": [
    "## 1. Prerequisites and Environment Set up"
   ]
  },
  {
   "cell_type": "markdown",
   "metadata": {},
   "source": [
    "### 1.1 Python Libraries"
   ]
  },
  {
   "cell_type": "markdown",
   "metadata": {},
   "source": [
    "This tutorial has been executed in Jupyter Notebook with Python version 3.8.3 on a Windows 10 Operating System. The following libraries will be required before the code execution:\n",
    "\n",
    "1. [Pandas](https://pandas.pydata.org/docs/getting_started/install.html)\n",
    "2. [Numpy](https://numpy.org/install/)\n",
    "3. [Matplotlib](https://matplotlib.org/stable/users/installing/index.html)\n",
    "4. [Seaborn](https://seaborn.pydata.org/installing.html)\n",
    "\n",
    "The easiest way to install these packages in your environment is via ```pip install <package-name>``` or ```conda install <package-name>``` if you are using Anaconda Navigator. Alternatively, refer to the documentation of these packages for detailed information"
   ]
  },
  {
   "cell_type": "markdown",
   "metadata": {},
   "source": [
    "### 1.2 GridDB Libraries"
   ]
  },
  {
   "cell_type": "markdown",
   "metadata": {},
   "source": [
    "Additionally, if you want to read your data from GridDB to directly in Python. The following libraries need to be installed:\n",
    "\n",
    "1. [GridDB C-client](https://github.com/griddb/c_client)\n",
    "2. SWIG (Simplified Wrapper and Interface Generator)\n",
    "3. [GridDB Python Client](https://github.com/griddb/python_client)\n",
    "\n",
    "GridDB python-client makes it easier to load the data into your python environment without any hassle of downloading it first into a CSV format. "
   ]
  },
  {
   "cell_type": "markdown",
   "metadata": {},
   "source": [
    "Great! Now that we have installed the necessary libraries, let's have a look at the dataset. "
   ]
  },
  {
   "cell_type": "markdown",
   "metadata": {},
   "source": [
    "## 2. About the Dataset"
   ]
  },
  {
   "cell_type": "markdown",
   "metadata": {},
   "source": [
    "The dataset used for this tutorial intends to find a correlation (if any) between the time spent on social media by an individual and how their mental health gets affected by it. The dataset is open-source and can be downloaded from [Kaggle](https://www.kaggle.com/datasets/souvikahmed071/social-media-and-mental-health/data). "
   ]
  },
  {
   "cell_type": "markdown",
   "metadata": {},
   "source": [
    "The dataset has different columns recording an individual's personal information such as age, gender, occupation, along with questions about social media usage, mental health status, etc. In total, there are 481 instances (or rows) and 20 such attributes (or columns). "
   ]
  },
  {
   "cell_type": "markdown",
   "metadata": {},
   "source": [
    "Let's import the libraries and have a look at our dataset"
   ]
  },
  {
   "cell_type": "markdown",
   "metadata": {},
   "source": [
    "## 3. Importing the libraries"
   ]
  },
  {
   "cell_type": "code",
   "execution_count": 64,
   "metadata": {
    "ExecuteTime": {
     "end_time": "2023-10-23T13:29:05.757831Z",
     "start_time": "2023-10-23T13:29:05.742829Z"
    }
   },
   "outputs": [],
   "source": [
    "import pandas as pd\n",
    "import numpy as np\n",
    "import matplotlib.pyplot as plt\n",
    "import seaborn as sns"
   ]
  },
  {
   "cell_type": "markdown",
   "metadata": {},
   "source": [
    "The cell will not return anything if the execution is successful. If you encounter an error, kindly check if the packages are correctly installed and are compatible with each other.\n",
    "\n",
    "After importing the libraries, let's go ahead and load our dataset"
   ]
  },
  {
   "cell_type": "markdown",
   "metadata": {},
   "source": [
    "## 4. Reading the data "
   ]
  },
  {
   "cell_type": "code",
   "execution_count": 65,
   "metadata": {
    "ExecuteTime": {
     "end_time": "2023-10-23T13:29:05.773488Z",
     "start_time": "2023-10-23T13:29:05.760488Z"
    }
   },
   "outputs": [],
   "source": [
    "data=pd.read_csv('social_media.csv')"
   ]
  },
  {
   "cell_type": "markdown",
   "metadata": {},
   "source": [
    "Now that our data is successfully loaded in the environment, let's have a look at some basic features. We'll begin with the size of the dataset and how it looks!"
   ]
  },
  {
   "cell_type": "code",
   "execution_count": 66,
   "metadata": {
    "ExecuteTime": {
     "end_time": "2023-10-23T13:29:05.790898Z",
     "start_time": "2023-10-23T13:29:05.775489Z"
    }
   },
   "outputs": [
    {
     "data": {
      "text/plain": [
       "(481, 21)"
      ]
     },
     "execution_count": 66,
     "metadata": {},
     "output_type": "execute_result"
    }
   ],
   "source": [
    "data.shape"
   ]
  },
  {
   "cell_type": "markdown",
   "metadata": {},
   "source": [
    "As mentioned before, there are 481 rows and 21 columns. Let's see what that looks like."
   ]
  },
  {
   "cell_type": "code",
   "execution_count": 67,
   "metadata": {
    "ExecuteTime": {
     "end_time": "2023-10-23T13:29:05.825310Z",
     "start_time": "2023-10-23T13:29:05.792837Z"
    }
   },
   "outputs": [
    {
     "data": {
      "text/html": [
       "<div>\n",
       "<style scoped>\n",
       "    .dataframe tbody tr th:only-of-type {\n",
       "        vertical-align: middle;\n",
       "    }\n",
       "\n",
       "    .dataframe tbody tr th {\n",
       "        vertical-align: top;\n",
       "    }\n",
       "\n",
       "    .dataframe thead th {\n",
       "        text-align: right;\n",
       "    }\n",
       "</style>\n",
       "<table border=\"1\" class=\"dataframe\">\n",
       "  <thead>\n",
       "    <tr style=\"text-align: right;\">\n",
       "      <th></th>\n",
       "      <th>Timestamp</th>\n",
       "      <th>1. What is your age?</th>\n",
       "      <th>2. Gender</th>\n",
       "      <th>3. Relationship Status</th>\n",
       "      <th>4. Occupation Status</th>\n",
       "      <th>5. What type of organizations are you affiliated with?</th>\n",
       "      <th>6. Do you use social media?</th>\n",
       "      <th>7. What social media platforms do you commonly use?</th>\n",
       "      <th>8. What is the average time you spend on social media every day?</th>\n",
       "      <th>9. How often do you find yourself using Social media without a specific purpose?</th>\n",
       "      <th>...</th>\n",
       "      <th>11. Do you feel restless if you haven't used Social media in a while?</th>\n",
       "      <th>12. On a scale of 1 to 5, how easily distracted are you?</th>\n",
       "      <th>13. On a scale of 1 to 5, how much are you bothered by worries?</th>\n",
       "      <th>14. Do you find it difficult to concentrate on things?</th>\n",
       "      <th>15. On a scale of 1-5, how often do you compare yourself to other successful people through the use of social media?</th>\n",
       "      <th>16. Following the previous question, how do you feel about these comparisons, generally speaking?</th>\n",
       "      <th>17. How often do you look to seek validation from features of social media?</th>\n",
       "      <th>18. How often do you feel depressed or down?</th>\n",
       "      <th>19. On a scale of 1 to 5, how frequently does your interest in daily activities fluctuate?</th>\n",
       "      <th>20. On a scale of 1 to 5, how often do you face issues regarding sleep?</th>\n",
       "    </tr>\n",
       "  </thead>\n",
       "  <tbody>\n",
       "    <tr>\n",
       "      <th>0</th>\n",
       "      <td>4/18/2022 19:18:47</td>\n",
       "      <td>21.0</td>\n",
       "      <td>Male</td>\n",
       "      <td>In a relationship</td>\n",
       "      <td>University Student</td>\n",
       "      <td>University</td>\n",
       "      <td>Yes</td>\n",
       "      <td>Facebook, Twitter, Instagram, YouTube, Discord...</td>\n",
       "      <td>Between 2 and 3 hours</td>\n",
       "      <td>5</td>\n",
       "      <td>...</td>\n",
       "      <td>2</td>\n",
       "      <td>5</td>\n",
       "      <td>2</td>\n",
       "      <td>5</td>\n",
       "      <td>2</td>\n",
       "      <td>3</td>\n",
       "      <td>2</td>\n",
       "      <td>5</td>\n",
       "      <td>4</td>\n",
       "      <td>5</td>\n",
       "    </tr>\n",
       "    <tr>\n",
       "      <th>1</th>\n",
       "      <td>4/18/2022 19:19:28</td>\n",
       "      <td>21.0</td>\n",
       "      <td>Female</td>\n",
       "      <td>Single</td>\n",
       "      <td>University Student</td>\n",
       "      <td>University</td>\n",
       "      <td>Yes</td>\n",
       "      <td>Facebook, Twitter, Instagram, YouTube, Discord...</td>\n",
       "      <td>More than 5 hours</td>\n",
       "      <td>4</td>\n",
       "      <td>...</td>\n",
       "      <td>2</td>\n",
       "      <td>4</td>\n",
       "      <td>5</td>\n",
       "      <td>4</td>\n",
       "      <td>5</td>\n",
       "      <td>1</td>\n",
       "      <td>1</td>\n",
       "      <td>5</td>\n",
       "      <td>4</td>\n",
       "      <td>5</td>\n",
       "    </tr>\n",
       "    <tr>\n",
       "      <th>2</th>\n",
       "      <td>4/18/2022 19:25:59</td>\n",
       "      <td>21.0</td>\n",
       "      <td>Female</td>\n",
       "      <td>Single</td>\n",
       "      <td>University Student</td>\n",
       "      <td>University</td>\n",
       "      <td>Yes</td>\n",
       "      <td>Facebook, Instagram, YouTube, Pinterest</td>\n",
       "      <td>Between 3 and 4 hours</td>\n",
       "      <td>3</td>\n",
       "      <td>...</td>\n",
       "      <td>1</td>\n",
       "      <td>2</td>\n",
       "      <td>5</td>\n",
       "      <td>4</td>\n",
       "      <td>3</td>\n",
       "      <td>3</td>\n",
       "      <td>1</td>\n",
       "      <td>4</td>\n",
       "      <td>2</td>\n",
       "      <td>5</td>\n",
       "    </tr>\n",
       "    <tr>\n",
       "      <th>3</th>\n",
       "      <td>4/18/2022 19:29:43</td>\n",
       "      <td>21.0</td>\n",
       "      <td>Female</td>\n",
       "      <td>Single</td>\n",
       "      <td>University Student</td>\n",
       "      <td>University</td>\n",
       "      <td>Yes</td>\n",
       "      <td>Facebook, Instagram</td>\n",
       "      <td>More than 5 hours</td>\n",
       "      <td>4</td>\n",
       "      <td>...</td>\n",
       "      <td>1</td>\n",
       "      <td>3</td>\n",
       "      <td>5</td>\n",
       "      <td>3</td>\n",
       "      <td>5</td>\n",
       "      <td>1</td>\n",
       "      <td>2</td>\n",
       "      <td>4</td>\n",
       "      <td>3</td>\n",
       "      <td>2</td>\n",
       "    </tr>\n",
       "    <tr>\n",
       "      <th>4</th>\n",
       "      <td>4/18/2022 19:33:31</td>\n",
       "      <td>21.0</td>\n",
       "      <td>Female</td>\n",
       "      <td>Single</td>\n",
       "      <td>University Student</td>\n",
       "      <td>University</td>\n",
       "      <td>Yes</td>\n",
       "      <td>Facebook, Instagram, YouTube</td>\n",
       "      <td>Between 2 and 3 hours</td>\n",
       "      <td>3</td>\n",
       "      <td>...</td>\n",
       "      <td>4</td>\n",
       "      <td>4</td>\n",
       "      <td>5</td>\n",
       "      <td>5</td>\n",
       "      <td>3</td>\n",
       "      <td>3</td>\n",
       "      <td>3</td>\n",
       "      <td>4</td>\n",
       "      <td>4</td>\n",
       "      <td>1</td>\n",
       "    </tr>\n",
       "  </tbody>\n",
       "</table>\n",
       "<p>5 rows × 21 columns</p>\n",
       "</div>"
      ],
      "text/plain": [
       "            Timestamp  1. What is your age? 2. Gender 3. Relationship Status  \\\n",
       "0  4/18/2022 19:18:47                  21.0      Male      In a relationship   \n",
       "1  4/18/2022 19:19:28                  21.0    Female                 Single   \n",
       "2  4/18/2022 19:25:59                  21.0    Female                 Single   \n",
       "3  4/18/2022 19:29:43                  21.0    Female                 Single   \n",
       "4  4/18/2022 19:33:31                  21.0    Female                 Single   \n",
       "\n",
       "  4. Occupation Status 5. What type of organizations are you affiliated with?  \\\n",
       "0   University Student                                         University       \n",
       "1   University Student                                         University       \n",
       "2   University Student                                         University       \n",
       "3   University Student                                         University       \n",
       "4   University Student                                         University       \n",
       "\n",
       "  6. Do you use social media?  \\\n",
       "0                         Yes   \n",
       "1                         Yes   \n",
       "2                         Yes   \n",
       "3                         Yes   \n",
       "4                         Yes   \n",
       "\n",
       "  7. What social media platforms do you commonly use?  \\\n",
       "0  Facebook, Twitter, Instagram, YouTube, Discord...    \n",
       "1  Facebook, Twitter, Instagram, YouTube, Discord...    \n",
       "2            Facebook, Instagram, YouTube, Pinterest    \n",
       "3                                Facebook, Instagram    \n",
       "4                       Facebook, Instagram, YouTube    \n",
       "\n",
       "  8. What is the average time you spend on social media every day?  \\\n",
       "0                              Between 2 and 3 hours                 \n",
       "1                                  More than 5 hours                 \n",
       "2                              Between 3 and 4 hours                 \n",
       "3                                  More than 5 hours                 \n",
       "4                              Between 2 and 3 hours                 \n",
       "\n",
       "   9. How often do you find yourself using Social media without a specific purpose?  \\\n",
       "0                                                  5                                  \n",
       "1                                                  4                                  \n",
       "2                                                  3                                  \n",
       "3                                                  4                                  \n",
       "4                                                  3                                  \n",
       "\n",
       "   ...  11. Do you feel restless if you haven't used Social media in a while?  \\\n",
       "0  ...                                                  2                       \n",
       "1  ...                                                  2                       \n",
       "2  ...                                                  1                       \n",
       "3  ...                                                  1                       \n",
       "4  ...                                                  4                       \n",
       "\n",
       "   12. On a scale of 1 to 5, how easily distracted are you?  \\\n",
       "0                                                  5          \n",
       "1                                                  4          \n",
       "2                                                  2          \n",
       "3                                                  3          \n",
       "4                                                  4          \n",
       "\n",
       "   13. On a scale of 1 to 5, how much are you bothered by worries?  \\\n",
       "0                                                  2                 \n",
       "1                                                  5                 \n",
       "2                                                  5                 \n",
       "3                                                  5                 \n",
       "4                                                  5                 \n",
       "\n",
       "   14. Do you find it difficult to concentrate on things?  \\\n",
       "0                                                  5        \n",
       "1                                                  4        \n",
       "2                                                  4        \n",
       "3                                                  3        \n",
       "4                                                  5        \n",
       "\n",
       "   15. On a scale of 1-5, how often do you compare yourself to other successful people through the use of social media?  \\\n",
       "0                                                  2                                                                      \n",
       "1                                                  5                                                                      \n",
       "2                                                  3                                                                      \n",
       "3                                                  5                                                                      \n",
       "4                                                  3                                                                      \n",
       "\n",
       "   16. Following the previous question, how do you feel about these comparisons, generally speaking?  \\\n",
       "0                                                  3                                                   \n",
       "1                                                  1                                                   \n",
       "2                                                  3                                                   \n",
       "3                                                  1                                                   \n",
       "4                                                  3                                                   \n",
       "\n",
       "   17. How often do you look to seek validation from features of social media?  \\\n",
       "0                                                  2                             \n",
       "1                                                  1                             \n",
       "2                                                  1                             \n",
       "3                                                  2                             \n",
       "4                                                  3                             \n",
       "\n",
       "   18. How often do you feel depressed or down?  \\\n",
       "0                                             5   \n",
       "1                                             5   \n",
       "2                                             4   \n",
       "3                                             4   \n",
       "4                                             4   \n",
       "\n",
       "   19. On a scale of 1 to 5, how frequently does your interest in daily activities fluctuate?  \\\n",
       "0                                                  4                                            \n",
       "1                                                  4                                            \n",
       "2                                                  2                                            \n",
       "3                                                  3                                            \n",
       "4                                                  4                                            \n",
       "\n",
       "   20. On a scale of 1 to 5, how often do you face issues regarding sleep?  \n",
       "0                                                  5                        \n",
       "1                                                  5                        \n",
       "2                                                  5                        \n",
       "3                                                  2                        \n",
       "4                                                  1                        \n",
       "\n",
       "[5 rows x 21 columns]"
      ]
     },
     "execution_count": 67,
     "metadata": {},
     "output_type": "execute_result"
    }
   ],
   "source": [
    "data.head()"
   ]
  },
  {
   "cell_type": "markdown",
   "metadata": {},
   "source": [
    "The <code>head()</code> function displays the first five rows of the dataset. As we can see, the column names are really long with spaces between them. Usually, it's a good idea to have shorter column names with minimal or no spacing to avoid typing errors later on. \n",
    "\n",
    "Therefore, we'll rename some of the columns."
   ]
  },
  {
   "cell_type": "markdown",
   "metadata": {},
   "source": [
    "##  5. Exploratory Data Analysis (EDA)"
   ]
  },
  {
   "cell_type": "markdown",
   "metadata": {},
   "source": [
    "### 5.1 Renaming the columns"
   ]
  },
  {
   "cell_type": "code",
   "execution_count": 68,
   "metadata": {
    "ExecuteTime": {
     "end_time": "2023-10-23T13:29:05.842527Z",
     "start_time": "2023-10-23T13:29:05.827284Z"
    }
   },
   "outputs": [],
   "source": [
    "data.rename(columns = {'1. What is your age?':'Age','2. Gender':'Sex','3. Relationship Status':'Relationship_Status',\n",
    "                       '4. Occupation Status':'Occupation',\n",
    "                       '5. What type of organizations are you affiliated with?':'Affiliations',\n",
    "                       '6. Do you use social media?':'Social_Media_User',\n",
    "                       '7. What social media platforms do you commonly use?':'Platforms_Used',\n",
    "                       '8. What is the average time you spend on social media every day?':'Time_Spent',\n",
    "                       '9. How often do you find yourself using Social media without a specific purpose?':'ADHD_Q1',\n",
    "                       '10. How often do you get distracted by Social media when you are busy doing something?':'ADHD_Q2',\n",
    "                       \"11. Do you feel restless if you haven't used Social media in a while?\":'Anxiety_Q1',\n",
    "                       '12. On a scale of 1 to 5, how easily distracted are you?':'ADHD_Q3',\n",
    "                       '13. On a scale of 1 to 5, how much are you bothered by worries?':'Anxiety_Q2',\n",
    "                       '14. Do you find it difficult to concentrate on things?':'ADHD_Q4',\n",
    "                       '15. On a scale of 1-5, how often do you compare yourself to other successful people through the use of social media?':'Self_Esteem_Q1',\n",
    "                       '16. Following the previous question, how do you feel about these comparisons, generally speaking?':'Self_Esteem_Q2',\n",
    "                       '17. How often do you look to seek validation from features of social media?':'Self_Esteem_Q3',\n",
    "                       '18. How often do you feel depressed or down?':'Depression_Q1',\n",
    "                       '19. On a scale of 1 to 5, how frequently does your interest in daily activities fluctuate?':'Depression_Q2',\n",
    "                       '20. On a scale of 1 to 5, how often do you face issues regarding sleep?':'Depression_Q3' },inplace=True)"
   ]
  },
  {
   "cell_type": "markdown",
   "metadata": {},
   "source": [
    "We have tried to keep the column names upto 2 words and replaced the space with an underscore. Let's see how our updated dataframe looks like."
   ]
  },
  {
   "cell_type": "code",
   "execution_count": 69,
   "metadata": {
    "ExecuteTime": {
     "end_time": "2023-10-23T13:29:05.875534Z",
     "start_time": "2023-10-23T13:29:05.843059Z"
    }
   },
   "outputs": [
    {
     "data": {
      "text/html": [
       "<div>\n",
       "<style scoped>\n",
       "    .dataframe tbody tr th:only-of-type {\n",
       "        vertical-align: middle;\n",
       "    }\n",
       "\n",
       "    .dataframe tbody tr th {\n",
       "        vertical-align: top;\n",
       "    }\n",
       "\n",
       "    .dataframe thead th {\n",
       "        text-align: right;\n",
       "    }\n",
       "</style>\n",
       "<table border=\"1\" class=\"dataframe\">\n",
       "  <thead>\n",
       "    <tr style=\"text-align: right;\">\n",
       "      <th></th>\n",
       "      <th>Timestamp</th>\n",
       "      <th>Age</th>\n",
       "      <th>Sex</th>\n",
       "      <th>Relationship_Status</th>\n",
       "      <th>Occupation</th>\n",
       "      <th>Affiliations</th>\n",
       "      <th>Social_Media_User</th>\n",
       "      <th>Platforms_Used</th>\n",
       "      <th>Time_Spent</th>\n",
       "      <th>ADHD_Q1</th>\n",
       "      <th>...</th>\n",
       "      <th>Anxiety_Q1</th>\n",
       "      <th>ADHD_Q3</th>\n",
       "      <th>Anxiety_Q2</th>\n",
       "      <th>ADHD_Q4</th>\n",
       "      <th>Self_Esteem_Q1</th>\n",
       "      <th>Self_Esteem_Q2</th>\n",
       "      <th>Self_Esteem_Q3</th>\n",
       "      <th>Depression_Q1</th>\n",
       "      <th>Depression_Q2</th>\n",
       "      <th>Depression_Q3</th>\n",
       "    </tr>\n",
       "  </thead>\n",
       "  <tbody>\n",
       "    <tr>\n",
       "      <th>0</th>\n",
       "      <td>4/18/2022 19:18:47</td>\n",
       "      <td>21.0</td>\n",
       "      <td>Male</td>\n",
       "      <td>In a relationship</td>\n",
       "      <td>University Student</td>\n",
       "      <td>University</td>\n",
       "      <td>Yes</td>\n",
       "      <td>Facebook, Twitter, Instagram, YouTube, Discord...</td>\n",
       "      <td>Between 2 and 3 hours</td>\n",
       "      <td>5</td>\n",
       "      <td>...</td>\n",
       "      <td>2</td>\n",
       "      <td>5</td>\n",
       "      <td>2</td>\n",
       "      <td>5</td>\n",
       "      <td>2</td>\n",
       "      <td>3</td>\n",
       "      <td>2</td>\n",
       "      <td>5</td>\n",
       "      <td>4</td>\n",
       "      <td>5</td>\n",
       "    </tr>\n",
       "    <tr>\n",
       "      <th>1</th>\n",
       "      <td>4/18/2022 19:19:28</td>\n",
       "      <td>21.0</td>\n",
       "      <td>Female</td>\n",
       "      <td>Single</td>\n",
       "      <td>University Student</td>\n",
       "      <td>University</td>\n",
       "      <td>Yes</td>\n",
       "      <td>Facebook, Twitter, Instagram, YouTube, Discord...</td>\n",
       "      <td>More than 5 hours</td>\n",
       "      <td>4</td>\n",
       "      <td>...</td>\n",
       "      <td>2</td>\n",
       "      <td>4</td>\n",
       "      <td>5</td>\n",
       "      <td>4</td>\n",
       "      <td>5</td>\n",
       "      <td>1</td>\n",
       "      <td>1</td>\n",
       "      <td>5</td>\n",
       "      <td>4</td>\n",
       "      <td>5</td>\n",
       "    </tr>\n",
       "    <tr>\n",
       "      <th>2</th>\n",
       "      <td>4/18/2022 19:25:59</td>\n",
       "      <td>21.0</td>\n",
       "      <td>Female</td>\n",
       "      <td>Single</td>\n",
       "      <td>University Student</td>\n",
       "      <td>University</td>\n",
       "      <td>Yes</td>\n",
       "      <td>Facebook, Instagram, YouTube, Pinterest</td>\n",
       "      <td>Between 3 and 4 hours</td>\n",
       "      <td>3</td>\n",
       "      <td>...</td>\n",
       "      <td>1</td>\n",
       "      <td>2</td>\n",
       "      <td>5</td>\n",
       "      <td>4</td>\n",
       "      <td>3</td>\n",
       "      <td>3</td>\n",
       "      <td>1</td>\n",
       "      <td>4</td>\n",
       "      <td>2</td>\n",
       "      <td>5</td>\n",
       "    </tr>\n",
       "    <tr>\n",
       "      <th>3</th>\n",
       "      <td>4/18/2022 19:29:43</td>\n",
       "      <td>21.0</td>\n",
       "      <td>Female</td>\n",
       "      <td>Single</td>\n",
       "      <td>University Student</td>\n",
       "      <td>University</td>\n",
       "      <td>Yes</td>\n",
       "      <td>Facebook, Instagram</td>\n",
       "      <td>More than 5 hours</td>\n",
       "      <td>4</td>\n",
       "      <td>...</td>\n",
       "      <td>1</td>\n",
       "      <td>3</td>\n",
       "      <td>5</td>\n",
       "      <td>3</td>\n",
       "      <td>5</td>\n",
       "      <td>1</td>\n",
       "      <td>2</td>\n",
       "      <td>4</td>\n",
       "      <td>3</td>\n",
       "      <td>2</td>\n",
       "    </tr>\n",
       "    <tr>\n",
       "      <th>4</th>\n",
       "      <td>4/18/2022 19:33:31</td>\n",
       "      <td>21.0</td>\n",
       "      <td>Female</td>\n",
       "      <td>Single</td>\n",
       "      <td>University Student</td>\n",
       "      <td>University</td>\n",
       "      <td>Yes</td>\n",
       "      <td>Facebook, Instagram, YouTube</td>\n",
       "      <td>Between 2 and 3 hours</td>\n",
       "      <td>3</td>\n",
       "      <td>...</td>\n",
       "      <td>4</td>\n",
       "      <td>4</td>\n",
       "      <td>5</td>\n",
       "      <td>5</td>\n",
       "      <td>3</td>\n",
       "      <td>3</td>\n",
       "      <td>3</td>\n",
       "      <td>4</td>\n",
       "      <td>4</td>\n",
       "      <td>1</td>\n",
       "    </tr>\n",
       "  </tbody>\n",
       "</table>\n",
       "<p>5 rows × 21 columns</p>\n",
       "</div>"
      ],
      "text/plain": [
       "            Timestamp   Age     Sex Relationship_Status          Occupation  \\\n",
       "0  4/18/2022 19:18:47  21.0    Male   In a relationship  University Student   \n",
       "1  4/18/2022 19:19:28  21.0  Female              Single  University Student   \n",
       "2  4/18/2022 19:25:59  21.0  Female              Single  University Student   \n",
       "3  4/18/2022 19:29:43  21.0  Female              Single  University Student   \n",
       "4  4/18/2022 19:33:31  21.0  Female              Single  University Student   \n",
       "\n",
       "  Affiliations Social_Media_User  \\\n",
       "0   University               Yes   \n",
       "1   University               Yes   \n",
       "2   University               Yes   \n",
       "3   University               Yes   \n",
       "4   University               Yes   \n",
       "\n",
       "                                      Platforms_Used             Time_Spent  \\\n",
       "0  Facebook, Twitter, Instagram, YouTube, Discord...  Between 2 and 3 hours   \n",
       "1  Facebook, Twitter, Instagram, YouTube, Discord...      More than 5 hours   \n",
       "2            Facebook, Instagram, YouTube, Pinterest  Between 3 and 4 hours   \n",
       "3                                Facebook, Instagram      More than 5 hours   \n",
       "4                       Facebook, Instagram, YouTube  Between 2 and 3 hours   \n",
       "\n",
       "   ADHD_Q1  ...  Anxiety_Q1  ADHD_Q3  Anxiety_Q2  ADHD_Q4  Self_Esteem_Q1  \\\n",
       "0        5  ...           2        5           2        5               2   \n",
       "1        4  ...           2        4           5        4               5   \n",
       "2        3  ...           1        2           5        4               3   \n",
       "3        4  ...           1        3           5        3               5   \n",
       "4        3  ...           4        4           5        5               3   \n",
       "\n",
       "   Self_Esteem_Q2  Self_Esteem_Q3  Depression_Q1  Depression_Q2  Depression_Q3  \n",
       "0               3               2              5              4              5  \n",
       "1               1               1              5              4              5  \n",
       "2               3               1              4              2              5  \n",
       "3               1               2              4              3              2  \n",
       "4               3               3              4              4              1  \n",
       "\n",
       "[5 rows x 21 columns]"
      ]
     },
     "execution_count": 69,
     "metadata": {},
     "output_type": "execute_result"
    }
   ],
   "source": [
    "data.head()"
   ]
  },
  {
   "cell_type": "markdown",
   "metadata": {},
   "source": [
    "Looks good! Next up, we'll check if our data has any null values. This is an important step to avoid any inconsistencies in the future, especially when performing numerical operations."
   ]
  },
  {
   "cell_type": "markdown",
   "metadata": {},
   "source": [
    "### 5.2 Dealing with missing values"
   ]
  },
  {
   "cell_type": "code",
   "execution_count": 70,
   "metadata": {
    "ExecuteTime": {
     "end_time": "2023-10-23T13:29:05.892072Z",
     "start_time": "2023-10-23T13:29:05.876356Z"
    },
    "scrolled": true
   },
   "outputs": [
    {
     "data": {
      "text/plain": [
       "Timestamp               0\n",
       "Age                     0\n",
       "Sex                     0\n",
       "Relationship_Status     0\n",
       "Occupation              0\n",
       "Affiliations           30\n",
       "Social_Media_User       0\n",
       "Platforms_Used          0\n",
       "Time_Spent              0\n",
       "ADHD_Q1                 0\n",
       "ADHD_Q2                 0\n",
       "Anxiety_Q1              0\n",
       "ADHD_Q3                 0\n",
       "Anxiety_Q2              0\n",
       "ADHD_Q4                 0\n",
       "Self_Esteem_Q1          0\n",
       "Self_Esteem_Q2          0\n",
       "Self_Esteem_Q3          0\n",
       "Depression_Q1           0\n",
       "Depression_Q2           0\n",
       "Depression_Q3           0\n",
       "dtype: int64"
      ]
     },
     "execution_count": 70,
     "metadata": {},
     "output_type": "execute_result"
    }
   ],
   "source": [
    "data.isna().sum()"
   ]
  },
  {
   "cell_type": "markdown",
   "metadata": {},
   "source": [
    "All the columns look good except for <code>Affiliations</code>. Since we have a column called <code>Occupation</code>, there is not much need of <code>Affiliations</code> in this tutorial. We'll just drop the column."
   ]
  },
  {
   "cell_type": "code",
   "execution_count": 71,
   "metadata": {
    "ExecuteTime": {
     "end_time": "2023-10-23T13:29:05.909176Z",
     "start_time": "2023-10-23T13:29:05.893731Z"
    }
   },
   "outputs": [
    {
     "data": {
      "text/plain": [
       "Timestamp              0\n",
       "Age                    0\n",
       "Sex                    0\n",
       "Relationship_Status    0\n",
       "Occupation             0\n",
       "Social_Media_User      0\n",
       "Platforms_Used         0\n",
       "Time_Spent             0\n",
       "ADHD_Q1                0\n",
       "ADHD_Q2                0\n",
       "Anxiety_Q1             0\n",
       "ADHD_Q3                0\n",
       "Anxiety_Q2             0\n",
       "ADHD_Q4                0\n",
       "Self_Esteem_Q1         0\n",
       "Self_Esteem_Q2         0\n",
       "Self_Esteem_Q3         0\n",
       "Depression_Q1          0\n",
       "Depression_Q2          0\n",
       "Depression_Q3          0\n",
       "dtype: int64"
      ]
     },
     "execution_count": 71,
     "metadata": {},
     "output_type": "execute_result"
    }
   ],
   "source": [
    "data = data.drop(\"Affiliations\", axis=1)\n",
    "data.isna().sum()"
   ]
  },
  {
   "cell_type": "markdown",
   "metadata": {},
   "source": [
    "Let's have a look at the dimension of the dataframe just to make sure everything is working as expected."
   ]
  },
  {
   "cell_type": "code",
   "execution_count": 72,
   "metadata": {
    "ExecuteTime": {
     "end_time": "2023-10-23T13:29:05.925300Z",
     "start_time": "2023-10-23T13:29:05.909662Z"
    }
   },
   "outputs": [
    {
     "data": {
      "text/plain": [
       "(481, 20)"
      ]
     },
     "execution_count": 72,
     "metadata": {},
     "output_type": "execute_result"
    }
   ],
   "source": [
    "data.shape"
   ]
  },
  {
   "cell_type": "markdown",
   "metadata": {},
   "source": [
    "Okay. We're done with all the fundamental checks. It's time to check each attribute individually such as their data types."
   ]
  },
  {
   "cell_type": "markdown",
   "metadata": {},
   "source": [
    "## 6. Data Transformation"
   ]
  },
  {
   "cell_type": "code",
   "execution_count": 73,
   "metadata": {
    "ExecuteTime": {
     "end_time": "2023-10-23T13:29:05.942550Z",
     "start_time": "2023-10-23T13:29:05.926859Z"
    }
   },
   "outputs": [
    {
     "name": "stdout",
     "output_type": "stream",
     "text": [
      "<class 'pandas.core.frame.DataFrame'>\n",
      "RangeIndex: 481 entries, 0 to 480\n",
      "Data columns (total 20 columns):\n",
      " #   Column               Non-Null Count  Dtype  \n",
      "---  ------               --------------  -----  \n",
      " 0   Timestamp            481 non-null    object \n",
      " 1   Age                  481 non-null    float64\n",
      " 2   Sex                  481 non-null    object \n",
      " 3   Relationship_Status  481 non-null    object \n",
      " 4   Occupation           481 non-null    object \n",
      " 5   Social_Media_User    481 non-null    object \n",
      " 6   Platforms_Used       481 non-null    object \n",
      " 7   Time_Spent           481 non-null    object \n",
      " 8   ADHD_Q1              481 non-null    int64  \n",
      " 9   ADHD_Q2              481 non-null    int64  \n",
      " 10  Anxiety_Q1           481 non-null    int64  \n",
      " 11  ADHD_Q3              481 non-null    int64  \n",
      " 12  Anxiety_Q2           481 non-null    int64  \n",
      " 13  ADHD_Q4              481 non-null    int64  \n",
      " 14  Self_Esteem_Q1       481 non-null    int64  \n",
      " 15  Self_Esteem_Q2       481 non-null    int64  \n",
      " 16  Self_Esteem_Q3       481 non-null    int64  \n",
      " 17  Depression_Q1        481 non-null    int64  \n",
      " 18  Depression_Q2        481 non-null    int64  \n",
      " 19  Depression_Q3        481 non-null    int64  \n",
      "dtypes: float64(1), int64(12), object(7)\n",
      "memory usage: 75.3+ KB\n"
     ]
    }
   ],
   "source": [
    "data.info()"
   ]
  },
  {
   "cell_type": "markdown",
   "metadata": {},
   "source": [
    "We can see that the <code>Age</code> column is float. However, it should be an integer value. Let's change that."
   ]
  },
  {
   "cell_type": "markdown",
   "metadata": {},
   "source": [
    "### 6.1 Age"
   ]
  },
  {
   "cell_type": "code",
   "execution_count": 74,
   "metadata": {
    "ExecuteTime": {
     "end_time": "2023-10-23T13:29:05.957751Z",
     "start_time": "2023-10-23T13:29:05.944553Z"
    }
   },
   "outputs": [
    {
     "name": "stdout",
     "output_type": "stream",
     "text": [
      "<class 'pandas.core.frame.DataFrame'>\n",
      "RangeIndex: 481 entries, 0 to 480\n",
      "Data columns (total 20 columns):\n",
      " #   Column               Non-Null Count  Dtype \n",
      "---  ------               --------------  ----- \n",
      " 0   Timestamp            481 non-null    object\n",
      " 1   Age                  481 non-null    int32 \n",
      " 2   Sex                  481 non-null    object\n",
      " 3   Relationship_Status  481 non-null    object\n",
      " 4   Occupation           481 non-null    object\n",
      " 5   Social_Media_User    481 non-null    object\n",
      " 6   Platforms_Used       481 non-null    object\n",
      " 7   Time_Spent           481 non-null    object\n",
      " 8   ADHD_Q1              481 non-null    int64 \n",
      " 9   ADHD_Q2              481 non-null    int64 \n",
      " 10  Anxiety_Q1           481 non-null    int64 \n",
      " 11  ADHD_Q3              481 non-null    int64 \n",
      " 12  Anxiety_Q2           481 non-null    int64 \n",
      " 13  ADHD_Q4              481 non-null    int64 \n",
      " 14  Self_Esteem_Q1       481 non-null    int64 \n",
      " 15  Self_Esteem_Q2       481 non-null    int64 \n",
      " 16  Self_Esteem_Q3       481 non-null    int64 \n",
      " 17  Depression_Q1        481 non-null    int64 \n",
      " 18  Depression_Q2        481 non-null    int64 \n",
      " 19  Depression_Q3        481 non-null    int64 \n",
      "dtypes: int32(1), int64(12), object(7)\n",
      "memory usage: 73.4+ KB\n"
     ]
    }
   ],
   "source": [
    "data['Age'] = data['Age'].astype(int)\n",
    "data.info()"
   ]
  },
  {
   "cell_type": "markdown",
   "metadata": {},
   "source": [
    "Next up, we'll check the <code>Sex</code> column to see what all values it can take."
   ]
  },
  {
   "cell_type": "markdown",
   "metadata": {},
   "source": [
    "### 6.2 Gender"
   ]
  },
  {
   "cell_type": "code",
   "execution_count": 75,
   "metadata": {
    "ExecuteTime": {
     "end_time": "2023-10-23T13:29:05.972745Z",
     "start_time": "2023-10-23T13:29:05.958749Z"
    }
   },
   "outputs": [
    {
     "name": "stdout",
     "output_type": "stream",
     "text": [
      "{'unsure ', 'There are others???', 'Trans', 'NB', 'Non-binary', 'Male', 'Nonbinary ', 'Non binary ', 'Female'}\n"
     ]
    }
   ],
   "source": [
    "print(set(data['Sex']))"
   ]
  },
  {
   "cell_type": "markdown",
   "metadata": {},
   "source": [
    "The values such as <code>There are others???</code> and <code>unsure</code> are ambiguous. Hence, it's  better to drop those rows."
   ]
  },
  {
   "cell_type": "code",
   "execution_count": 76,
   "metadata": {
    "ExecuteTime": {
     "end_time": "2023-10-23T13:29:05.987804Z",
     "start_time": "2023-10-23T13:29:05.973752Z"
    }
   },
   "outputs": [
    {
     "name": "stdout",
     "output_type": "stream",
     "text": [
      "{'Trans', 'NB', 'Non-binary', 'Male', 'Nonbinary ', 'Non binary ', 'Female'}\n"
     ]
    }
   ],
   "source": [
    "data.drop(data.loc[(data['Sex'] == 'There are others???') | (data['Sex'] == 'unsure ')].index, inplace=True)\n",
    "print(set(data['Sex']))"
   ]
  },
  {
   "cell_type": "markdown",
   "metadata": {},
   "source": [
    "Also, <code>Non-binary, Nonbinary, NB, Non binary </code> all signify the same value. We'll replace all these with the same value."
   ]
  },
  {
   "cell_type": "code",
   "execution_count": 77,
   "metadata": {
    "ExecuteTime": {
     "end_time": "2023-10-23T13:29:06.003483Z",
     "start_time": "2023-10-23T13:29:05.988312Z"
    }
   },
   "outputs": [
    {
     "name": "stdout",
     "output_type": "stream",
     "text": [
      "{'Male', 'Nonbinary', 'Trans', 'Female'}\n"
     ]
    }
   ],
   "source": [
    "data.replace('Non-binary','Nonbinary', inplace=True)\n",
    "data.replace('NB','Nonbinary', inplace=True)\n",
    "data.replace('Non binary ','Nonbinary', inplace=True)\n",
    "data.replace('Nonbinary ','Nonbinary', inplace=True)\n",
    "print(set(data['Sex']))"
   ]
  },
  {
   "cell_type": "markdown",
   "metadata": {},
   "source": [
    "Now that we've fixed the <code>Age</code> and <code>Sex</code> column, let's have a look at other columns having string values."
   ]
  },
  {
   "cell_type": "markdown",
   "metadata": {},
   "source": [
    "### 6.3 Other categorical attributes"
   ]
  },
  {
   "cell_type": "code",
   "execution_count": 78,
   "metadata": {
    "ExecuteTime": {
     "end_time": "2023-10-23T13:29:06.018830Z",
     "start_time": "2023-10-23T13:29:06.004450Z"
    },
    "scrolled": false
   },
   "outputs": [
    {
     "name": "stdout",
     "output_type": "stream",
     "text": [
      "{'Divorced', 'Married', 'Single', 'In a relationship'}\n",
      "{'School Student', 'University Student', 'Salaried Worker', 'Retired'}\n",
      "{'No', 'Yes'}\n",
      "{'Less than an Hour', 'More than 5 hours', 'Between 4 and 5 hours', 'Between 2 and 3 hours', 'Between 3 and 4 hours', 'Between 1 and 2 hours'}\n"
     ]
    }
   ],
   "source": [
    "print(set(data['Relationship_Status']))\n",
    "print(set(data['Occupation']))\n",
    "print(set(data['Social_Media_User']))\n",
    "print(set(data['Time_Spent']))"
   ]
  },
  {
   "cell_type": "code",
   "execution_count": 79,
   "metadata": {
    "ExecuteTime": {
     "end_time": "2023-10-23T13:29:08.788269Z",
     "start_time": "2023-10-23T13:29:08.771022Z"
    },
    "scrolled": true
   },
   "outputs": [
    {
     "data": {
      "text/html": [
       "<div>\n",
       "<style scoped>\n",
       "    .dataframe tbody tr th:only-of-type {\n",
       "        vertical-align: middle;\n",
       "    }\n",
       "\n",
       "    .dataframe tbody tr th {\n",
       "        vertical-align: top;\n",
       "    }\n",
       "\n",
       "    .dataframe thead th {\n",
       "        text-align: right;\n",
       "    }\n",
       "</style>\n",
       "<table border=\"1\" class=\"dataframe\">\n",
       "  <thead>\n",
       "    <tr style=\"text-align: right;\">\n",
       "      <th></th>\n",
       "      <th>Timestamp</th>\n",
       "      <th>Age</th>\n",
       "      <th>Sex</th>\n",
       "      <th>Relationship_Status</th>\n",
       "      <th>Occupation</th>\n",
       "      <th>Social_Media_User</th>\n",
       "      <th>Platforms_Used</th>\n",
       "      <th>Time_Spent</th>\n",
       "      <th>ADHD_Q1</th>\n",
       "      <th>ADHD_Q2</th>\n",
       "      <th>Anxiety_Q1</th>\n",
       "      <th>ADHD_Q3</th>\n",
       "      <th>Anxiety_Q2</th>\n",
       "      <th>ADHD_Q4</th>\n",
       "      <th>Self_Esteem_Q1</th>\n",
       "      <th>Self_Esteem_Q2</th>\n",
       "      <th>Self_Esteem_Q3</th>\n",
       "      <th>Depression_Q1</th>\n",
       "      <th>Depression_Q2</th>\n",
       "      <th>Depression_Q3</th>\n",
       "    </tr>\n",
       "  </thead>\n",
       "  <tbody>\n",
       "    <tr>\n",
       "      <th>0</th>\n",
       "      <td>4/18/2022 19:18:47</td>\n",
       "      <td>21</td>\n",
       "      <td>Male</td>\n",
       "      <td>In a relationship</td>\n",
       "      <td>University Student</td>\n",
       "      <td>Yes</td>\n",
       "      <td>Facebook, Twitter, Instagram, YouTube, Discord...</td>\n",
       "      <td>Between 2 and 3 hours</td>\n",
       "      <td>5</td>\n",
       "      <td>3</td>\n",
       "      <td>2</td>\n",
       "      <td>5</td>\n",
       "      <td>2</td>\n",
       "      <td>5</td>\n",
       "      <td>2</td>\n",
       "      <td>3</td>\n",
       "      <td>2</td>\n",
       "      <td>5</td>\n",
       "      <td>4</td>\n",
       "      <td>5</td>\n",
       "    </tr>\n",
       "    <tr>\n",
       "      <th>1</th>\n",
       "      <td>4/18/2022 19:19:28</td>\n",
       "      <td>21</td>\n",
       "      <td>Female</td>\n",
       "      <td>Single</td>\n",
       "      <td>University Student</td>\n",
       "      <td>Yes</td>\n",
       "      <td>Facebook, Twitter, Instagram, YouTube, Discord...</td>\n",
       "      <td>More than 5 hours</td>\n",
       "      <td>4</td>\n",
       "      <td>3</td>\n",
       "      <td>2</td>\n",
       "      <td>4</td>\n",
       "      <td>5</td>\n",
       "      <td>4</td>\n",
       "      <td>5</td>\n",
       "      <td>1</td>\n",
       "      <td>1</td>\n",
       "      <td>5</td>\n",
       "      <td>4</td>\n",
       "      <td>5</td>\n",
       "    </tr>\n",
       "    <tr>\n",
       "      <th>2</th>\n",
       "      <td>4/18/2022 19:25:59</td>\n",
       "      <td>21</td>\n",
       "      <td>Female</td>\n",
       "      <td>Single</td>\n",
       "      <td>University Student</td>\n",
       "      <td>Yes</td>\n",
       "      <td>Facebook, Instagram, YouTube, Pinterest</td>\n",
       "      <td>Between 3 and 4 hours</td>\n",
       "      <td>3</td>\n",
       "      <td>2</td>\n",
       "      <td>1</td>\n",
       "      <td>2</td>\n",
       "      <td>5</td>\n",
       "      <td>4</td>\n",
       "      <td>3</td>\n",
       "      <td>3</td>\n",
       "      <td>1</td>\n",
       "      <td>4</td>\n",
       "      <td>2</td>\n",
       "      <td>5</td>\n",
       "    </tr>\n",
       "    <tr>\n",
       "      <th>3</th>\n",
       "      <td>4/18/2022 19:29:43</td>\n",
       "      <td>21</td>\n",
       "      <td>Female</td>\n",
       "      <td>Single</td>\n",
       "      <td>University Student</td>\n",
       "      <td>Yes</td>\n",
       "      <td>Facebook, Instagram</td>\n",
       "      <td>More than 5 hours</td>\n",
       "      <td>4</td>\n",
       "      <td>2</td>\n",
       "      <td>1</td>\n",
       "      <td>3</td>\n",
       "      <td>5</td>\n",
       "      <td>3</td>\n",
       "      <td>5</td>\n",
       "      <td>1</td>\n",
       "      <td>2</td>\n",
       "      <td>4</td>\n",
       "      <td>3</td>\n",
       "      <td>2</td>\n",
       "    </tr>\n",
       "    <tr>\n",
       "      <th>4</th>\n",
       "      <td>4/18/2022 19:33:31</td>\n",
       "      <td>21</td>\n",
       "      <td>Female</td>\n",
       "      <td>Single</td>\n",
       "      <td>University Student</td>\n",
       "      <td>Yes</td>\n",
       "      <td>Facebook, Instagram, YouTube</td>\n",
       "      <td>Between 2 and 3 hours</td>\n",
       "      <td>3</td>\n",
       "      <td>5</td>\n",
       "      <td>4</td>\n",
       "      <td>4</td>\n",
       "      <td>5</td>\n",
       "      <td>5</td>\n",
       "      <td>3</td>\n",
       "      <td>3</td>\n",
       "      <td>3</td>\n",
       "      <td>4</td>\n",
       "      <td>4</td>\n",
       "      <td>1</td>\n",
       "    </tr>\n",
       "  </tbody>\n",
       "</table>\n",
       "</div>"
      ],
      "text/plain": [
       "            Timestamp  Age     Sex Relationship_Status          Occupation  \\\n",
       "0  4/18/2022 19:18:47   21    Male   In a relationship  University Student   \n",
       "1  4/18/2022 19:19:28   21  Female              Single  University Student   \n",
       "2  4/18/2022 19:25:59   21  Female              Single  University Student   \n",
       "3  4/18/2022 19:29:43   21  Female              Single  University Student   \n",
       "4  4/18/2022 19:33:31   21  Female              Single  University Student   \n",
       "\n",
       "  Social_Media_User                                     Platforms_Used  \\\n",
       "0               Yes  Facebook, Twitter, Instagram, YouTube, Discord...   \n",
       "1               Yes  Facebook, Twitter, Instagram, YouTube, Discord...   \n",
       "2               Yes            Facebook, Instagram, YouTube, Pinterest   \n",
       "3               Yes                                Facebook, Instagram   \n",
       "4               Yes                       Facebook, Instagram, YouTube   \n",
       "\n",
       "              Time_Spent  ADHD_Q1  ADHD_Q2  Anxiety_Q1  ADHD_Q3  Anxiety_Q2  \\\n",
       "0  Between 2 and 3 hours        5        3           2        5           2   \n",
       "1      More than 5 hours        4        3           2        4           5   \n",
       "2  Between 3 and 4 hours        3        2           1        2           5   \n",
       "3      More than 5 hours        4        2           1        3           5   \n",
       "4  Between 2 and 3 hours        3        5           4        4           5   \n",
       "\n",
       "   ADHD_Q4  Self_Esteem_Q1  Self_Esteem_Q2  Self_Esteem_Q3  Depression_Q1  \\\n",
       "0        5               2               3               2              5   \n",
       "1        4               5               1               1              5   \n",
       "2        4               3               3               1              4   \n",
       "3        3               5               1               2              4   \n",
       "4        5               3               3               3              4   \n",
       "\n",
       "   Depression_Q2  Depression_Q3  \n",
       "0              4              5  \n",
       "1              4              5  \n",
       "2              2              5  \n",
       "3              3              2  \n",
       "4              4              1  "
      ]
     },
     "execution_count": 79,
     "metadata": {},
     "output_type": "execute_result"
    }
   ],
   "source": [
    "data.head()"
   ]
  },
  {
   "cell_type": "markdown",
   "metadata": {},
   "source": [
    "Great! Everything looks good. We shall now create a GridDB container for data insertion. But first, what is GridDB and why do we need it?"
   ]
  },
  {
   "cell_type": "markdown",
   "metadata": {},
   "source": [
    "## 7. What is GridDB?"
   ]
  },
  {
   "cell_type": "markdown",
   "metadata": {},
   "source": [
    "[GridDB](https://griddb.net/) is a powerful and scalable database that can handle large amounts of data quickly and efficiently. It is designed to store both metadata and time series data. GridDB is also in-memory, which means that it stores the data in RAM for even faster access.\n",
    "\n",
    "But why do we need GridDB?"
   ]
  },
  {
   "cell_type": "markdown",
   "metadata": {},
   "source": [
    "### 7.1 Why do we need GridDB?"
   ]
  },
  {
   "cell_type": "markdown",
   "metadata": {},
   "source": [
    "Before answering why GridDB, let's first understand why do we need any database in the first place? \n",
    "\n",
    "We need databases to organize large amounts of data. While you can store the same data in perhaps, a CSV file, but there are certain challenges that come with it. To start with, databases ensure consistency and integrity. For instance, you have a team of 5 people. With a database, you don't need to worry about one person updating the database and the other person not seeing the change. Moreover, because a database has certain restrictions, only the allowed users can make changes to it. \n",
    "\n",
    "On the other hand, if a CSV file is locally stored, you might end up with different versions after analysing it or  making changes to it. Hence, it is not coherent. This becomes specially important when dealing with huge amount of data in an organization.\n",
    "\n",
    "Since, GridDB is an efficient database that ensures faster access because of its in-memory architecture, it's a good choice when dealing with Big Data."
   ]
  },
  {
   "cell_type": "markdown",
   "metadata": {},
   "source": [
    "Let's go ahead and create a GridDB container for data insertion."
   ]
  },
  {
   "cell_type": "markdown",
   "metadata": {},
   "source": [
    "## 8. Inserting and Reading Data from GridDB"
   ]
  },
  {
   "cell_type": "markdown",
   "metadata": {},
   "source": [
    "GridDB has a <code>python-client</code> which makes it easier to manipulate the data using python. But first, we need to create a connection. After the connection is successful, we'll define our container."
   ]
  },
  {
   "cell_type": "markdown",
   "metadata": {},
   "source": [
    "### 8.1 Creating a connection "
   ]
  },
  {
   "cell_type": "markdown",
   "metadata": {},
   "source": [
    "The code for container creation looks as follows:"
   ]
  },
  {
   "cell_type": "code",
   "execution_count": null,
   "metadata": {},
   "outputs": [],
   "source": [
    "import griddb_python as griddb\n",
    "\n",
    "factory = griddb.StoreFactory.get_instance()\n",
    "host = \"127.0.0.1:10001\"\n",
    "cluster = \"myCluster\"\n",
    "db_user = \"admin\"\n",
    "db_password = \"admin\"\n",
    "\n",
    "try:\n",
    "    gridstore = factory.get_store(notification_member=host, cluster_name=cluster, username=db_user, password=db_password)\n",
    "    print(\"connection successful\")\n",
    "    \n",
    "except griddb.GSException as e:\n",
    "    for i in range(e.get_error_stack_size()):\n",
    "        print(\"[\",i,\"]\")\n",
    "        print(e.get_error_code(i))\n",
    "        print(e.get_location(i))\n",
    "        print(e.get_message(i))"
   ]
  },
  {
   "cell_type": "markdown",
   "metadata": {},
   "source": [
    "<img src=\"connection.png\" alt=\"Alternative text\" />"
   ]
  },
  {
   "cell_type": "markdown",
   "metadata": {},
   "source": [
    "If the above code results in an error, try checking if you started the node with <code>gs_startnode -u username/password -w</code>. For more information on installation and getting started, check the official [GridDB guide](https://www.toshiba-sol.co.jp/en/pro/griddb/docs-en/v4_3_2/GridDB_QuickStartGuide.html')."
   ]
  },
  {
   "cell_type": "markdown",
   "metadata": {},
   "source": [
    "The code is not completed yet. After establishing a connection, we need to define our container. Hence, the complete code looks like:"
   ]
  },
  {
   "cell_type": "markdown",
   "metadata": {},
   "source": [
    "### 8.2 Defining and creating the container"
   ]
  },
  {
   "cell_type": "code",
   "execution_count": null,
   "metadata": {},
   "outputs": [],
   "source": [
    "import griddb_python as griddb\n",
    "\n",
    "factory = griddb.StoreFactory.get_instance()\n",
    "host = \"127.0.0.1:10001\"\n",
    "cluster = \"myCluster\"\n",
    "db_user = \"admin\"\n",
    "db_password = \"admin\"\n",
    "\n",
    "try:\n",
    "    gridstore = factory.get_store(notification_member=host, cluster_name=cluster, username=db_user, password=db_password)\n",
    "    print(\"connection successful\")\n",
    "    \n",
    "    #defining the container structure \n",
    "    conInfo = griddb.ContainerInfo(name=\"social_media\",\n",
    "                    column_info_list = [[\"Timestamp\", griddb.Type.STRING],\n",
    "                                        [\"Age\", griddb.Type.INTEGER],\n",
    "                                        [\"Sex\", griddb.Type.STRING],\n",
    "                                        [\"Relationship_Status\", griddb.Type.STRING],\n",
    "                                        [\"Occupation\", griddb.Type.STRING],\n",
    "                                        [\"Social_Media_User\", griddb.Type.STRING],\n",
    "                                        [\"Platforms_Used\", griddb.Type.STRING],\n",
    "                                        [\"Time_Spent\", griddb.Type.STRING],\n",
    "                                        [\"ADHD_Q1\", griddb.Type.INTEGER],\n",
    "                                        [\"ADHD_Q2\", griddb.Type.INTEGER],\n",
    "                                        [\"Anxiety_Q1\", griddb.Type.INTEGER],\n",
    "                                        [\"ADHD_Q3\", griddb.Type.INTEGER],\n",
    "                                        [\"Anxiety_Q2\", griddb.Type.INTEGER],\n",
    "                                        [\"ADHD_Q4\", griddb.Type.INTEGER],\n",
    "                                        [\"Self_Esteem_Q1\", griddb.Type.INTEGER],\n",
    "                                        [\"Self_Esteem_Q2\", griddb.Type.INTEGER],\n",
    "                                        [\"Self_Esteem_Q3\", griddb.Type.INTEGER],\n",
    "                                        [\"Depression_Q1\",griddb.Type.INTEGER],\n",
    "                                        [\"Depression_Q2\",griddb.Type.INTEGER],\n",
    "                                        [\"Depression_Q3\",griddb.Type.INTEGER]],\n",
    "                    type=griddb.ContainerType.COLLECTION)\n",
    "\n",
    "    print(conInfo)\n",
    "\n",
    "    social_media_container = gridstore.put_container(conInfo)\n",
    "    print(\"container creation successful\")\n",
    "\n",
    "    social_media_container.put_rows(data)\n",
    "\n",
    "    print(\"data insertion successful\")\n",
    "\n",
    "\n",
    "except griddb.GSException as e:\n",
    "    for i in range(e.get_error_stack_size()):\n",
    "        print(\"[\",i,\"]\")\n",
    "        print(e.get_error_code(i))\n",
    "        print(e.get_location(i))\n",
    "        print(e.get_message(i))"
   ]
  },
  {
   "cell_type": "markdown",
   "metadata": {
    "ExecuteTime": {
     "end_time": "2023-10-23T14:03:26.701982Z",
     "start_time": "2023-10-23T14:03:26.691419Z"
    }
   },
   "source": [
    "<img src=\"data_insertion.png\" alt=\"Alternative text\" />"
   ]
  },
  {
   "cell_type": "markdown",
   "metadata": {},
   "source": [
    "### 8.3 Few things to note"
   ]
  },
  {
   "cell_type": "markdown",
   "metadata": {},
   "source": [
    "During the data insertion, I encountered a couple of errors. Here are some things to keep in mind to avoid this situation:\n",
    "\n",
    "- The order of the schema is quite important and it should match with the columns of your dataframe. If the above code results in an error, remove the index and try again.\n",
    "\n",
    "- Insertion could result in an <code>[1008:CM_LIMITS_EXCEEDED]</code> error. For me, it got resolved by removing the special characters and spaces from column names. \n",
    "\n",
    "- If your container type is <code>TIMESERIES</code>, then a <code>ROWKEY</code> must be defined. A <code>ROWKEY</code> is a primary key for your dataset. It is not need if the container type is <code>COLLECTION</code> which is the case for this dataset. \n",
    "\n",
    "- A <code>ROWKEY</code> is either a STRING, INTEGER, LONG or TIMESTAMP column. If you do not specify a ROWKEY column, then it takes the first column as the default ROWKEY. If your first column is not from those datatypes, then it would throw an <code>[140009:CC_UNSUPPORTED_KEY_TYPE]</code>. "
   ]
  },
  {
   "cell_type": "markdown",
   "metadata": {},
   "source": [
    "### 8.4 Reading data from GridDB"
   ]
  },
  {
   "cell_type": "markdown",
   "metadata": {},
   "source": [
    "Reading the data from GridDB is also quite simple and easy to understand. The first step is the same - to establish a connection. After that is done, we need to call the container we just created. Look at the code below:"
   ]
  },
  {
   "cell_type": "code",
   "execution_count": null,
   "metadata": {},
   "outputs": [],
   "source": [
    "import griddb_python as griddb\n",
    "print(\"import successful\")\n",
    "\n",
    "factory = griddb.StoreFactory.get_instance()\n",
    "\n",
    "host = \"127.0.0.1:10001\"\n",
    "cluster = \"myCluster\"\n",
    "db_user = \"admin\"\n",
    "db_password = \"admin\"\n",
    "\n",
    "\n",
    "try:\n",
    "        gridstore = factory.get_store(notification_member=host, cluster_name=cluster, username=db_user, password=db_password)\n",
    "        cont = gridstore.get_container(\"social_media\")\n",
    "        if cont is None:\n",
    "            print(\"Does not exist\")\n",
    "        print(\"connection successful\")\n",
    "\n",
    "        query = cont.query(\"select *\")\n",
    "        rs = query.fetch(False)\n",
    "        data = rs.fetch_rows()\n",
    "        print(type(data))\n",
    "        print(data.head())\n",
    "\n",
    "except griddb.GSException as e:\n",
    "    \n",
    "    for i in range(e.get_error_stack_size()):\n",
    "        print(\"[\",i,\"]\")\n",
    "        print(e.get_error_code(i))\n",
    "        print(e.get_location(i))\n",
    "        print(e.get_message(i))"
   ]
  },
  {
   "cell_type": "markdown",
   "metadata": {},
   "source": [
    "<img src=\"data_read.png\" alt=\"Alternative text\" />"
   ]
  },
  {
   "cell_type": "markdown",
   "metadata": {},
   "source": [
    "## 9. Basic Data Visualization"
   ]
  },
  {
   "cell_type": "markdown",
   "metadata": {},
   "source": [
    "Now that we've learnt how to load the data using both Pandas and GridDB, it's time to visualize our data.\n",
    "\n",
    "We'll first write a function to display text on top of each bin.  "
   ]
  },
  {
   "cell_type": "code",
   "execution_count": 32,
   "metadata": {
    "ExecuteTime": {
     "end_time": "2023-10-23T08:51:18.492968Z",
     "start_time": "2023-10-23T08:51:18.472030Z"
    }
   },
   "outputs": [],
   "source": [
    "def display_text(ax):\n",
    "    total=float(len(data))\n",
    "    for p in ax.patches:\n",
    "        height = p.get_height()\n",
    "        ax.text(p.get_x()+p.get_width()/2,height+2,'{0:.0%}'.format(height/total),ha=\"center\")"
   ]
  },
  {
   "cell_type": "markdown",
   "metadata": {},
   "source": [
    "### 9.1 Distribution by gender"
   ]
  },
  {
   "cell_type": "code",
   "execution_count": 11,
   "metadata": {
    "ExecuteTime": {
     "end_time": "2023-10-23T08:47:36.925439Z",
     "start_time": "2023-10-23T08:47:36.745902Z"
    }
   },
   "outputs": [
    {
     "data": {
      "image/png": "[encoded data removed]",
      "text/plain": [
       "<Figure size 432x288 with 1 Axes>"
      ]
     },
     "metadata": {
      "needs_background": "light"
     },
     "output_type": "display_data"
    }
   ],
   "source": [
    "ax = sns.countplot(x=\"Sex\", data=data, palette='Pastel1') \n",
    "display_text(ax)"
   ]
  },
  {
   "cell_type": "markdown",
   "metadata": {},
   "source": [
    "### 9.2 Distribution by Time spent"
   ]
  },
  {
   "cell_type": "code",
   "execution_count": 12,
   "metadata": {
    "ExecuteTime": {
     "end_time": "2023-10-23T08:47:39.238605Z",
     "start_time": "2023-10-23T08:47:39.079251Z"
    }
   },
   "outputs": [
    {
     "data": {
      "image/png": "[encoded data removed]",
      "text/plain": [
       "<Figure size 432x288 with 1 Axes>"
      ]
     },
     "metadata": {
      "needs_background": "light"
     },
     "output_type": "display_data"
    }
   ],
   "source": [
    "ax = sns.countplot(x=\"Time_Spent\", data=data, palette='Spectral')\n",
    "plt.xticks(rotation=45)\n",
    "display_text(ax)"
   ]
  },
  {
   "cell_type": "markdown",
   "metadata": {},
   "source": [
    "### 9.3 Distribution by Occupation"
   ]
  },
  {
   "cell_type": "code",
   "execution_count": 13,
   "metadata": {
    "ExecuteTime": {
     "end_time": "2023-10-23T08:47:41.537896Z",
     "start_time": "2023-10-23T08:47:41.406160Z"
    }
   },
   "outputs": [
    {
     "data": {
      "image/png": "[encoded data removed]",
      "text/plain": [
       "<Figure size 432x288 with 1 Axes>"
      ]
     },
     "metadata": {
      "needs_background": "light"
     },
     "output_type": "display_data"
    }
   ],
   "source": [
    "ax = sns.countplot(x=\"Occupation\", data=data, palette='Pastel2') \n",
    "plt.xticks(rotation=45)\n",
    "display_text(ax)"
   ]
  },
  {
   "cell_type": "markdown",
   "metadata": {},
   "source": [
    "To calculate the correlation between social media usage and its affect on mental health, there should be a way to quantify the score for mental health where a higher score indicates serious mental health issues. Let's see how can we do that."
   ]
  },
  {
   "cell_type": "markdown",
   "metadata": {},
   "source": [
    "## 10. Quantifying the mental health"
   ]
  },
  {
   "cell_type": "markdown",
   "metadata": {},
   "source": [
    "### 10.1 Fixing the Self-esteem column"
   ]
  },
  {
   "cell_type": "markdown",
   "metadata": {},
   "source": [
    "In the <code>Self_Esteem_Q2</code> column, a higher score implies higher self-esteem which negatively relates to mental health issues. Therefore, we'll reverse the order since we are mapping higher score to serious mental health problems."
   ]
  },
  {
   "cell_type": "markdown",
   "metadata": {},
   "source": [
    "As we're interested in knowing if social media negatively impacts an individual's mental health, we'll equate the higher self-esteem values to 0. "
   ]
  },
  {
   "cell_type": "code",
   "execution_count": 49,
   "metadata": {
    "ExecuteTime": {
     "end_time": "2023-10-23T12:30:24.275171Z",
     "start_time": "2023-10-23T12:30:24.258870Z"
    }
   },
   "outputs": [],
   "source": [
    "#Indicating positive self-esteem\n",
    "data.loc[data['Self_Esteem_Q2'] == 3, 'Self_Esteem_Q2'] = 0\n",
    "data.loc[data['Self_Esteem_Q2'] == 4, 'Self_Esteem_Q2'] = 0\n",
    "data.loc[data['Self_Esteem_Q2'] == 5, 'Self_Esteem_Q2'] = 0\n",
    "#Indicating low self-esteem\n",
    "data.loc[data['Self_Esteem_Q2'] == 1, 'Self_Esteem_Q2'] = 4\n",
    "data.loc[data['Self_Esteem_Q2'] == 2, 'Self_Esteem_Q2'] = 2"
   ]
  },
  {
   "cell_type": "code",
   "execution_count": 34,
   "metadata": {
    "ExecuteTime": {
     "end_time": "2023-10-23T08:51:27.476973Z",
     "start_time": "2023-10-23T08:51:27.439139Z"
    }
   },
   "outputs": [
    {
     "data": {
      "text/html": [
       "<div>\n",
       "<style scoped>\n",
       "    .dataframe tbody tr th:only-of-type {\n",
       "        vertical-align: middle;\n",
       "    }\n",
       "\n",
       "    .dataframe tbody tr th {\n",
       "        vertical-align: top;\n",
       "    }\n",
       "\n",
       "    .dataframe thead th {\n",
       "        text-align: right;\n",
       "    }\n",
       "</style>\n",
       "<table border=\"1\" class=\"dataframe\">\n",
       "  <thead>\n",
       "    <tr style=\"text-align: right;\">\n",
       "      <th></th>\n",
       "      <th>Timestamp</th>\n",
       "      <th>Age</th>\n",
       "      <th>Sex</th>\n",
       "      <th>Relationship_Status</th>\n",
       "      <th>Occupation</th>\n",
       "      <th>Social_Media_User</th>\n",
       "      <th>Platforms_Used</th>\n",
       "      <th>Time_Spent</th>\n",
       "      <th>ADHD_Q1</th>\n",
       "      <th>ADHD_Q2</th>\n",
       "      <th>Anxiety_Q1</th>\n",
       "      <th>ADHD_Q3</th>\n",
       "      <th>Anxiety_Q2</th>\n",
       "      <th>ADHD_Q4</th>\n",
       "      <th>Self_Esteem_Q1</th>\n",
       "      <th>Self_Esteem_Q2</th>\n",
       "      <th>Self_Esteem_Q3</th>\n",
       "      <th>Depression_Q1</th>\n",
       "      <th>Depression_Q2</th>\n",
       "      <th>Depression_Q3</th>\n",
       "    </tr>\n",
       "  </thead>\n",
       "  <tbody>\n",
       "    <tr>\n",
       "      <th>0</th>\n",
       "      <td>4/18/2022 19:18:47</td>\n",
       "      <td>21</td>\n",
       "      <td>Male</td>\n",
       "      <td>In a relationship</td>\n",
       "      <td>University Student</td>\n",
       "      <td>Yes</td>\n",
       "      <td>Facebook, Twitter, Instagram, YouTube, Discord...</td>\n",
       "      <td>Between 2 and 3 hours</td>\n",
       "      <td>5</td>\n",
       "      <td>3</td>\n",
       "      <td>2</td>\n",
       "      <td>5</td>\n",
       "      <td>2</td>\n",
       "      <td>5</td>\n",
       "      <td>2</td>\n",
       "      <td>0</td>\n",
       "      <td>2</td>\n",
       "      <td>5</td>\n",
       "      <td>4</td>\n",
       "      <td>5</td>\n",
       "    </tr>\n",
       "    <tr>\n",
       "      <th>1</th>\n",
       "      <td>4/18/2022 19:19:28</td>\n",
       "      <td>21</td>\n",
       "      <td>Female</td>\n",
       "      <td>Single</td>\n",
       "      <td>University Student</td>\n",
       "      <td>Yes</td>\n",
       "      <td>Facebook, Twitter, Instagram, YouTube, Discord...</td>\n",
       "      <td>More than 5 hours</td>\n",
       "      <td>4</td>\n",
       "      <td>3</td>\n",
       "      <td>2</td>\n",
       "      <td>4</td>\n",
       "      <td>5</td>\n",
       "      <td>4</td>\n",
       "      <td>5</td>\n",
       "      <td>4</td>\n",
       "      <td>1</td>\n",
       "      <td>5</td>\n",
       "      <td>4</td>\n",
       "      <td>5</td>\n",
       "    </tr>\n",
       "    <tr>\n",
       "      <th>2</th>\n",
       "      <td>4/18/2022 19:25:59</td>\n",
       "      <td>21</td>\n",
       "      <td>Female</td>\n",
       "      <td>Single</td>\n",
       "      <td>University Student</td>\n",
       "      <td>Yes</td>\n",
       "      <td>Facebook, Instagram, YouTube, Pinterest</td>\n",
       "      <td>Between 3 and 4 hours</td>\n",
       "      <td>3</td>\n",
       "      <td>2</td>\n",
       "      <td>1</td>\n",
       "      <td>2</td>\n",
       "      <td>5</td>\n",
       "      <td>4</td>\n",
       "      <td>3</td>\n",
       "      <td>0</td>\n",
       "      <td>1</td>\n",
       "      <td>4</td>\n",
       "      <td>2</td>\n",
       "      <td>5</td>\n",
       "    </tr>\n",
       "    <tr>\n",
       "      <th>3</th>\n",
       "      <td>4/18/2022 19:29:43</td>\n",
       "      <td>21</td>\n",
       "      <td>Female</td>\n",
       "      <td>Single</td>\n",
       "      <td>University Student</td>\n",
       "      <td>Yes</td>\n",
       "      <td>Facebook, Instagram</td>\n",
       "      <td>More than 5 hours</td>\n",
       "      <td>4</td>\n",
       "      <td>2</td>\n",
       "      <td>1</td>\n",
       "      <td>3</td>\n",
       "      <td>5</td>\n",
       "      <td>3</td>\n",
       "      <td>5</td>\n",
       "      <td>4</td>\n",
       "      <td>2</td>\n",
       "      <td>4</td>\n",
       "      <td>3</td>\n",
       "      <td>2</td>\n",
       "    </tr>\n",
       "    <tr>\n",
       "      <th>4</th>\n",
       "      <td>4/18/2022 19:33:31</td>\n",
       "      <td>21</td>\n",
       "      <td>Female</td>\n",
       "      <td>Single</td>\n",
       "      <td>University Student</td>\n",
       "      <td>Yes</td>\n",
       "      <td>Facebook, Instagram, YouTube</td>\n",
       "      <td>Between 2 and 3 hours</td>\n",
       "      <td>3</td>\n",
       "      <td>5</td>\n",
       "      <td>4</td>\n",
       "      <td>4</td>\n",
       "      <td>5</td>\n",
       "      <td>5</td>\n",
       "      <td>3</td>\n",
       "      <td>0</td>\n",
       "      <td>3</td>\n",
       "      <td>4</td>\n",
       "      <td>4</td>\n",
       "      <td>1</td>\n",
       "    </tr>\n",
       "  </tbody>\n",
       "</table>\n",
       "</div>"
      ],
      "text/plain": [
       "            Timestamp  Age     Sex Relationship_Status          Occupation  \\\n",
       "0  4/18/2022 19:18:47   21    Male   In a relationship  University Student   \n",
       "1  4/18/2022 19:19:28   21  Female              Single  University Student   \n",
       "2  4/18/2022 19:25:59   21  Female              Single  University Student   \n",
       "3  4/18/2022 19:29:43   21  Female              Single  University Student   \n",
       "4  4/18/2022 19:33:31   21  Female              Single  University Student   \n",
       "\n",
       "  Social_Media_User                                     Platforms_Used  \\\n",
       "0               Yes  Facebook, Twitter, Instagram, YouTube, Discord...   \n",
       "1               Yes  Facebook, Twitter, Instagram, YouTube, Discord...   \n",
       "2               Yes            Facebook, Instagram, YouTube, Pinterest   \n",
       "3               Yes                                Facebook, Instagram   \n",
       "4               Yes                       Facebook, Instagram, YouTube   \n",
       "\n",
       "              Time_Spent  ADHD_Q1  ADHD_Q2  Anxiety_Q1  ADHD_Q3  Anxiety_Q2  \\\n",
       "0  Between 2 and 3 hours        5        3           2        5           2   \n",
       "1      More than 5 hours        4        3           2        4           5   \n",
       "2  Between 3 and 4 hours        3        2           1        2           5   \n",
       "3      More than 5 hours        4        2           1        3           5   \n",
       "4  Between 2 and 3 hours        3        5           4        4           5   \n",
       "\n",
       "   ADHD_Q4  Self_Esteem_Q1  Self_Esteem_Q2  Self_Esteem_Q3  Depression_Q1  \\\n",
       "0        5               2               0               2              5   \n",
       "1        4               5               4               1              5   \n",
       "2        4               3               0               1              4   \n",
       "3        3               5               4               2              4   \n",
       "4        5               3               0               3              4   \n",
       "\n",
       "   Depression_Q2  Depression_Q3  \n",
       "0              4              5  \n",
       "1              4              5  \n",
       "2              2              5  \n",
       "3              3              2  \n",
       "4              4              1  "
      ]
     },
     "execution_count": 34,
     "metadata": {},
     "output_type": "execute_result"
    }
   ],
   "source": [
    "data.head()"
   ]
  },
  {
   "cell_type": "markdown",
   "metadata": {},
   "source": [
    "Earlier, we mentioned that we need to quantify the mental health factor. One way is to add up the scores of all ADHD, Anxiety, Self-esteem, and Depression questions. If the total score passes a certain threshold, we can say that the person is experiencing serious mental health issues."
   ]
  },
  {
   "cell_type": "markdown",
   "metadata": {},
   "source": [
    "### 10.2 Adding a new column"
   ]
  },
  {
   "cell_type": "code",
   "execution_count": 50,
   "metadata": {
    "ExecuteTime": {
     "end_time": "2023-10-23T12:30:27.449918Z",
     "start_time": "2023-10-23T12:30:27.437612Z"
    }
   },
   "outputs": [],
   "source": [
    "Total = ['ADHD_Q1', 'ADHD_Q2', 'ADHD_Q3', 'ADHD_Q4', 'Anxiety_Q1', 'Anxiety_Q2', 'Self_Esteem_Q1', 'Self_Esteem_Q2','Self_Esteem_Q3', 'Depression_Q1', 'Depression_Q2','Depression_Q3']\n",
    "data['Total_Score'] = data[Total].sum(axis=1)\n",
    "data = data.drop(Total+['Timestamp'], axis=1)"
   ]
  },
  {
   "cell_type": "markdown",
   "metadata": {},
   "source": [
    "We dropped the individual question columns along with the <code>Timestamp</code> column because it is no longer needed. The updated dataset looks as follows:"
   ]
  },
  {
   "cell_type": "code",
   "execution_count": 36,
   "metadata": {
    "ExecuteTime": {
     "end_time": "2023-10-23T08:51:31.306459Z",
     "start_time": "2023-10-23T08:51:31.293631Z"
    }
   },
   "outputs": [
    {
     "data": {
      "text/html": [
       "<div>\n",
       "<style scoped>\n",
       "    .dataframe tbody tr th:only-of-type {\n",
       "        vertical-align: middle;\n",
       "    }\n",
       "\n",
       "    .dataframe tbody tr th {\n",
       "        vertical-align: top;\n",
       "    }\n",
       "\n",
       "    .dataframe thead th {\n",
       "        text-align: right;\n",
       "    }\n",
       "</style>\n",
       "<table border=\"1\" class=\"dataframe\">\n",
       "  <thead>\n",
       "    <tr style=\"text-align: right;\">\n",
       "      <th></th>\n",
       "      <th>Age</th>\n",
       "      <th>Sex</th>\n",
       "      <th>Relationship_Status</th>\n",
       "      <th>Occupation</th>\n",
       "      <th>Social_Media_User</th>\n",
       "      <th>Platforms_Used</th>\n",
       "      <th>Time_Spent</th>\n",
       "      <th>Total_Score</th>\n",
       "    </tr>\n",
       "  </thead>\n",
       "  <tbody>\n",
       "    <tr>\n",
       "      <th>0</th>\n",
       "      <td>21</td>\n",
       "      <td>Male</td>\n",
       "      <td>In a relationship</td>\n",
       "      <td>University Student</td>\n",
       "      <td>Yes</td>\n",
       "      <td>Facebook, Twitter, Instagram, YouTube, Discord...</td>\n",
       "      <td>Between 2 and 3 hours</td>\n",
       "      <td>40</td>\n",
       "    </tr>\n",
       "    <tr>\n",
       "      <th>1</th>\n",
       "      <td>21</td>\n",
       "      <td>Female</td>\n",
       "      <td>Single</td>\n",
       "      <td>University Student</td>\n",
       "      <td>Yes</td>\n",
       "      <td>Facebook, Twitter, Instagram, YouTube, Discord...</td>\n",
       "      <td>More than 5 hours</td>\n",
       "      <td>46</td>\n",
       "    </tr>\n",
       "    <tr>\n",
       "      <th>2</th>\n",
       "      <td>21</td>\n",
       "      <td>Female</td>\n",
       "      <td>Single</td>\n",
       "      <td>University Student</td>\n",
       "      <td>Yes</td>\n",
       "      <td>Facebook, Instagram, YouTube, Pinterest</td>\n",
       "      <td>Between 3 and 4 hours</td>\n",
       "      <td>32</td>\n",
       "    </tr>\n",
       "    <tr>\n",
       "      <th>3</th>\n",
       "      <td>21</td>\n",
       "      <td>Female</td>\n",
       "      <td>Single</td>\n",
       "      <td>University Student</td>\n",
       "      <td>Yes</td>\n",
       "      <td>Facebook, Instagram</td>\n",
       "      <td>More than 5 hours</td>\n",
       "      <td>38</td>\n",
       "    </tr>\n",
       "    <tr>\n",
       "      <th>4</th>\n",
       "      <td>21</td>\n",
       "      <td>Female</td>\n",
       "      <td>Single</td>\n",
       "      <td>University Student</td>\n",
       "      <td>Yes</td>\n",
       "      <td>Facebook, Instagram, YouTube</td>\n",
       "      <td>Between 2 and 3 hours</td>\n",
       "      <td>41</td>\n",
       "    </tr>\n",
       "  </tbody>\n",
       "</table>\n",
       "</div>"
      ],
      "text/plain": [
       "   Age     Sex Relationship_Status          Occupation Social_Media_User  \\\n",
       "0   21    Male   In a relationship  University Student               Yes   \n",
       "1   21  Female              Single  University Student               Yes   \n",
       "2   21  Female              Single  University Student               Yes   \n",
       "3   21  Female              Single  University Student               Yes   \n",
       "4   21  Female              Single  University Student               Yes   \n",
       "\n",
       "                                      Platforms_Used             Time_Spent  \\\n",
       "0  Facebook, Twitter, Instagram, YouTube, Discord...  Between 2 and 3 hours   \n",
       "1  Facebook, Twitter, Instagram, YouTube, Discord...      More than 5 hours   \n",
       "2            Facebook, Instagram, YouTube, Pinterest  Between 3 and 4 hours   \n",
       "3                                Facebook, Instagram      More than 5 hours   \n",
       "4                       Facebook, Instagram, YouTube  Between 2 and 3 hours   \n",
       "\n",
       "   Total_Score  \n",
       "0           40  \n",
       "1           46  \n",
       "2           32  \n",
       "3           38  \n",
       "4           41  "
      ]
     },
     "execution_count": 36,
     "metadata": {},
     "output_type": "execute_result"
    }
   ],
   "source": [
    "data.head()"
   ]
  },
  {
   "cell_type": "markdown",
   "metadata": {},
   "source": [
    "Next up, we need to decide the threshold score. The highest score that can be attained is 59. As a general rule, we can say if someone scores 60% or higher, they can come under the category of serious mental health issues. Therefore, we have set the threshold to be 35."
   ]
  },
  {
   "cell_type": "code",
   "execution_count": 51,
   "metadata": {
    "ExecuteTime": {
     "end_time": "2023-10-23T12:30:31.052265Z",
     "start_time": "2023-10-23T12:30:31.038949Z"
    }
   },
   "outputs": [],
   "source": [
    "def map_score(score):\n",
    "  if score < 35:\n",
    "    return \"0\"\n",
    "  elif score >= 35:\n",
    "    return \"1\"\n",
    "\n",
    "data['Is_serious']= data['Total_Score'].apply(lambda score: map_score(score))\n",
    "data['Is_serious'] = data['Is_serious'].astype(int)"
   ]
  },
  {
   "cell_type": "markdown",
   "metadata": {},
   "source": [
    "Let's have a look at our updated data."
   ]
  },
  {
   "cell_type": "code",
   "execution_count": 17,
   "metadata": {
    "ExecuteTime": {
     "end_time": "2023-10-23T08:47:53.941206Z",
     "start_time": "2023-10-23T08:47:53.925130Z"
    }
   },
   "outputs": [
    {
     "data": {
      "text/html": [
       "<div>\n",
       "<style scoped>\n",
       "    .dataframe tbody tr th:only-of-type {\n",
       "        vertical-align: middle;\n",
       "    }\n",
       "\n",
       "    .dataframe tbody tr th {\n",
       "        vertical-align: top;\n",
       "    }\n",
       "\n",
       "    .dataframe thead th {\n",
       "        text-align: right;\n",
       "    }\n",
       "</style>\n",
       "<table border=\"1\" class=\"dataframe\">\n",
       "  <thead>\n",
       "    <tr style=\"text-align: right;\">\n",
       "      <th></th>\n",
       "      <th>Age</th>\n",
       "      <th>Sex</th>\n",
       "      <th>Relationship_Status</th>\n",
       "      <th>Occupation</th>\n",
       "      <th>Social_Media_User</th>\n",
       "      <th>Platforms_Used</th>\n",
       "      <th>Time_Spent</th>\n",
       "      <th>Total Score</th>\n",
       "      <th>Is_serious</th>\n",
       "    </tr>\n",
       "  </thead>\n",
       "  <tbody>\n",
       "    <tr>\n",
       "      <th>0</th>\n",
       "      <td>21</td>\n",
       "      <td>Male</td>\n",
       "      <td>In a relationship</td>\n",
       "      <td>University Student</td>\n",
       "      <td>Yes</td>\n",
       "      <td>Facebook, Twitter, Instagram, YouTube, Discord...</td>\n",
       "      <td>Between 2 and 3 hours</td>\n",
       "      <td>40</td>\n",
       "      <td>1</td>\n",
       "    </tr>\n",
       "    <tr>\n",
       "      <th>1</th>\n",
       "      <td>21</td>\n",
       "      <td>Female</td>\n",
       "      <td>Single</td>\n",
       "      <td>University Student</td>\n",
       "      <td>Yes</td>\n",
       "      <td>Facebook, Twitter, Instagram, YouTube, Discord...</td>\n",
       "      <td>More than 5 hours</td>\n",
       "      <td>46</td>\n",
       "      <td>1</td>\n",
       "    </tr>\n",
       "    <tr>\n",
       "      <th>2</th>\n",
       "      <td>21</td>\n",
       "      <td>Female</td>\n",
       "      <td>Single</td>\n",
       "      <td>University Student</td>\n",
       "      <td>Yes</td>\n",
       "      <td>Facebook, Instagram, YouTube, Pinterest</td>\n",
       "      <td>Between 3 and 4 hours</td>\n",
       "      <td>32</td>\n",
       "      <td>0</td>\n",
       "    </tr>\n",
       "    <tr>\n",
       "      <th>3</th>\n",
       "      <td>21</td>\n",
       "      <td>Female</td>\n",
       "      <td>Single</td>\n",
       "      <td>University Student</td>\n",
       "      <td>Yes</td>\n",
       "      <td>Facebook, Instagram</td>\n",
       "      <td>More than 5 hours</td>\n",
       "      <td>38</td>\n",
       "      <td>1</td>\n",
       "    </tr>\n",
       "    <tr>\n",
       "      <th>4</th>\n",
       "      <td>21</td>\n",
       "      <td>Female</td>\n",
       "      <td>Single</td>\n",
       "      <td>University Student</td>\n",
       "      <td>Yes</td>\n",
       "      <td>Facebook, Instagram, YouTube</td>\n",
       "      <td>Between 2 and 3 hours</td>\n",
       "      <td>41</td>\n",
       "      <td>1</td>\n",
       "    </tr>\n",
       "  </tbody>\n",
       "</table>\n",
       "</div>"
      ],
      "text/plain": [
       "   Age     Sex Relationship_Status          Occupation Social_Media_User  \\\n",
       "0   21    Male   In a relationship  University Student               Yes   \n",
       "1   21  Female              Single  University Student               Yes   \n",
       "2   21  Female              Single  University Student               Yes   \n",
       "3   21  Female              Single  University Student               Yes   \n",
       "4   21  Female              Single  University Student               Yes   \n",
       "\n",
       "                                      Platforms_Used             Time_Spent  \\\n",
       "0  Facebook, Twitter, Instagram, YouTube, Discord...  Between 2 and 3 hours   \n",
       "1  Facebook, Twitter, Instagram, YouTube, Discord...      More than 5 hours   \n",
       "2            Facebook, Instagram, YouTube, Pinterest  Between 3 and 4 hours   \n",
       "3                                Facebook, Instagram      More than 5 hours   \n",
       "4                       Facebook, Instagram, YouTube  Between 2 and 3 hours   \n",
       "\n",
       "   Total Score  Is_serious  \n",
       "0           40           1  \n",
       "1           46           1  \n",
       "2           32           0  \n",
       "3           38           1  \n",
       "4           41           1  "
      ]
     },
     "execution_count": 17,
     "metadata": {},
     "output_type": "execute_result"
    }
   ],
   "source": [
    "data.head()"
   ]
  },
  {
   "cell_type": "markdown",
   "metadata": {},
   "source": [
    "We can also see the distribution using a countplot."
   ]
  },
  {
   "cell_type": "code",
   "execution_count": 52,
   "metadata": {
    "ExecuteTime": {
     "end_time": "2023-10-23T12:30:35.047987Z",
     "start_time": "2023-10-23T12:30:34.971288Z"
    },
    "scrolled": true
   },
   "outputs": [
    {
     "data": {
      "image/png": "[encoded data removed]",
      "text/plain": [
       "<Figure size 432x288 with 1 Axes>"
      ]
     },
     "metadata": {
      "needs_background": "light"
     },
     "output_type": "display_data"
    }
   ],
   "source": [
    "ax = sns.countplot(x=\"Is_serious\", data=data, palette='Pastel1') \n",
    "display_text(ax)"
   ]
  },
  {
   "cell_type": "markdown",
   "metadata": {},
   "source": [
    "The above graph tells us that 37% of total people who participated in the survey are facing serious mental health issues. The next question is - is it because of social media?"
   ]
  },
  {
   "cell_type": "markdown",
   "metadata": {},
   "source": [
    "## 11. Correlation between social media usage and mental health score"
   ]
  },
  {
   "cell_type": "markdown",
   "metadata": {},
   "source": [
    "We only have one numerical column - <code>Age</code> to match with the </code>Is_serious</code> column. Other columns are categorical, hence we can't plot a pairplot. First, we need to convert them to numerical values."
   ]
  },
  {
   "cell_type": "markdown",
   "metadata": {},
   "source": [
    "### 11.2 Converting the Gender column"
   ]
  },
  {
   "cell_type": "code",
   "execution_count": 53,
   "metadata": {
    "ExecuteTime": {
     "end_time": "2023-10-23T12:30:38.067985Z",
     "start_time": "2023-10-23T12:30:38.051393Z"
    }
   },
   "outputs": [],
   "source": [
    "data.loc[data['Sex'] == 'Male', 'Sex'] = 0\n",
    "data.loc[data['Sex'] == 'Female', 'Sex'] = 1\n",
    "data.loc[data['Sex'] == 'Nonbinary', 'Sex'] = 2\n",
    "data.loc[data['Sex'] == 'Trans', 'Sex'] = 2\n",
    "data['Sex'] = data['Sex'].astype(int)"
   ]
  },
  {
   "cell_type": "markdown",
   "metadata": {},
   "source": [
    "### 11.3 Converting the Time spent column"
   ]
  },
  {
   "cell_type": "code",
   "execution_count": 60,
   "metadata": {
    "ExecuteTime": {
     "end_time": "2023-10-23T12:34:52.860727Z",
     "start_time": "2023-10-23T12:34:52.840318Z"
    }
   },
   "outputs": [],
   "source": [
    "data.loc[data['Time_Spent'] == 'Less than an Hour', 'Time_Spent'] = 0\n",
    "data.loc[data['Time_Spent'] == 'Between 1 and 2 hours', 'Time_Spent'] = 1\n",
    "data.loc[data['Time_Spent'] == 'Between 2 and 3 hours', 'Time_Spent'] = 2\n",
    "data.loc[data['Time_Spent'] == 'Between 3 and 4 hours', 'Time_Spent'] = 3\n",
    "data.loc[data['Time_Spent'] == 'Between 4 and 5 hours', 'Time_Spent'] = 4\n",
    "data.loc[data['Time_Spent'] == 'More than 5 hours', 'Time_Spent'] = 5\n",
    "data['Time_Spent'] = data['Time_Spent'].astype(int)"
   ]
  },
  {
   "cell_type": "code",
   "execution_count": 61,
   "metadata": {
    "ExecuteTime": {
     "end_time": "2023-10-23T12:34:53.164797Z",
     "start_time": "2023-10-23T12:34:53.133174Z"
    }
   },
   "outputs": [
    {
     "name": "stdout",
     "output_type": "stream",
     "text": [
      "<class 'pandas.core.frame.DataFrame'>\n",
      "Int64Index: 479 entries, 0 to 480\n",
      "Data columns (total 9 columns):\n",
      " #   Column               Non-Null Count  Dtype \n",
      "---  ------               --------------  ----- \n",
      " 0   Age                  479 non-null    int32 \n",
      " 1   Sex                  479 non-null    int32 \n",
      " 2   Relationship_Status  479 non-null    object\n",
      " 3   Occupation           479 non-null    object\n",
      " 4   Social_Media_User    479 non-null    object\n",
      " 5   Platforms_Used       479 non-null    object\n",
      " 6   Time_Spent           479 non-null    int32 \n",
      " 7   Total_Score          479 non-null    int64 \n",
      " 8   Is_serious           479 non-null    int32 \n",
      "dtypes: int32(4), int64(1), object(4)\n",
      "memory usage: 49.9+ KB\n"
     ]
    }
   ],
   "source": [
    "data.info()"
   ]
  },
  {
   "cell_type": "markdown",
   "metadata": {},
   "source": [
    "### 11.4 Plotting correlation"
   ]
  },
  {
   "cell_type": "code",
   "execution_count": 62,
   "metadata": {
    "ExecuteTime": {
     "end_time": "2023-10-23T12:34:57.515198Z",
     "start_time": "2023-10-23T12:34:57.501837Z"
    },
    "scrolled": true
   },
   "outputs": [
    {
     "data": {
      "text/html": [
       "<div>\n",
       "<style scoped>\n",
       "    .dataframe tbody tr th:only-of-type {\n",
       "        vertical-align: middle;\n",
       "    }\n",
       "\n",
       "    .dataframe tbody tr th {\n",
       "        vertical-align: top;\n",
       "    }\n",
       "\n",
       "    .dataframe thead th {\n",
       "        text-align: right;\n",
       "    }\n",
       "</style>\n",
       "<table border=\"1\" class=\"dataframe\">\n",
       "  <thead>\n",
       "    <tr style=\"text-align: right;\">\n",
       "      <th></th>\n",
       "      <th>Age</th>\n",
       "      <th>Sex</th>\n",
       "      <th>Time_Spent</th>\n",
       "      <th>Total_Score</th>\n",
       "      <th>Is_serious</th>\n",
       "    </tr>\n",
       "  </thead>\n",
       "  <tbody>\n",
       "    <tr>\n",
       "      <th>Age</th>\n",
       "      <td>1.000000</td>\n",
       "      <td>-0.130833</td>\n",
       "      <td>-0.360503</td>\n",
       "      <td>-0.306462</td>\n",
       "      <td>-0.265499</td>\n",
       "    </tr>\n",
       "    <tr>\n",
       "      <th>Sex</th>\n",
       "      <td>-0.130833</td>\n",
       "      <td>1.000000</td>\n",
       "      <td>0.213539</td>\n",
       "      <td>0.148202</td>\n",
       "      <td>0.127479</td>\n",
       "    </tr>\n",
       "    <tr>\n",
       "      <th>Time_Spent</th>\n",
       "      <td>-0.360503</td>\n",
       "      <td>0.213539</td>\n",
       "      <td>1.000000</td>\n",
       "      <td>0.444768</td>\n",
       "      <td>0.392661</td>\n",
       "    </tr>\n",
       "    <tr>\n",
       "      <th>Total_Score</th>\n",
       "      <td>-0.306462</td>\n",
       "      <td>0.148202</td>\n",
       "      <td>0.444768</td>\n",
       "      <td>1.000000</td>\n",
       "      <td>0.817281</td>\n",
       "    </tr>\n",
       "    <tr>\n",
       "      <th>Is_serious</th>\n",
       "      <td>-0.265499</td>\n",
       "      <td>0.127479</td>\n",
       "      <td>0.392661</td>\n",
       "      <td>0.817281</td>\n",
       "      <td>1.000000</td>\n",
       "    </tr>\n",
       "  </tbody>\n",
       "</table>\n",
       "</div>"
      ],
      "text/plain": [
       "                  Age       Sex  Time_Spent  Total_Score  Is_serious\n",
       "Age          1.000000 -0.130833   -0.360503    -0.306462   -0.265499\n",
       "Sex         -0.130833  1.000000    0.213539     0.148202    0.127479\n",
       "Time_Spent  -0.360503  0.213539    1.000000     0.444768    0.392661\n",
       "Total_Score -0.306462  0.148202    0.444768     1.000000    0.817281\n",
       "Is_serious  -0.265499  0.127479    0.392661     0.817281    1.000000"
      ]
     },
     "execution_count": 62,
     "metadata": {},
     "output_type": "execute_result"
    }
   ],
   "source": [
    "data.corr()"
   ]
  },
  {
   "cell_type": "markdown",
   "metadata": {},
   "source": [
    "As we can see, time spent on social media weakly correlates with the <code>Total_Score</code> and <code>Is_serious</code> with a value of <code>0.44</code> and <code>0.39</code> respectively. \n",
    "\n",
    "Moreover, time spent and age are negatively correlated indicating the higher the age, less the time spent on social media, and hence, less the total score.\n",
    "\n",
    "Since this is a weak correlation, we cannot conclude this result for sure. There could be other underlying factors causing the mental health of an individual to be affected negatively."
   ]
  },
  {
   "cell_type": "code",
   "execution_count": 56,
   "metadata": {
    "ExecuteTime": {
     "end_time": "2023-10-23T12:31:03.051718Z",
     "start_time": "2023-10-23T12:30:59.931605Z"
    },
    "scrolled": true
   },
   "outputs": [
    {
     "data": {
      "text/plain": [
       "<seaborn.axisgrid.PairGrid at 0x1f44608d250>"
      ]
     },
     "execution_count": 56,
     "metadata": {},
     "output_type": "execute_result"
    },
    {
     "data": {
      "image/png": "[encoded data removed]",
      "text/plain": [
       "<Figure size 777.125x720 with 20 Axes>"
      ]
     },
     "metadata": {
      "needs_background": "light"
     },
     "output_type": "display_data"
    }
   ],
   "source": [
    "sns.pairplot(data,hue='Is_serious',diag_kind='kde')"
   ]
  },
  {
   "cell_type": "markdown",
   "metadata": {},
   "source": [
    "The pairplot between different columns shows a clear segmentation in some. However, in most of the plots, the blue and orange dots are overlapping, indicating we can't separate the two kinds of individuals from this alone."
   ]
  },
  {
   "cell_type": "markdown",
   "metadata": {},
   "source": [
    "## 11. Conclusion"
   ]
  },
  {
   "cell_type": "markdown",
   "metadata": {},
   "source": [
    "In this tutorial, we plotted the correlation between time spent on social media and the individual's mental health. We first began by importing the data and preprocessing it. We also learnt how to use GridDB for data insertion and extraction. This is useful when working with large amounts of data.\n",
    "\n",
    "After successfully reading the data from GridDB, we made our way to Data Visualization. We saw individual factor distribution. Later on, we plotted these factors with the total mental health score. We concluded that there is a weak positive correlation between time spent on social media and the total score of an indiviual. We also saw that age negatively correlates with time spent online."
   ]
  },
  {
   "cell_type": "markdown",
   "metadata": {},
   "source": [
    "## 12. References"
   ]
  },
  {
   "cell_type": "markdown",
   "metadata": {},
   "source": [
    "1. https://www.kaggle.com/datasets/souvikahmed071/social-media-and-mental-health\n",
    "2. https://www.kaggle.com/code/souvikahmed071/correlation-between-sm-and-mental-health"
   ]
  }
 ],
 "metadata": {
  "kernelspec": {
   "display_name": "Python 3",
   "language": "python",
   "name": "python3"
  },
  "language_info": {
   "codemirror_mode": {
    "name": "ipython",
    "version": 3
   },
   "file_extension": ".py",
   "mimetype": "text/x-python",
   "name": "python",
   "nbconvert_exporter": "python",
   "pygments_lexer": "ipython3",
   "version": "3.8.3"
  }
 },
 "nbformat": 4,
 "nbformat_minor": 4
}
