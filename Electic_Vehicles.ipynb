{
 "cells": [
  {
   "cell_type": "code",
   "execution_count": null,
   "id": "0d148ddc",
   "metadata": {},
   "outputs": [],
   "source": [
    "import os\n",
    "os.chdir('PLEASE PUT YOUR WORKING DIRECTORY HERE')\n",
    "import numpy as np\n",
    "import pandas as pd\n",
    "import pandas as pd\n",
    "import numpy as np\n",
    "import plotly.express as px\n",
    "import plotly.figure_factory as ff\n",
    "import plotly.graph_objects as go\n",
    "from plotly.subplots import make_subplots\n",
    "import plotly.offline as pyo\n",
    "pyo.init_notebook_mode()\n",
    "import altair as alt\n",
    "import folium\n",
    "import seaborn as sns\n",
    "import requests\n",
    "import http\n",
    "http.client.HTTPConnection.debuglevel = 1\n",
    "import json\n",
    "import re"
   ]
  },
  {
   "cell_type": "markdown",
   "id": "35491966",
   "metadata": {},
   "source": [
    "# About the Analysis and the Dataset - A synopsis"
   ]
  },
  {
   "cell_type": "markdown",
   "id": "b84ffee3",
   "metadata": {},
   "source": [
    "As per official sources, Washington State's governor Jay Inslee has recently set a goal of phasing out most gasoline powered car sales by 2035 and having 100% electric powered vehicles by 2040. Here is the executive order from the official website of the <a href= \"https://www.governor.wa.gov/sites/default/files/exe_order/21-04%20-%20Zero%20Emission%20Vehicles.pdf\"> Washington Government on Battery Electric Vehicles (BEVs).</a> Officials of the State of Washington believe that the sudden changes in weather and increase in catastrophes are being caused by continuous vehicle emissions and pollutants from gasoline powered vehicles.Another state that follows Washington's route is New Jersey which has banned the sale of gasoline vehicles after 2035 as per <a href=\"https://www.pcmag.com/news/new-jersey-bans-sales-of-gasoline-powered-cars-after-2035\"> PCMag </a>. <p> Let's analyze the electric vehicles registered under Washington State's Department of Licensing. To do this, we use the open dataset 'Electric Vehicle Population Data' from the data.gov website. Here is a <a href = \"https://catalog.data.gov/dataset/electric-vehicle-population-data\"> direct URL to the dataset. </a> From the 'Downloads & Resources' section, click on 'Download' button next to the 'Comma Separated Values File'as shown below -"
   ]
  },
  {
   "cell_type": "markdown",
   "id": "ff69dba6",
   "metadata": {},
   "source": [
    "The resulting file has the file name 'Electric_Vehicle_Population_Data.csv'. Save this to your working directory."
   ]
  },
  {
   "cell_type": "markdown",
   "id": "edce9c2d",
   "metadata": {},
   "source": [
    "Let's load this data from the csv file into a dataframe for use later. "
   ]
  },
  {
   "cell_type": "code",
   "execution_count": null,
   "id": "73c8f59f",
   "metadata": {},
   "outputs": [],
   "source": [
    "Electric_Vehicle_Data = pd.read_csv('Electric_Vehicle_Population_Data.csv',sep=',')\n",
    "# Removing columns #DOL Vehicle ID, 2020 Census Tract\n",
    "Electric_Vehicle_Data = Electric_Vehicle_Data.drop(['DOL Vehicle ID', '2020 Census Tract'], axis=1)"
   ]
  },
  {
   "cell_type": "markdown",
   "id": "1f96ff01",
   "metadata": {},
   "source": [
    "As the data is huge, we create subsets of the data using np.array_split(). We will use this to load data in batches into the GridDB container."
   ]
  },
  {
   "cell_type": "code",
   "execution_count": null,
   "id": "22576b99",
   "metadata": {},
   "outputs": [],
   "source": [
    "#creating 12 subsets of the data\n",
    "Electric_Vehicle_Subsets = np.array_split(Electric_Vehicle_Data, 12)"
   ]
  },
  {
   "cell_type": "markdown",
   "id": "a57d77a5",
   "metadata": {},
   "source": [
    "# Creating the Request and Containers"
   ]
  },
  {
   "cell_type": "markdown",
   "id": "a822502a",
   "metadata": {},
   "source": [
    "### Authorization"
   ]
  },
  {
   "cell_type": "markdown",
   "id": "55327dac",
   "metadata": {},
   "source": [
    "While connecting to GridDB cloud, the Request that is constructed should have the username and password encoded to base64. To determine the base64 encoded credentials for your username and password, you can use a tool such as https://www.base64encode.org/. Refer to the GridDB resource listed here to learn more about the different entities involved in creating a request - https://griddb.net/en/blog/using-griddb-cloud-version-1-2/."
   ]
  },
  {
   "cell_type": "markdown",
   "id": "09b2d48e",
   "metadata": {},
   "source": [
    "### Creating the Request"
   ]
  },
  {
   "cell_type": "code",
   "execution_count": null,
   "id": "34eb3047",
   "metadata": {},
   "outputs": [],
   "source": [
    "#Construct an object to hold the request headers (ensure that you replace the XXX placeholder with the correct value that matches the credentials for your GridDB instance)\n",
    "header_obj = {\"Authorization\":\"Basic XXX\",\"Content-Type\":\"application/json; charset=UTF-8\",\"User-Agent\":\"PostmanRuntime/7.29.0\"}\n",
    "\n",
    "#Construct the base URL based on your GridDB cluster you'd like to connect to (ensure that you replace the placeholders in the URL below with the correct values that correspond to your GridDB instance)\n",
    "base_url = 'https://[host]:[port]/griddb/v2/[clustername]/dbs/[database_name]/'"
   ]
  },
  {
   "cell_type": "markdown",
   "id": "974e4e4d",
   "metadata": {},
   "source": [
    "### Creating the container Electric_Vehicles"
   ]
  },
  {
   "cell_type": "code",
   "execution_count": null,
   "id": "5ca96709",
   "metadata": {},
   "outputs": [],
   "source": [
    "#Construct an object to hold the request body (i.e., the container that needs to be created)\n",
    "\n",
    "data_obj = {\n",
    "    \"container_name\": \"Electric_Vehicles\",\n",
    "    \"container_type\": \"COLLECTION\",\n",
    "    \"rowkey\": False,\n",
    "    \"columns\": [\n",
    "    {\n",
    "    \"name\": \"VIN\",\n",
    "    \"type\": \"STRING\"\n",
    "    },\n",
    "    {\n",
    "    \"name\": \"County\",\n",
    "    \"type\": \"STRING\"\n",
    "    },\n",
    "    {\n",
    "    \"name\": \"City\",\n",
    "    \"type\": \"STRING\"\n",
    "    },\n",
    "    {\n",
    "    \"name\": \"State\",\n",
    "    \"type\": \"STRING\"\n",
    "    },\n",
    "    {\n",
    "    \"name\": \"PostalCode\",\n",
    "    \"type\": \"STRING\"\n",
    "    },\n",
    "    {\n",
    "    \"name\": \"Model_Year\",\n",
    "    \"type\": \"INTEGER\"\n",
    "    },\n",
    "    {\n",
    "    \"name\": \"Make\",\n",
    "    \"type\": \"STRING\"\n",
    "    },\n",
    "    {\n",
    "    \"name\": \"Model\",\n",
    "    \"type\": \"STRING\"\n",
    "    },\n",
    "    {\n",
    "    \"name\": \"Electric_Vehicle_Type\", \n",
    "    \"type\": \"STRING\"\n",
    "    },\n",
    "    {\n",
    "    \"name\": \"CAFV\",\n",
    "    \"type\": \"STRING\"\n",
    "    },\n",
    "    {\n",
    "    \"name\": \"Electric_Range\",\n",
    "    \"type\": \"INTEGER\"\n",
    "    },\n",
    "    {\n",
    "    \"name\": \"Base_MSRP\",\n",
    "    \"type\": \"FLOAT\"\n",
    "    },\n",
    "    {\n",
    "    \"name\": \"Legislative_District\",\n",
    "    \"type\": \"STRING\"\n",
    "    },\n",
    "    {\n",
    "    \"name\": \"Vehicle_Location\",\n",
    "    \"type\": \"STRING\"\n",
    "    },\n",
    "    {\n",
    "    \"name\": \"Electric_Utility\",\n",
    "    \"type\": \"STRING\"\n",
    "    }\n",
    "    ]\n",
    "}\n",
    "\n",
    "\n",
    "#Set up the GridDB WebAPI URL\n",
    "url = base_url + 'containers'\n",
    "\n",
    "#Invoke the GridDB WebAPI with the headers and the request body\n",
    "x = requests.post(url, json = data_obj, headers = header_obj)"
   ]
  },
  {
   "cell_type": "markdown",
   "id": "51c3b011",
   "metadata": {},
   "source": [
    "# Loading the Container with Data (Row-Registration)"
   ]
  },
  {
   "cell_type": "markdown",
   "id": "03f7661c",
   "metadata": {},
   "source": [
    "<p> The process of loading rows into a container is called 'Row Registration' in GridDB terminology. Here is a resource to learn more about the GridDB WebAPI and the process of 'Row Registration' - https://www.toshiba-sol.co.jp/en/pro/griddb/docs-en/v4_6/GridDB_Web_API_Reference.html#row-registration </p>\n",
    "\n",
    "<p> To load data into the container, we create a JSON structure of the data in the dataframe (Refer to the section 'About the Analysis and the Dataset - A synopsis'). </p>\n",
    "\n",
    "<p>GridDB supports batch loading. If you are using the SDK, here is a useful resource - https://griddb.net/en/blog/griddb-optimization-with-multi-put-and-query/. If you use the WebAPI, then you can just use a simple for loop to load your subsets of data into your GridDB container. </p>"
   ]
  },
  {
   "cell_type": "code",
   "execution_count": null,
   "id": "a307797a",
   "metadata": {},
   "outputs": [],
   "source": [
    "#Setup the URL to be used to invoke the GridDB WebAPI to register rows in the container created previously\n",
    "url = base_url + 'containers/Electric_Vehicles/rows'\n",
    "\n",
    "#Invoke the GridDB WebAPI using the request constructed\n",
    "for subset in  Electric_Vehicle_Subsets:\n",
    "    #Convert the data in the dataframe to the JSON format\n",
    "    Electric_Vehicle_Subset_json = subset.to_json(orient='values')\n",
    "    request_body_subset = Electric_Vehicle_Subset_json\n",
    "    x = requests.put(url, data=request_body_subset, headers=header_obj)\n",
    "    print(x.text)\n",
    "    if x.status_code > 299: #To account for HTTP response codes indicating a success - 200 and 201 etc.\n",
    "        print(x.status_code) # an error has occurred; so, lets stop the process here\n",
    "        break"
   ]
  },
  {
   "cell_type": "markdown",
   "id": "b9e0f572",
   "metadata": {},
   "source": [
    "# Data Analysis and Visualization"
   ]
  },
  {
   "cell_type": "markdown",
   "id": "bf5f23a6",
   "metadata": {},
   "source": [
    "## What are the types of electric vehicles available today?"
   ]
  },
  {
   "cell_type": "code",
   "execution_count": null,
   "id": "2fbc4788",
   "metadata": {},
   "outputs": [],
   "source": [
    "sql_query1 = (f\"\"\"SELECT DISTINCT Electric_Vehicle_Type, COUNT(*) AS cnt_vehicles FROM Electric_Vehicles GROUP BY 1\"\"\")"
   ]
  },
  {
   "cell_type": "code",
   "execution_count": null,
   "id": "3d428d83",
   "metadata": {},
   "outputs": [],
   "source": [
    "#Setup the URL to be used to invoke the GridDB WebAPI to retrieve data from the container\n",
    "url = base_url + 'sql'\n",
    "\n",
    "#Construct the request body\n",
    "request_body = '[{\"type\":\"sql-select\", \"stmt\":\"'+sql_query1+'\"}]'\n",
    "\n",
    "#Validate the constructed request body\n",
    "request_body"
   ]
  },
  {
   "cell_type": "code",
   "execution_count": null,
   "id": "84728f72",
   "metadata": {},
   "outputs": [],
   "source": [
    "#Invoke the GridDB WebAPI\n",
    "data_req1 = requests.post(url, data=request_body, headers=header_obj)"
   ]
  },
  {
   "cell_type": "code",
   "execution_count": null,
   "id": "7cd4b653",
   "metadata": {},
   "outputs": [],
   "source": [
    "#Process the response received and construct a Pandas dataframe with the data from the response\n",
    "myJson = data_req1.json()\n",
    "Electric_Vehicle_Types = pd.DataFrame(myJson[0][\"results\"], columns=[myJson[0][\"columns\"][0][\"name\"],myJson[0][\"columns\"][1][\"name\"]])\n",
    "Electric_Vehicle_Types.rename(columns = {'Electric Vehicle Type':'Electric Vehicle Type'}, inplace = True)"
   ]
  },
  {
   "cell_type": "code",
   "execution_count": null,
   "id": "94d7a7eb",
   "metadata": {},
   "outputs": [],
   "source": [
    "fig =  ff.create_table(Electric_Vehicle_Types, height_constant=20)\n",
    "fig.show()"
   ]
  },
  {
   "cell_type": "markdown",
   "id": "6a6235ac",
   "metadata": {},
   "source": [
    "<b> Insight(s): </b> From the above, we see that there are 2 types of electric vehicles - Plug-in Hybrid Electric Vehicles and Battery Electric Vehicles. Of these, the Battery Electric Vehicles are more in number as of date. "
   ]
  },
  {
   "cell_type": "markdown",
   "id": "b8d79e48",
   "metadata": {},
   "source": [
    "## What are some manufacturers making PHEVs and/or BEVs?"
   ]
  },
  {
   "cell_type": "code",
   "execution_count": null,
   "id": "9f9ed18b",
   "metadata": {},
   "outputs": [],
   "source": [
    "sql_query2 = (f\"\"\"SELECT DISTINCT Make, Electric_Vehicle_Type, COUNT(*) AS cnt_vehicles FROM Electric_Vehicles GROUP BY 1,2\"\"\")"
   ]
  },
  {
   "cell_type": "code",
   "execution_count": null,
   "id": "74374551",
   "metadata": {},
   "outputs": [],
   "source": [
    "#Setup the URL to be used to invoke the GridDB WebAPI to retrieve data from the container\n",
    "url = base_url + 'sql'\n",
    "\n",
    "#Construct the request body\n",
    "request_body = '[{\"type\":\"sql-select\", \"stmt\":\"'+sql_query2+'\"}]'\n",
    "\n",
    "#Validate the constructed request body\n",
    "request_body"
   ]
  },
  {
   "cell_type": "code",
   "execution_count": null,
   "id": "cac6f33b",
   "metadata": {},
   "outputs": [],
   "source": [
    "#Invoke the GridDB WebAPI\n",
    "data_req2 = requests.post(url, data=request_body, headers=header_obj)"
   ]
  },
  {
   "cell_type": "code",
   "execution_count": null,
   "id": "8e4ec000",
   "metadata": {},
   "outputs": [],
   "source": [
    "#Process the response received and construct a Pandas dataframe with the data from the response\n",
    "myJson = data_req2.json()\n",
    "Electric_Vehicles_and_Makes = pd.DataFrame(myJson[0][\"results\"], columns=[myJson[0][\"columns\"][0][\"name\"],myJson[0][\"columns\"][1][\"name\"],myJson[0][\"columns\"][2][\"name\"]])"
   ]
  },
  {
   "cell_type": "code",
   "execution_count": null,
   "id": "f543aa39",
   "metadata": {},
   "outputs": [],
   "source": [
    "fig = px.bar(Electric_Vehicles_and_Makes, y=\"Electric_Vehicle_Type\", x=\"cnt_vehicles\",color='Make', orientation='h')\n",
    "fig.update_layout(\n",
    "    title={\n",
    "        'text': \"Manufacturers by Electric Vehicle Count (Hover over to access tooltips)\",\n",
    "        'y':1.0,\n",
    "        'x':0.5,\n",
    "        'xanchor': 'center',\n",
    "        'yanchor': 'top'})\n",
    "\n",
    "fig.show()"
   ]
  },
  {
   "cell_type": "markdown",
   "id": "de09e663",
   "metadata": {},
   "source": [
    "<b> Insight(s): </b> <ul> <li> From the above visual, we see that Tesla makes the most number of BEVs (around 55 Million so far). </li> <li> Though it is a known fact that Tesla is a leading player in electric vehicles, it's interesting to see that there are a plethora of manufacturers in the 'Electric Vehicle' market manufacturing anywhere between 400 to 5000 vehicles. </li> <li> The next biggest player is Nissan which has manufactured around 12,887 BEVs so far.  </li> <li> While Tesla and Nissan seem to focus solely on BEVs, manufacturers like BMW, Chevrolet and Ford manufacture both BEVs and PHEVs.</li>   "
   ]
  },
  {
   "cell_type": "markdown",
   "id": "3c8b9a8b",
   "metadata": {},
   "source": [
    "## How do different manufacturers fare in terms of CAFV eligibility? "
   ]
  },
  {
   "cell_type": "code",
   "execution_count": null,
   "id": "4b4c59d6",
   "metadata": {},
   "outputs": [],
   "source": [
    "sql_query3 = (f\"\"\"SELECT DISTINCT Make, CAFV, COUNT(*) AS cnt_vehicles FROM Electric_Vehicles GROUP BY 1,2\"\"\")"
   ]
  },
  {
   "cell_type": "code",
   "execution_count": null,
   "id": "376e9974",
   "metadata": {},
   "outputs": [],
   "source": [
    "#Setup the URL to be used to invoke the GridDB WebAPI to retrieve data from the container\n",
    "url = base_url + 'sql'\n",
    "\n",
    "#Construct the request body\n",
    "request_body = '[{\"type\":\"sql-select\", \"stmt\":\"'+sql_query3+'\"}]'\n",
    "\n",
    "#Validate the constructed request body\n",
    "request_body"
   ]
  },
  {
   "cell_type": "code",
   "execution_count": null,
   "id": "07a4a103",
   "metadata": {},
   "outputs": [],
   "source": [
    "#Invoke the GridDB WebAPI\n",
    "data_req3 = requests.post(url, data=request_body, headers=header_obj)"
   ]
  },
  {
   "cell_type": "code",
   "execution_count": null,
   "id": "1f1c5b6d",
   "metadata": {},
   "outputs": [],
   "source": [
    "#Process the response received and construct a Pandas dataframe with the data from the response\n",
    "myJson = data_req3.json()\n",
    "Makes_and_CAFV = pd.DataFrame(myJson[0][\"results\"],columns=[myJson[0][\"columns\"][0][\"name\"],myJson[0][\"columns\"][1][\"name\"],myJson[0][\"columns\"][2][\"name\"]])"
   ]
  },
  {
   "cell_type": "code",
   "execution_count": null,
   "id": "f6ca6ab9",
   "metadata": {},
   "outputs": [],
   "source": [
    "fig = px.bar(Makes_and_CAFV, x=\"Make\", y=\"cnt_vehicles\", color=\"CAFV\", title=\"How do Manufacturers fare in terms of CAFV eligibility?\",width=1000, height=1000)\n",
    "fig.show()"
   ]
  },
  {
   "cell_type": "markdown",
   "id": "48638cf0",
   "metadata": {},
   "source": [
    "<b> Insight(s): </b> <ul> <li> Among the electric vehicles that have been manufactured by Tesla (around 55 Million),around half of the vehicles (25 Million) are CAFV eligible whereas the status of around 29 Million vehicles is unknown as the battery range has not yet been researched. </li><li>\n",
    "It is interesting to note that 1/5th of the vehicles manufactured by Nissan are CAFV eligible.</li><li> \n",
    "Ford, BMW, Toyota and Volvo have some vehicles that are not CAFV eligible due to low battery range.</li>"
   ]
  },
  {
   "cell_type": "markdown",
   "id": "e4c5f195",
   "metadata": {},
   "source": [
    "## Who are the most and least expensive manufacturers in terms of the Avg Base MSRP?"
   ]
  },
  {
   "attachments": {},
   "cell_type": "markdown",
   "id": "c871fcac",
   "metadata": {},
   "source": [
    "GridDB supports standard null-handling using IFNULL, ISNULL and COALESCE. Refer to this URL to know more - https://docs.griddb.net/tqlreference/introduction/."
   ]
  },
  {
   "cell_type": "code",
   "execution_count": null,
   "id": "363fdd71",
   "metadata": {},
   "outputs": [],
   "source": [
    "sql_query4 = (f\"\"\"SELECT Make, COALESCE(Model,'Unknown') AS Model, AVG(Base_MSRP) AS AVG_BASE_MSRP FROM Electric_Vehicles GROUP BY 1,2 HAVING AVG(Base_MSRP) > 10000 ORDER BY 3 DESC\"\"\")"
   ]
  },
  {
   "cell_type": "code",
   "execution_count": null,
   "id": "818b0f31",
   "metadata": {},
   "outputs": [],
   "source": [
    "#Setup the URL to be used to invoke the GridDB WebAPI to retrieve data from the container\n",
    "url = base_url + 'sql'\n",
    "\n",
    "#Construct the request body\n",
    "request_body = '[{\"type\":\"sql-select\", \"stmt\":\"'+sql_query4+'\"}]'\n",
    "\n",
    "#Validate the constructed request body\n",
    "request_body"
   ]
  },
  {
   "cell_type": "code",
   "execution_count": null,
   "id": "268f79a6",
   "metadata": {},
   "outputs": [],
   "source": [
    "#Invoke the GridDB WebAPI\n",
    "data_req4 = requests.post(url, data=request_body, headers=header_obj)"
   ]
  },
  {
   "cell_type": "code",
   "execution_count": null,
   "id": "c347e07a",
   "metadata": {},
   "outputs": [],
   "source": [
    "#Process the response received and construct a Pandas dataframe with the data from the response\n",
    "myJson = data_req4.json()\n",
    "Models_MSRP = pd.DataFrame(myJson[0][\"results\"],columns=[myJson[0][\"columns\"][0][\"name\"],myJson[0][\"columns\"][1][\"name\"],myJson[0][\"columns\"][2][\"name\"]])"
   ]
  },
  {
   "cell_type": "code",
   "execution_count": null,
   "id": "cf274679",
   "metadata": {},
   "outputs": [],
   "source": [
    "fig = px.pie(Models_MSRP, values='AVG_BASE_MSRP', names='Make', color_discrete_sequence=px.colors.sequential.RdBu,title='Manufacturers by Average Base MSRP')\n",
    "fig.show()"
   ]
  },
  {
   "cell_type": "markdown",
   "id": "b5dcda57",
   "metadata": {},
   "source": [
    "<b> Insight(s): </b> <ul> <li> Porsche seems to be the manufacturer of the costliest electric vehicle (being 60.5% of the overall Base MSRP). </li> <li> This is followed by BMW and Tesla. </li> <li> Some inexpensive electric vehicle options seem to be Mini, Volvo, Subaru and Cadillac. </li> <ul>"
   ]
  },
  {
   "cell_type": "markdown",
   "id": "8fd4e568",
   "metadata": {},
   "source": [
    "## What is the geographical distribution of these electric vehicles within Washington?"
   ]
  },
  {
   "cell_type": "markdown",
   "id": "9ed509d3",
   "metadata": {},
   "source": [
    "GridDB supports standard cast operations. Refer to this resource to know more - https://www.toshiba-sol.co.jp/en/pro/griddb/docs-en/v4_5/GridDB_SQL_Reference.html#convert-to-string-type"
   ]
  },
  {
   "cell_type": "code",
   "execution_count": null,
   "id": "58e883ce",
   "metadata": {},
   "outputs": [],
   "source": [
    "sql_query5 = (f\"\"\"SELECT city, state, county, CAST(COALESCE(PostalCode,'0')AS FLOAT) AS Postal_Code, Vehicle_Location, count(*) as cnt_vehicles FROM Electric_Vehicles GROUP BY 1,2,3,4,5\"\"\")"
   ]
  },
  {
   "cell_type": "code",
   "execution_count": null,
   "id": "35fbd404",
   "metadata": {},
   "outputs": [],
   "source": [
    "#Setup the URL to be used to invoke the GridDB WebAPI to retrieve data from the container\n",
    "url = base_url + 'sql'\n",
    "\n",
    "#Construct the request body\n",
    "request_body = '[{\"type\":\"sql-select\", \"stmt\":\"'+sql_query5+'\"}]'\n",
    "\n",
    "#Validate the constructed request body\n",
    "request_body"
   ]
  },
  {
   "cell_type": "code",
   "execution_count": null,
   "id": "63d26d95",
   "metadata": {},
   "outputs": [],
   "source": [
    "#Invoke the GridDB WebAPI\n",
    "data_req5 = requests.post(url, data=request_body, headers=header_obj)"
   ]
  },
  {
   "cell_type": "code",
   "execution_count": null,
   "id": "364344e5",
   "metadata": {},
   "outputs": [],
   "source": [
    "#Process the response received and construct a Pandas dataframe with the data from the response\n",
    "myJson = data_req5.json()\n",
    "Geo_dist = pd.DataFrame(myJson[0][\"results\"],columns=[myJson[0][\"columns\"][0][\"name\"],myJson[0][\"columns\"][1][\"name\"],myJson[0][\"columns\"][2][\"name\"],myJson[0][\"columns\"][3][\"name\"],myJson[0][\"columns\"][4][\"name\"],myJson[0][\"columns\"][5][\"name\"]])"
   ]
  },
  {
   "cell_type": "code",
   "execution_count": null,
   "id": "ba486ecc",
   "metadata": {},
   "outputs": [],
   "source": [
    "Geo_dist['Postal_Code'] = Geo_dist['Postal_Code'].astype(int)"
   ]
  },
  {
   "cell_type": "code",
   "execution_count": null,
   "id": "5138eaea",
   "metadata": {},
   "outputs": [],
   "source": [
    "Geo_dist.columns\n",
    "Geo_dist = Geo_dist[Geo_dist['State']== 'WA']\n",
    "Geo_dist['Postal_Code'] = Geo_dist['Postal_Code'].astype(str)  #Convert to the string datatype as it is needed in the string format for easy matching."
   ]
  },
  {
   "cell_type": "markdown",
   "id": "07501819",
   "metadata": {},
   "source": [
    "## A short note on the GeoJSON file required for visualizing the Geographical Distribution"
   ]
  },
  {
   "cell_type": "markdown",
   "id": "07b559c4",
   "metadata": {},
   "source": [
    "For plotting the Choropleth map, we use the Folium Library in Python. To be able to plot the locations of the vehicles, the lat long values of their corresponding Postal Codes need to be gathered. These can be obtained from the GeoJSON file available in the https://raw.githubusercontent.com/OpenDataDE/State-zip-code-GeoJSON/master/wa_washington_zip_codes_geo.min.json\n",
    "\n",
    "Note that you <b> are not required </b> to manually download the file from this URL because - <br>\n",
    "The below code snippet downloads the GeoJSON file from this URL and creates a <b> JSON file </b> with the name <b> 'wa_washington_zip_codes_geo.min' </b> in your <b> local working directory </b>. This is then used for visualizing the Choropleth map. "
   ]
  },
  {
   "attachments": {},
   "cell_type": "markdown",
   "id": "baeeb671",
   "metadata": {},
   "source": [
    "Below is a snippet of the GeoJSON file - \n",
    "\n",
    "\n",
    "Note that we use the information highlighted in yellow while constructing the choropleth map as this gives us the lat long values for each postal code. These values will be used in the 'key_on' parameter as 'feature.properties.ZCTA5CE10' in the folium.Choropleth function.\n",
    "\n",
    "The <b> 'ZCTA5CE10' </b> is the Postal Code in the JSON file that will be used as a <b> lookup key </b> in the dataframe <b> Geo_dist's Postal_Code column. </b> Note that as the 'ZCTA5CE10' field is a string in the JSON file, the Postal Code in the dataframe was converted to the string data type so that the Postal Code values in the dataframe can be matched easily to the values in the JSON. "
   ]
  },
  {
   "cell_type": "markdown",
   "id": "0fc8e7de",
   "metadata": {},
   "source": [
    "<b>Insight(s):</b> <ul> <li> The above map is interactive. Hover over the locations to access the Zip Codes.</li> <li>The Zip Codes 98115, 98034, 98040 and 98006 are some postal codes in Seattle Washington with the most number of electric vehicles. These correspond to the neighborhoods of Bryant, Kirkland, Mercer Island and Eaglesmere. </li> <li> It is pretty clear that Seattle and Everett have tne most number of Electric vehicle buyers. </li><li> The rest of Washington still has potential as many of them only seem to have between 1 and around 330 electric vehicles so far. "
   ]
  },
  {
   "cell_type": "markdown",
   "id": "1bd8bde7",
   "metadata": {},
   "source": [
    "## Concluding Remarks"
   ]
  },
  {
   "cell_type": "markdown",
   "id": "485cdcb8",
   "metadata": {},
   "source": [
    "<p> Thus, we see that while Washington has a lot of scope in becoming a state with 100% electric vehicles thereby reducing carbon fuel emissions, there's also a lot of work to be done. Charging stations and other amenities are also a key factor in ensuring the early adoption of electric vehicles by people. Though there seems to be enough demand for Electric Vehicles in Washington, many a time, supply is not able to meet demand as manufacturers struggle with producing enough vehicles to meet the demand. Will this situation improve and will Washington achieve its dream of being an 'All Electric Vehicle' state? Let's wait and see. </p>\n",
    "\n",
    "<p> The most important tool that aided in the analysis was not just Python and its amazing libraries, but the database GridDB. Without a robust Database, handling such a large dataset wouldn't have been possible. The batch loading of GridDB and the laser-fast speed with which massive amounts of records are written to the GridDB database engine are important catalysts for this analysis. Moreover, query times were also fast thereby being able to fetch results very quickly.</p> "
   ]
  }
 ],
 "metadata": {
  "kernelspec": {
   "display_name": "Python 3 (ipykernel)",
   "language": "python",
   "name": "python3"
  },
  "language_info": {
   "codemirror_mode": {
    "name": "ipython",
    "version": 3
   },
   "file_extension": ".py",
   "mimetype": "text/x-python",
   "name": "python",
   "nbconvert_exporter": "python",
   "pygments_lexer": "ipython3",
   "version": "3.9.7"
  },
  "latex_envs": {
   "LaTeX_envs_menu_present": true,
   "autoclose": false,
   "autocomplete": true,
   "bibliofile": "biblio.bib",
   "cite_by": "apalike",
   "current_citInitial": 1,
   "eqLabelWithNumbers": true,
   "eqNumInitial": 1,
   "hotkeys": {
    "equation": "Ctrl-E",
    "itemize": "Ctrl-I"
   },
   "labels_anchors": false,
   "latex_user_defs": false,
   "report_style_numbering": false,
   "user_envs_cfg": false
  },
  "toc": {
   "base_numbering": 1,
   "nav_menu": {},
   "number_sections": false,
   "sideBar": true,
   "skip_h1_title": false,
   "title_cell": "",
   "title_sidebar": "Contents",
   "toc_cell": true,
   "toc_position": {},
   "toc_section_display": true,
   "toc_window_display": true
  }
 },
 "nbformat": 4,
 "nbformat_minor": 5
}
