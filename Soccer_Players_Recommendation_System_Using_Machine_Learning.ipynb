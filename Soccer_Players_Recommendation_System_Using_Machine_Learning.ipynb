{
  "cells": [
    {
      "cell_type": "markdown",
      "id": "c4H_U5_hw8ST",
      "metadata": {
        "id": "c4H_U5_hw8ST"
      },
      "source": [
        "## Import Libraries"
      ]
    },
    {
      "cell_type": "code",
      "execution_count": 13,
      "id": "6nNg9_UZw427",
      "metadata": {
        "id": "6nNg9_UZw427"
      },
      "outputs": [],
      "source": [
        "import numpy as np\n",
        "import pandas as pd\n",
        "\n",
        "import matplotlib.pyplot as plt\n",
        "import seaborn as sns\n",
        "\n",
        "from sklearn.preprocessing import StandardScaler\n",
        "from sklearn.neighbors import NearestNeighbors\n",
        "from sklearn.decomposition import PCA\n",
        "\n",
        "import griddb_python as griddb"
      ]
    },
    {
      "cell_type": "markdown",
      "id": "32e41316-a307-417d-9a03-9cc7810b5a98",
      "metadata": {
        "id": "32e41316-a307-417d-9a03-9cc7810b5a98"
      },
      "source": [
        "## Loading Data"
      ]
    },
    {
      "cell_type": "code",
      "execution_count": 14,
      "id": "64801a87",
      "metadata": {
        "id": "64801a87",
        "papermill": {
          "duration": 0.057679,
          "end_time": "2022-04-04T13:41:54.634121",
          "exception": false,
          "start_time": "2022-04-04T13:41:54.576442",
          "status": "completed"
        },
        "tags": []
      },
      "outputs": [],
      "source": [
        "data = pd.read_csv('data.csv')"
      ]
    },
    {
      "cell_type": "code",
      "execution_count": 15,
      "id": "tWkOhchzyP0p",
      "metadata": {
        "colab": {
          "base_uri": "https://localhost:8080/",
          "height": 187
        },
        "id": "tWkOhchzyP0p",
        "outputId": "1a1ab4f0-9ba4-40a9-ae71-b816c29ee5fb"
      },
      "outputs": [
        {
          "data": {
            "text/html": [
              "<div>\n",
              "<style scoped>\n",
              "    .dataframe tbody tr th:only-of-type {\n",
              "        vertical-align: middle;\n",
              "    }\n",
              "\n",
              "    .dataframe tbody tr th {\n",
              "        vertical-align: top;\n",
              "    }\n",
              "\n",
              "    .dataframe thead th {\n",
              "        text-align: right;\n",
              "    }\n",
              "</style>\n",
              "<table border=\"1\" class=\"dataframe\">\n",
              "  <thead>\n",
              "    <tr style=\"text-align: right;\">\n",
              "      <th></th>\n",
              "      <th>name</th>\n",
              "      <th>club</th>\n",
              "      <th>age</th>\n",
              "      <th>position</th>\n",
              "      <th>position_cat</th>\n",
              "      <th>market_value</th>\n",
              "      <th>page_views</th>\n",
              "      <th>fpl_value</th>\n",
              "      <th>fpl_sel</th>\n",
              "      <th>fpl_points</th>\n",
              "      <th>region</th>\n",
              "      <th>nationality</th>\n",
              "      <th>new_foreign</th>\n",
              "      <th>age_cat</th>\n",
              "      <th>club_id</th>\n",
              "      <th>big_club</th>\n",
              "      <th>new_signing</th>\n",
              "    </tr>\n",
              "  </thead>\n",
              "  <tbody>\n",
              "    <tr>\n",
              "      <th>0</th>\n",
              "      <td>Alexis Sanchez</td>\n",
              "      <td>Arsenal</td>\n",
              "      <td>28</td>\n",
              "      <td>LW</td>\n",
              "      <td>1</td>\n",
              "      <td>65.0</td>\n",
              "      <td>4329</td>\n",
              "      <td>12.0</td>\n",
              "      <td>17.10%</td>\n",
              "      <td>264</td>\n",
              "      <td>3</td>\n",
              "      <td>Chile</td>\n",
              "      <td>0</td>\n",
              "      <td>4</td>\n",
              "      <td>1</td>\n",
              "      <td>1</td>\n",
              "      <td>0</td>\n",
              "    </tr>\n",
              "    <tr>\n",
              "      <th>1</th>\n",
              "      <td>Mesut Ozil</td>\n",
              "      <td>Arsenal</td>\n",
              "      <td>28</td>\n",
              "      <td>AM</td>\n",
              "      <td>1</td>\n",
              "      <td>50.0</td>\n",
              "      <td>4395</td>\n",
              "      <td>9.5</td>\n",
              "      <td>5.60%</td>\n",
              "      <td>167</td>\n",
              "      <td>2</td>\n",
              "      <td>Germany</td>\n",
              "      <td>0</td>\n",
              "      <td>4</td>\n",
              "      <td>1</td>\n",
              "      <td>1</td>\n",
              "      <td>0</td>\n",
              "    </tr>\n",
              "    <tr>\n",
              "      <th>2</th>\n",
              "      <td>Petr Cech</td>\n",
              "      <td>Arsenal</td>\n",
              "      <td>35</td>\n",
              "      <td>GK</td>\n",
              "      <td>4</td>\n",
              "      <td>7.0</td>\n",
              "      <td>1529</td>\n",
              "      <td>5.5</td>\n",
              "      <td>5.90%</td>\n",
              "      <td>134</td>\n",
              "      <td>2</td>\n",
              "      <td>Czech Republic</td>\n",
              "      <td>0</td>\n",
              "      <td>6</td>\n",
              "      <td>1</td>\n",
              "      <td>1</td>\n",
              "      <td>0</td>\n",
              "    </tr>\n",
              "  </tbody>\n",
              "</table>\n",
              "</div>"
            ],
            "text/plain": [
              "             name     club  age position  position_cat  market_value  \\\n",
              "0  Alexis Sanchez  Arsenal   28       LW             1          65.0   \n",
              "1      Mesut Ozil  Arsenal   28       AM             1          50.0   \n",
              "2       Petr Cech  Arsenal   35       GK             4           7.0   \n",
              "\n",
              "   page_views  fpl_value fpl_sel  fpl_points  region     nationality  \\\n",
              "0        4329       12.0  17.10%         264       3           Chile   \n",
              "1        4395        9.5   5.60%         167       2         Germany   \n",
              "2        1529        5.5   5.90%         134       2  Czech Republic   \n",
              "\n",
              "   new_foreign  age_cat  club_id  big_club  new_signing  \n",
              "0            0        4        1         1            0  \n",
              "1            0        4        1         1            0  \n",
              "2            0        6        1         1            0  "
            ]
          },
          "execution_count": 15,
          "metadata": {},
          "output_type": "execute_result"
        }
      ],
      "source": [
        "data.head(3)"
      ]
    },
    {
      "cell_type": "code",
      "execution_count": 16,
      "id": "78344e74-32db-42f8-87c9-28d1a3613214",
      "metadata": {
        "colab": {
          "base_uri": "https://localhost:8080/"
        },
        "id": "78344e74-32db-42f8-87c9-28d1a3613214",
        "outputId": "50fbb090-d61c-458d-eafc-425649c22cbd"
      },
      "outputs": [
        {
          "data": {
            "text/plain": [
              "(460, 17)"
            ]
          },
          "execution_count": 16,
          "metadata": {},
          "output_type": "execute_result"
        }
      ],
      "source": [
        "data.shape"
      ]
    },
    {
      "cell_type": "code",
      "execution_count": 17,
      "id": "Pm2hgE6Clvvm",
      "metadata": {
        "colab": {
          "base_uri": "https://localhost:8080/"
        },
        "id": "Pm2hgE6Clvvm",
        "outputId": "0379aaa5-a191-4226-d12e-cb56d7e6f2d4"
      },
      "outputs": [
        {
          "data": {
            "text/plain": [
              "Index(['name', 'club', 'age', 'position', 'position_cat', 'market_value',\n",
              "       'page_views', 'fpl_value', 'fpl_sel', 'fpl_points', 'region',\n",
              "       'nationality', 'new_foreign', 'age_cat', 'club_id', 'big_club',\n",
              "       'new_signing'],\n",
              "      dtype='object')"
            ]
          },
          "execution_count": 17,
          "metadata": {},
          "output_type": "execute_result"
        }
      ],
      "source": [
        "data.columns"
      ]
    },
    {
      "cell_type": "code",
      "execution_count": 18,
      "id": "e42174b1",
      "metadata": {
        "id": "e42174b1",
        "papermill": {
          "duration": 0.030516,
          "end_time": "2022-04-04T13:41:54.679448",
          "exception": false,
          "start_time": "2022-04-04T13:41:54.648932",
          "status": "completed"
        },
        "tags": []
      },
      "outputs": [],
      "source": [
        "data = data.dropna()"
      ]
    },
    {
      "cell_type": "code",
      "execution_count": 19,
      "id": "GX4oewVBIaXQ",
      "metadata": {
        "colab": {
          "base_uri": "https://localhost:8080/"
        },
        "id": "GX4oewVBIaXQ",
        "outputId": "948b7188-753b-4d74-9f0e-3f0a2debc691"
      },
      "outputs": [
        {
          "data": {
            "text/plain": [
              "0"
            ]
          },
          "execution_count": 19,
          "metadata": {},
          "output_type": "execute_result"
        }
      ],
      "source": [
        "data.isnull().sum().sum()"
      ]
    },
    {
      "cell_type": "code",
      "execution_count": 20,
      "id": "hSxU_u6B5nTU",
      "metadata": {
        "colab": {
          "base_uri": "https://localhost:8080/"
        },
        "id": "hSxU_u6B5nTU",
        "outputId": "174b1e8e-50d6-43e9-dab4-9201642f329a"
      },
      "outputs": [
        {
          "data": {
            "text/plain": [
              "name             object\n",
              "club             object\n",
              "age               int64\n",
              "position         object\n",
              "position_cat      int64\n",
              "market_value    float64\n",
              "page_views        int64\n",
              "fpl_value       float64\n",
              "fpl_sel          object\n",
              "fpl_points        int64\n",
              "region            int64\n",
              "nationality      object\n",
              "new_foreign       int64\n",
              "age_cat           int64\n",
              "club_id           int64\n",
              "big_club          int64\n",
              "new_signing       int64\n",
              "dtype: object"
            ]
          },
          "execution_count": 20,
          "metadata": {},
          "output_type": "execute_result"
        }
      ],
      "source": [
        "data.dtypes"
      ]
    },
    {
      "cell_type": "code",
      "execution_count": 21,
      "id": "5cTW395qo_5H",
      "metadata": {
        "id": "5cTW395qo_5H"
      },
      "outputs": [],
      "source": [
        "data['name'] = data['name'].apply(lambda x: x.encode('utf-8').decode('utf-8'))\n",
        "data[['age', 'position_cat', 'market_value', 'page_views', 'fpl_value', 'fpl_points', 'region', 'new_foreign', 'age_cat', 'club_id', 'big_club', 'new_signing']] = data[['age', 'position_cat', 'market_value', 'page_views', 'fpl_value', 'fpl_points', 'region', 'new_foreign', 'age_cat', 'club_id', 'big_club', 'new_signing']].astype(float)"
      ]
    },
    {
      "cell_type": "markdown",
      "id": "4M19uoc42dDM",
      "metadata": {
        "id": "4M19uoc42dDM"
      },
      "source": [
        "## Setting Up a Container in Griddb to Store the Data"
      ]
    },
    {
      "cell_type": "code",
      "execution_count": 23,
      "id": "g2JW7rCv1-jW",
      "metadata": {
        "id": "g2JW7rCv1-jW"
      },
      "outputs": [
        {
          "name": "stdout",
          "output_type": "stream",
          "text": [
            "connection successful\n",
            "                name     club   age position  position_cat  market_value  \\\n",
            "0     Alexis Sanchez  Arsenal  28.0       LW           1.0          65.0   \n",
            "1         Mesut Ozil  Arsenal  28.0       AM           1.0          50.0   \n",
            "2          Petr Cech  Arsenal  35.0       GK           4.0           7.0   \n",
            "3       Theo Walcott  Arsenal  28.0       RW           1.0          20.0   \n",
            "4  Laurent Koscielny  Arsenal  31.0       CB           3.0          22.0   \n",
            "\n",
            "   page_views  fpl_value fpl_sel  fpl_points  region     nationality  \\\n",
            "0      4329.0       12.0  17.10%       264.0     3.0           Chile   \n",
            "1      4395.0        9.5   5.60%       167.0     2.0         Germany   \n",
            "2      1529.0        5.5   5.90%       134.0     2.0  Czech Republic   \n",
            "3      2393.0        7.5   1.50%       122.0     1.0         England   \n",
            "4       912.0        6.0   0.70%       121.0     2.0          France   \n",
            "\n",
            "   new_foreign  age_cat  club_id  big_club  new_signing  \n",
            "0          0.0      4.0      1.0       1.0          0.0  \n",
            "1          0.0      4.0      1.0       1.0          0.0  \n",
            "2          0.0      6.0      1.0       1.0          0.0  \n",
            "3          0.0      4.0      1.0       1.0          0.0  \n",
            "4          0.0      4.0      1.0       1.0          0.0  \n"
          ]
        }
      ],
      "source": [
        "factory = griddb.StoreFactory.get_instance()\n",
        "\n",
        "# Provide the necessary arguments\n",
        "gridstore = factory.get_store(\n",
        "    notification_member = '127.0.0.1:10001',\n",
        "    cluster_name = 'myCluster',\n",
        "    username = 'admin',\n",
        "    password = 'admin'\n",
        ")\n",
        "\n",
        "# Define the container info\n",
        "conInfo = griddb.ContainerInfo(\n",
        "    \"football_players\",\n",
        "    [\n",
        "        [\"name\", griddb.Type.STRING],\n",
        "        [\"club\", griddb.Type.STRING],\n",
        "        [\"age\", griddb.Type.DOUBLE],\n",
        "        [\"position\", griddb.Type.STRING],\n",
        "        [\"position_cat\", griddb.Type.DOUBLE],\n",
        "        [\"market_value\", griddb.Type.DOUBLE],\n",
        "        [\"page_views\", griddb.Type.DOUBLE],\n",
        "        [\"fpl_value\", griddb.Type.DOUBLE],\n",
        "        [\"fpl_sel\", griddb.Type.STRING],\n",
        "        [\"fpl_points\", griddb.Type.DOUBLE],\n",
        "        [\"region\", griddb.Type.DOUBLE],\n",
        "        [\"nationality\", griddb.Type.STRING],\n",
        "        [\"new_foreign\", griddb.Type.DOUBLE],\n",
        "        [\"age_cat\", griddb.Type.DOUBLE],\n",
        "        [\"club_id\", griddb.Type.DOUBLE],\n",
        "        [\"big_club\", griddb.Type.DOUBLE],\n",
        "        [\"new_signing\", griddb.Type.DOUBLE]\n",
        "    ],\n",
        "    griddb.ContainerType.COLLECTION, True\n",
        ")\n",
        "\n",
        "# Drop container if it exists\n",
        "gridstore.drop_container(conInfo.name)\n",
        "\n",
        "# Create a container\n",
        "container = gridstore.put_container(conInfo)\n",
        "\n",
        "# Load the data\n",
        "\n",
        "# Put rows\n",
        "for i in range(len(data)):\n",
        "  row = data.iloc[i].tolist()\n",
        "  try:\n",
        "    container.put(row)\n",
        "  except Exception as e:\n",
        "    print(f\"Error on row {i}: {row}\")\n",
        "    print(e)\n",
        "\n",
        "cont = gridstore.get_container(\"football_players\")\n",
        "\n",
        "if cont is None:\n",
        "  print(\"Does not exist\")\n",
        "\n",
        "print(\"connection successful\")\n",
        "\n",
        "# Define the exact columns you need\n",
        "columns = [\"*\"]\n",
        "\n",
        "select_statement = \"SELECT \" + \", \".join(columns) + \" FROM football_players\"\n",
        "\n",
        "# Execute the query\n",
        "query = container.query(select_statement)\n",
        "rs = query.fetch(False)\n",
        "\n",
        "data = rs.fetch_rows()\n",
        "\n",
        "print(data.head())"
      ]
    },
    {
      "cell_type": "markdown",
      "id": "HtmQF0qJ16im",
      "metadata": {
        "id": "HtmQF0qJ16im"
      },
      "source": [
        "## Recommendation System"
      ]
    },
    {
      "cell_type": "code",
      "execution_count": 24,
      "id": "gA1iWCl7CeWk",
      "metadata": {
        "colab": {
          "base_uri": "https://localhost:8080/",
          "height": 928
        },
        "id": "gA1iWCl7CeWk",
        "outputId": "76a0e74d-200d-48b5-e38c-d0971f205812"
      },
      "outputs": [
        {
          "data": {
            "text/plain": [
              "<AxesSubplot:>"
            ]
          },
          "execution_count": 24,
          "metadata": {},
          "output_type": "execute_result"
        },
        {
          "data": {
            "image/png": "[encoded data removed]",
            "text/plain": [
              "<Figure size 720x720 with 2 Axes>"
            ]
          },
          "metadata": {
            "needs_background": "light"
          },
          "output_type": "display_data"
        }
      ],
      "source": [
        "sample = data.select_dtypes(include='number')\n",
        "corr = sample.corr()\n",
        "mask = np.zeros_like(corr, dtype = np.bool_)\n",
        "mask[np.triu_indices_from(mask)] = True\n",
        "plt.figure(figsize=(10,10))\n",
        "sns.heatmap(corr, mask=mask)"
      ]
    },
    {
      "cell_type": "code",
      "execution_count": 25,
      "id": "xfVw4gK2JgmB",
      "metadata": {
        "id": "xfVw4gK2JgmB"
      },
      "outputs": [],
      "source": [
        "scaled = StandardScaler()\n",
        "X = scaled.fit_transform(sample)\n",
        "recommendations = NearestNeighbors(n_neighbors = 5, algorithm='kd_tree')\n",
        "recommendations.fit(X)\n",
        "player_index = recommendations.kneighbors(X)[1]"
      ]
    },
    {
      "cell_type": "code",
      "execution_count": 26,
      "id": "e1177114",
      "metadata": {
        "id": "e1177114",
        "papermill": {
          "duration": 0.026857,
          "end_time": "2022-04-04T13:41:55.775081",
          "exception": false,
          "start_time": "2022-04-04T13:41:55.748224",
          "status": "completed"
        },
        "tags": []
      },
      "outputs": [],
      "source": [
        "def find_index(x):\n",
        "    return data[data['name']==x].index.tolist()[0]\n",
        "\n",
        "def recommendation_system(player):\n",
        "    print(\"Here are four players who are similar to {}: \".format(player))\n",
        "    index =  find_index(player)\n",
        "    for i in player_index[index][1:]:\n",
        "        print(\"Player Name: {}\\nPlayer Market Value: {}\\nPlayer Age: {}\\nPlayer Current Club: {}\\n\".format(data.iloc[i]['name'],\n",
        "                                                                                        data.iloc[i]['market_value'],\n",
        "                                                                                        data.iloc[i]['age'],\n",
        "                                                                                        data.iloc[i]['club']))"
      ]
    },
    {
      "cell_type": "code",
      "execution_count": 27,
      "id": "11f062b8",
      "metadata": {
        "colab": {
          "base_uri": "https://localhost:8080/"
        },
        "id": "11f062b8",
        "outputId": "19776fef-0f57-4efc-8ee6-3b0a362da0b6",
        "papermill": {
          "duration": 0.034699,
          "end_time": "2022-04-04T13:41:55.825751",
          "exception": false,
          "start_time": "2022-04-04T13:41:55.791052",
          "status": "completed"
        },
        "tags": []
      },
      "outputs": [
        {
          "name": "stdout",
          "output_type": "stream",
          "text": [
            "Here are four players who are similar to Petr Cech: \n",
            "Player Name: Willy Caballero\n",
            "Player Market Value: 1.5\n",
            "Player Age: 35.0\n",
            "Player Current Club: Chelsea\n",
            "\n",
            "Player Name: Nacho Monreal\n",
            "Player Market Value: 13.0\n",
            "Player Age: 31.0\n",
            "Player Current Club: Arsenal\n",
            "\n",
            "Player Name: Laurent Koscielny\n",
            "Player Market Value: 22.0\n",
            "Player Age: 31.0\n",
            "Player Current Club: Arsenal\n",
            "\n",
            "Player Name: Artur Boruc\n",
            "Player Market Value: 1.0\n",
            "Player Age: 37.0\n",
            "Player Current Club: Bournemouth\n",
            "\n"
          ]
        }
      ],
      "source": [
        "recommendation_system('Petr Cech')"
      ]
    }
  ],
  "metadata": {
    "colab": {
      "provenance": []
    },
    "kernelspec": {
      "display_name": "Python 3 (ipykernel)",
      "language": "python",
      "name": "python3"
    },
    "language_info": {
      "codemirror_mode": {
        "name": "ipython",
        "version": 3
      },
      "file_extension": ".py",
      "mimetype": "text/x-python",
      "name": "python",
      "nbconvert_exporter": "python",
      "pygments_lexer": "ipython3",
      "version": "3.6.9"
    },
    "papermill": {
      "default_parameters": {},
      "duration": 14.601426,
      "end_time": "2022-04-04T13:41:56.771130",
      "environment_variables": {},
      "exception": null,
      "input_path": "__notebook__.ipynb",
      "output_path": "__notebook__.ipynb",
      "parameters": {},
      "start_time": "2022-04-04T13:41:42.169704",
      "version": "2.3.3"
    }
  },
  "nbformat": 4,
  "nbformat_minor": 5
}
