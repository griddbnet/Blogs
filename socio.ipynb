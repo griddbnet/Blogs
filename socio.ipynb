{
 "cells": [
  {
   "cell_type": "markdown",
   "metadata": {},
   "source": [
    "# Socio-Economic Data Analysis and Visualization using Python and GridDB"
   ]
  },
  {
   "cell_type": "markdown",
   "metadata": {},
   "source": [
    "Today, we will explore the socio-economic dataset which contains various metrics and social indicators for 66 major countries. This dataset is originally inspired by [UNData](http://data.un.org/Host.aspx?Content=About). We will learn more about the dataset in the later section. \n",
    "\n",
    "The objective of this tutorial is to give a sneak peek into the socio-economic data preprocessing and analysis. We will begin with loading the libraries and our dataset followed by data preprocessing. Later on, we will visualize the statistics using interactive widgets. \n",
    "\n",
    "The outline of this tutorial looks like as follows:\n",
    "1. Prerequisites and Environment Set up. \n",
    "2. Introduction to the dataset \n",
    "3. Importing Libraries\n",
    "4. Loading the Dataset\n",
    "5. Data Preprocessing\n",
    "6. Data Filtering and Basic Data Visualization\n",
    "7. Interactive Data Visualization\n",
    "8. Conclusion\n",
    "9. References\n"
   ]
  },
  {
   "cell_type": "markdown",
   "metadata": {},
   "source": [
    "## 1. Prerequisites and Environment Set up"
   ]
  },
  {
   "cell_type": "markdown",
   "metadata": {},
   "source": [
    "This tutorial is carried out in Anaconda's Jupyter Notebook with Python version - 3.8.3 on Windows 10 Operating System. [Google Colab](https://colab.research.google.com/) also offers a similar environment and is cloud-based. Hence, it could be shared among users and devices. \n",
    "\n",
    "The following libraries are used in this tutorial. Make sure to install them before moving to the code.\n",
    "\n",
    "1. [Pandas](https://pandas.pydata.org/docs/getting_started/install.html)\n",
    "2. [Numpy](https://numpy.org/install/)\n",
    "3. [Matplotlib](https://matplotlib.org/stable/users/installing/index.html)\n",
    "4. [Regex](https://pypi.org/project/regex/)\n",
    "5. [ipywidgets](https://pypi.org/project/ipywidgets/)\n",
    "\n",
    "To install these packages using the command line, just type <code>pip install package-name</code> or <code>conda install package-name</code> if you are using Anaconda Navigator. "
   ]
  },
  {
   "cell_type": "markdown",
   "metadata": {},
   "source": [
    "Moreover, if you are using GridDB, these additional libraries will be required:\n",
    "\n",
    "1. [GridDB C-client](https://github.com/griddb/c_client)\n",
    "2. SWIG (Simplified Wrapper and Interface Generator)\n",
    "3. [GridDB Python Client](https://github.com/griddb/python_client)"
   ]
  },
  {
   "cell_type": "markdown",
   "metadata": {},
   "source": [
    "After installing the prerequisites, we go ahead and introduce today's dataset. "
   ]
  },
  {
   "cell_type": "markdown",
   "metadata": {},
   "source": [
    "## 2. Introduction to the Dataset"
   ]
  },
  {
   "cell_type": "markdown",
   "metadata": {},
   "source": [
    "The motivation behind this socio-economic dataset is to be able to analyze country-specific data. But why is it important?\n",
    "\n",
    "Country-specific data can be proven useful to analyze statistics, successful approaches for policies, etc. This data has been made open-source on [Kaggle](https://www.kaggle.com/datasets/sudalairajkumar/undata-country-profiles). It contains information about Population, GDP Growth, Agricultural Sector, etc. The dataset has 66 rows each row representing a country and 96 columns denoting a specific metric. \n",
    "\n",
    "Now that we have a little background about our dataset, let's load it into our python environment. But before that, we need to import the necessary libraries!"
   ]
  },
  {
   "cell_type": "markdown",
   "metadata": {},
   "source": [
    "### Please Note:"
   ]
  },
  {
   "cell_type": "markdown",
   "metadata": {},
   "source": [
    "We have made some changes to the column names in the original dataset by removing white spaces and special characters. The updated data can be downloaded from our repository."
   ]
  },
  {
   "cell_type": "markdown",
   "metadata": {},
   "source": [
    "## 3. Importing Libraries"
   ]
  },
  {
   "cell_type": "code",
   "execution_count": 1,
   "metadata": {
    "ExecuteTime": {
     "end_time": "2023-04-09T15:28:36.416064Z",
     "start_time": "2023-04-09T15:28:35.707289Z"
    }
   },
   "outputs": [],
   "source": [
    "import pandas as pd\n",
    "import numpy as np\n",
    "import matplotlib.pyplot as plt\n",
    "import regex as re\n",
    "import ipywidgets as widgets"
   ]
  },
  {
   "cell_type": "markdown",
   "metadata": {},
   "source": [
    "The cell will not return anything if executed successfully. In case of an error, kindly check the version of each package and see if it is compatible with your operating system.\n",
    "\n",
    "Great! We have loaded the libraries successfully. Let's import our dataset."
   ]
  },
  {
   "cell_type": "markdown",
   "metadata": {},
   "source": [
    "## 4. Loading the Dataset"
   ]
  },
  {
   "cell_type": "markdown",
   "metadata": {},
   "source": [
    "### Using Pandas"
   ]
  },
  {
   "cell_type": "code",
   "execution_count": 2,
   "metadata": {
    "ExecuteTime": {
     "end_time": "2023-04-09T15:28:38.462582Z",
     "start_time": "2023-04-09T15:28:38.418911Z"
    },
    "scrolled": true
   },
   "outputs": [
    {
     "data": {
      "text/html": [
       "<div>\n",
       "<style scoped>\n",
       "    .dataframe tbody tr th:only-of-type {\n",
       "        vertical-align: middle;\n",
       "    }\n",
       "\n",
       "    .dataframe tbody tr th {\n",
       "        vertical-align: top;\n",
       "    }\n",
       "\n",
       "    .dataframe thead th {\n",
       "        text-align: right;\n",
       "    }\n",
       "</style>\n",
       "<table border=\"1\" class=\"dataframe\">\n",
       "  <thead>\n",
       "    <tr style=\"text-align: right;\">\n",
       "      <th></th>\n",
       "      <th>country</th>\n",
       "      <th>Region</th>\n",
       "      <th>Surface area (km2)</th>\n",
       "      <th>Population_in_thousands_2017</th>\n",
       "      <th>Population density (per km2, 2017)</th>\n",
       "      <th>Sex ratio (m per 100 f, 2017)</th>\n",
       "      <th>GDP: Gross domestic product (million current US$)</th>\n",
       "      <th>GDP growth rate (annual %, const. 2005 prices)</th>\n",
       "      <th>GDP per capita (current US$)</th>\n",
       "      <th>Economy_Agriculture</th>\n",
       "      <th>...</th>\n",
       "      <th>Inflation, consumer prices (annual %)</th>\n",
       "      <th>Life expectancy at birth, female (years)</th>\n",
       "      <th>Life expectancy at birth, male (years)</th>\n",
       "      <th>Life expectancy at birth, total (years)</th>\n",
       "      <th>Military expenditure (% of GDP)</th>\n",
       "      <th>Population, female</th>\n",
       "      <th>Population, male</th>\n",
       "      <th>Tax revenue (% of GDP)</th>\n",
       "      <th>Taxes on income, profits and capital gains (% of revenue)</th>\n",
       "      <th>Urban population (% of total population)_y</th>\n",
       "    </tr>\n",
       "  </thead>\n",
       "  <tbody>\n",
       "    <tr>\n",
       "      <th>0</th>\n",
       "      <td>Argentina</td>\n",
       "      <td>SouthAmerica</td>\n",
       "      <td>2780400</td>\n",
       "      <td>44271</td>\n",
       "      <td>16.2</td>\n",
       "      <td>95.9</td>\n",
       "      <td>632343</td>\n",
       "      <td>2.4</td>\n",
       "      <td>14564.5</td>\n",
       "      <td>6</td>\n",
       "      <td>...</td>\n",
       "      <td>NaN</td>\n",
       "      <td>79.726</td>\n",
       "      <td>72.924</td>\n",
       "      <td>76.372000</td>\n",
       "      <td>0.856138</td>\n",
       "      <td>22572521</td>\n",
       "      <td>21472290</td>\n",
       "      <td>10.955501</td>\n",
       "      <td>12.929913</td>\n",
       "      <td>91.749</td>\n",
       "    </tr>\n",
       "    <tr>\n",
       "      <th>1</th>\n",
       "      <td>Australia</td>\n",
       "      <td>Oceania</td>\n",
       "      <td>7692060</td>\n",
       "      <td>24451</td>\n",
       "      <td>3.2</td>\n",
       "      <td>99.3</td>\n",
       "      <td>1230859</td>\n",
       "      <td>2.4</td>\n",
       "      <td>51352.2</td>\n",
       "      <td>2.5</td>\n",
       "      <td>...</td>\n",
       "      <td>1.948647</td>\n",
       "      <td>84.600</td>\n",
       "      <td>80.500</td>\n",
       "      <td>82.500000</td>\n",
       "      <td>2.007966</td>\n",
       "      <td>12349632</td>\n",
       "      <td>12252228</td>\n",
       "      <td>21.915859</td>\n",
       "      <td>64.110306</td>\n",
       "      <td>85.904</td>\n",
       "    </tr>\n",
       "    <tr>\n",
       "      <th>2</th>\n",
       "      <td>Austria</td>\n",
       "      <td>WesternEurope</td>\n",
       "      <td>83871</td>\n",
       "      <td>8736</td>\n",
       "      <td>106.0</td>\n",
       "      <td>96.2</td>\n",
       "      <td>376967</td>\n",
       "      <td>1.0</td>\n",
       "      <td>44117.7</td>\n",
       "      <td>1.3</td>\n",
       "      <td>...</td>\n",
       "      <td>2.081269</td>\n",
       "      <td>84.000</td>\n",
       "      <td>79.400</td>\n",
       "      <td>81.643902</td>\n",
       "      <td>0.756179</td>\n",
       "      <td>4478340</td>\n",
       "      <td>4319226</td>\n",
       "      <td>25.355237</td>\n",
       "      <td>27.024073</td>\n",
       "      <td>58.094</td>\n",
       "    </tr>\n",
       "    <tr>\n",
       "      <th>3</th>\n",
       "      <td>Belarus</td>\n",
       "      <td>EasternEurope</td>\n",
       "      <td>207600</td>\n",
       "      <td>9468</td>\n",
       "      <td>46.7</td>\n",
       "      <td>87.0</td>\n",
       "      <td>54609</td>\n",
       "      <td>-3.9</td>\n",
       "      <td>5750.8</td>\n",
       "      <td>7.5</td>\n",
       "      <td>...</td>\n",
       "      <td>6.031837</td>\n",
       "      <td>79.200</td>\n",
       "      <td>69.300</td>\n",
       "      <td>74.129268</td>\n",
       "      <td>1.162417</td>\n",
       "      <td>5077542</td>\n",
       "      <td>4420722</td>\n",
       "      <td>13.019006</td>\n",
       "      <td>2.933101</td>\n",
       "      <td>78.134</td>\n",
       "    </tr>\n",
       "    <tr>\n",
       "      <th>4</th>\n",
       "      <td>Belgium</td>\n",
       "      <td>WesternEurope</td>\n",
       "      <td>30528</td>\n",
       "      <td>11429</td>\n",
       "      <td>377.5</td>\n",
       "      <td>97.3</td>\n",
       "      <td>455107</td>\n",
       "      <td>1.5</td>\n",
       "      <td>40277.8</td>\n",
       "      <td>0.7</td>\n",
       "      <td>...</td>\n",
       "      <td>2.125971</td>\n",
       "      <td>83.900</td>\n",
       "      <td>79.200</td>\n",
       "      <td>81.492683</td>\n",
       "      <td>0.910371</td>\n",
       "      <td>5766141</td>\n",
       "      <td>5609017</td>\n",
       "      <td>23.399721</td>\n",
       "      <td>33.727746</td>\n",
       "      <td>97.961</td>\n",
       "    </tr>\n",
       "  </tbody>\n",
       "</table>\n",
       "<p>5 rows × 95 columns</p>\n",
       "</div>"
      ],
      "text/plain": [
       "     country         Region  Surface area (km2)  Population_in_thousands_2017  \\\n",
       "0  Argentina   SouthAmerica             2780400                         44271   \n",
       "1  Australia        Oceania             7692060                         24451   \n",
       "2    Austria  WesternEurope               83871                          8736   \n",
       "3    Belarus  EasternEurope              207600                          9468   \n",
       "4    Belgium  WesternEurope               30528                         11429   \n",
       "\n",
       "   Population density (per km2, 2017)  Sex ratio (m per 100 f, 2017)  \\\n",
       "0                                16.2                           95.9   \n",
       "1                                 3.2                           99.3   \n",
       "2                               106.0                           96.2   \n",
       "3                                46.7                           87.0   \n",
       "4                               377.5                           97.3   \n",
       "\n",
       "   GDP: Gross domestic product (million current US$)  \\\n",
       "0                                             632343   \n",
       "1                                            1230859   \n",
       "2                                             376967   \n",
       "3                                              54609   \n",
       "4                                             455107   \n",
       "\n",
       "   GDP growth rate (annual %, const. 2005 prices)  \\\n",
       "0                                             2.4   \n",
       "1                                             2.4   \n",
       "2                                             1.0   \n",
       "3                                            -3.9   \n",
       "4                                             1.5   \n",
       "\n",
       "   GDP per capita (current US$) Economy_Agriculture  ...  \\\n",
       "0                       14564.5                   6  ...   \n",
       "1                       51352.2                 2.5  ...   \n",
       "2                       44117.7                 1.3  ...   \n",
       "3                        5750.8                 7.5  ...   \n",
       "4                       40277.8                 0.7  ...   \n",
       "\n",
       "   Inflation, consumer prices (annual %)  \\\n",
       "0                                    NaN   \n",
       "1                               1.948647   \n",
       "2                               2.081269   \n",
       "3                               6.031837   \n",
       "4                               2.125971   \n",
       "\n",
       "   Life expectancy at birth, female (years)  \\\n",
       "0                                    79.726   \n",
       "1                                    84.600   \n",
       "2                                    84.000   \n",
       "3                                    79.200   \n",
       "4                                    83.900   \n",
       "\n",
       "   Life expectancy at birth, male (years)  \\\n",
       "0                                  72.924   \n",
       "1                                  80.500   \n",
       "2                                  79.400   \n",
       "3                                  69.300   \n",
       "4                                  79.200   \n",
       "\n",
       "   Life expectancy at birth, total (years)  Military expenditure (% of GDP)  \\\n",
       "0                                76.372000                         0.856138   \n",
       "1                                82.500000                         2.007966   \n",
       "2                                81.643902                         0.756179   \n",
       "3                                74.129268                         1.162417   \n",
       "4                                81.492683                         0.910371   \n",
       "\n",
       "   Population, female Population, male  Tax revenue (% of GDP)  \\\n",
       "0            22572521         21472290               10.955501   \n",
       "1            12349632         12252228               21.915859   \n",
       "2             4478340          4319226               25.355237   \n",
       "3             5077542          4420722               13.019006   \n",
       "4             5766141          5609017               23.399721   \n",
       "\n",
       "   Taxes on income, profits and capital gains (% of revenue)  \\\n",
       "0                                          12.929913           \n",
       "1                                          64.110306           \n",
       "2                                          27.024073           \n",
       "3                                           2.933101           \n",
       "4                                          33.727746           \n",
       "\n",
       "   Urban population (% of total population)_y  \n",
       "0                                      91.749  \n",
       "1                                      85.904  \n",
       "2                                      58.094  \n",
       "3                                      78.134  \n",
       "4                                      97.961  \n",
       "\n",
       "[5 rows x 95 columns]"
      ]
     },
     "execution_count": 2,
     "metadata": {},
     "output_type": "execute_result"
    }
   ],
   "source": [
    "dataset = pd.read_csv('soci_econ_country_profiles.csv')\n",
    "dataset.head()"
   ]
  },
  {
   "cell_type": "markdown",
   "metadata": {},
   "source": [
    "The <code>head</code> command displays the first five rows of the dataset. We can see there is an extra column <code>'Unnamed: 0'</code> which does not hold any significance, so let's go ahead and drop it."
   ]
  },
  {
   "cell_type": "markdown",
   "metadata": {},
   "source": [
    "## 5. Data Preprocessing"
   ]
  },
  {
   "cell_type": "code",
   "execution_count": 3,
   "metadata": {
    "ExecuteTime": {
     "end_time": "2023-04-09T15:28:41.787582Z",
     "start_time": "2023-04-09T15:28:41.779578Z"
    }
   },
   "outputs": [
    {
     "data": {
      "text/plain": [
       "(66, 95)"
      ]
     },
     "execution_count": 3,
     "metadata": {},
     "output_type": "execute_result"
    }
   ],
   "source": [
    "dataset.shape"
   ]
  },
  {
   "cell_type": "markdown",
   "metadata": {},
   "source": [
    "The <code>shape</code> command displays the dimension of the dataset. As mentioned before, this dataset has 66 instances and 95 attributes. However, for this tutorial, we will only be using 4 columns. Let's go ahead and create a new dataframe with only these columns. "
   ]
  },
  {
   "cell_type": "code",
   "execution_count": 4,
   "metadata": {
    "ExecuteTime": {
     "end_time": "2023-04-09T15:28:43.150124Z",
     "start_time": "2023-04-09T15:28:43.127495Z"
    }
   },
   "outputs": [
    {
     "data": {
      "text/html": [
       "<div>\n",
       "<style scoped>\n",
       "    .dataframe tbody tr th:only-of-type {\n",
       "        vertical-align: middle;\n",
       "    }\n",
       "\n",
       "    .dataframe tbody tr th {\n",
       "        vertical-align: top;\n",
       "    }\n",
       "\n",
       "    .dataframe thead th {\n",
       "        text-align: right;\n",
       "    }\n",
       "</style>\n",
       "<table border=\"1\" class=\"dataframe\">\n",
       "  <thead>\n",
       "    <tr style=\"text-align: right;\">\n",
       "      <th></th>\n",
       "      <th>country</th>\n",
       "      <th>Economy_Agriculture</th>\n",
       "      <th>Region</th>\n",
       "      <th>Population_in_thousands_2017</th>\n",
       "    </tr>\n",
       "  </thead>\n",
       "  <tbody>\n",
       "    <tr>\n",
       "      <th>0</th>\n",
       "      <td>Argentina</td>\n",
       "      <td>6</td>\n",
       "      <td>SouthAmerica</td>\n",
       "      <td>44271</td>\n",
       "    </tr>\n",
       "    <tr>\n",
       "      <th>1</th>\n",
       "      <td>Australia</td>\n",
       "      <td>2.5</td>\n",
       "      <td>Oceania</td>\n",
       "      <td>24451</td>\n",
       "    </tr>\n",
       "    <tr>\n",
       "      <th>2</th>\n",
       "      <td>Austria</td>\n",
       "      <td>1.3</td>\n",
       "      <td>WesternEurope</td>\n",
       "      <td>8736</td>\n",
       "    </tr>\n",
       "    <tr>\n",
       "      <th>3</th>\n",
       "      <td>Belarus</td>\n",
       "      <td>7.5</td>\n",
       "      <td>EasternEurope</td>\n",
       "      <td>9468</td>\n",
       "    </tr>\n",
       "    <tr>\n",
       "      <th>4</th>\n",
       "      <td>Belgium</td>\n",
       "      <td>0.7</td>\n",
       "      <td>WesternEurope</td>\n",
       "      <td>11429</td>\n",
       "    </tr>\n",
       "  </tbody>\n",
       "</table>\n",
       "</div>"
      ],
      "text/plain": [
       "     country Economy_Agriculture         Region  Population_in_thousands_2017\n",
       "0  Argentina                   6   SouthAmerica                         44271\n",
       "1  Australia                 2.5        Oceania                         24451\n",
       "2    Austria                 1.3  WesternEurope                          8736\n",
       "3    Belarus                 7.5  EasternEurope                          9468\n",
       "4    Belgium                 0.7  WesternEurope                         11429"
      ]
     },
     "execution_count": 4,
     "metadata": {},
     "output_type": "execute_result"
    }
   ],
   "source": [
    "df = dataset[['country', 'Economy_Agriculture', 'Region', 'Population_in_thousands_2017']]\n",
    "df.head()"
   ]
  },
  {
   "cell_type": "markdown",
   "metadata": {},
   "source": [
    "Now that we have a limited number of columns, let's move onto the next step i.e. checking for missing values. <code>Null</code> or <code>NaN</code> values hinder with numerical operations. Therefore, it is important to check them before the actual analysis."
   ]
  },
  {
   "cell_type": "code",
   "execution_count": 5,
   "metadata": {
    "ExecuteTime": {
     "end_time": "2023-04-09T15:28:45.700436Z",
     "start_time": "2023-04-09T15:28:45.680881Z"
    },
    "scrolled": true
   },
   "outputs": [
    {
     "data": {
      "text/plain": [
       "country                         0\n",
       "Economy_Agriculture             0\n",
       "Region                          0\n",
       "Population_in_thousands_2017    0\n",
       "dtype: int64"
      ]
     },
     "execution_count": 5,
     "metadata": {},
     "output_type": "execute_result"
    }
   ],
   "source": [
    "df.isna().sum()"
   ]
  },
  {
   "cell_type": "markdown",
   "metadata": {},
   "source": [
    "Since, there are no null values, we can go ahead with our analysis."
   ]
  },
  {
   "cell_type": "markdown",
   "metadata": {},
   "source": [
    "In addition to null values, we also need to remove any special characters such as <code>@, ~,</code> etc. from column values. We will make use of regular expressions for this task. This will also make it easy to convert any <code>object</code> datatype to a <code>numeric</code> datatype. "
   ]
  },
  {
   "cell_type": "code",
   "execution_count": 6,
   "metadata": {
    "ExecuteTime": {
     "end_time": "2023-04-09T15:28:48.487954Z",
     "start_time": "2023-04-09T15:28:48.458708Z"
    }
   },
   "outputs": [
    {
     "data": {
      "text/html": [
       "<div>\n",
       "<style scoped>\n",
       "    .dataframe tbody tr th:only-of-type {\n",
       "        vertical-align: middle;\n",
       "    }\n",
       "\n",
       "    .dataframe tbody tr th {\n",
       "        vertical-align: top;\n",
       "    }\n",
       "\n",
       "    .dataframe thead th {\n",
       "        text-align: right;\n",
       "    }\n",
       "</style>\n",
       "<table border=\"1\" class=\"dataframe\">\n",
       "  <thead>\n",
       "    <tr style=\"text-align: right;\">\n",
       "      <th></th>\n",
       "      <th>country</th>\n",
       "      <th>Economy_Agriculture</th>\n",
       "      <th>Region</th>\n",
       "      <th>Population_in_thousands_2017</th>\n",
       "    </tr>\n",
       "  </thead>\n",
       "  <tbody>\n",
       "    <tr>\n",
       "      <th>0</th>\n",
       "      <td>Argentina</td>\n",
       "      <td>6</td>\n",
       "      <td>SouthAmerica</td>\n",
       "      <td>44271</td>\n",
       "    </tr>\n",
       "    <tr>\n",
       "      <th>1</th>\n",
       "      <td>Australia</td>\n",
       "      <td>2.5</td>\n",
       "      <td>Oceania</td>\n",
       "      <td>24451</td>\n",
       "    </tr>\n",
       "    <tr>\n",
       "      <th>2</th>\n",
       "      <td>Austria</td>\n",
       "      <td>1.3</td>\n",
       "      <td>WesternEurope</td>\n",
       "      <td>8736</td>\n",
       "    </tr>\n",
       "    <tr>\n",
       "      <th>3</th>\n",
       "      <td>Belarus</td>\n",
       "      <td>7.5</td>\n",
       "      <td>EasternEurope</td>\n",
       "      <td>9468</td>\n",
       "    </tr>\n",
       "    <tr>\n",
       "      <th>4</th>\n",
       "      <td>Belgium</td>\n",
       "      <td>0.7</td>\n",
       "      <td>WesternEurope</td>\n",
       "      <td>11429</td>\n",
       "    </tr>\n",
       "  </tbody>\n",
       "</table>\n",
       "</div>"
      ],
      "text/plain": [
       "     country Economy_Agriculture         Region  Population_in_thousands_2017\n",
       "0  Argentina                   6   SouthAmerica                         44271\n",
       "1  Australia                 2.5        Oceania                         24451\n",
       "2    Austria                 1.3  WesternEurope                          8736\n",
       "3    Belarus                 7.5  EasternEurope                          9468\n",
       "4    Belgium                 0.7  WesternEurope                         11429"
      ]
     },
     "execution_count": 6,
     "metadata": {},
     "output_type": "execute_result"
    }
   ],
   "source": [
    "df = df.apply(lambda x: x.replace(r'[~]/^...$/', \"\", regex=True))\n",
    "df = df.apply(lambda x: x.replace(r'~0.0', \"0\", regex=True))\n",
    "df.head()"
   ]
  },
  {
   "cell_type": "markdown",
   "metadata": {},
   "source": [
    "Now that we god rid of null values and special characters, let's have a look at the data types of each column. This, as well, will help us in numerical analysis and filtering, later on. "
   ]
  },
  {
   "cell_type": "code",
   "execution_count": 7,
   "metadata": {
    "ExecuteTime": {
     "end_time": "2023-04-09T15:28:50.916645Z",
     "start_time": "2023-04-09T15:28:50.908480Z"
    }
   },
   "outputs": [
    {
     "data": {
      "text/plain": [
       "country                         object\n",
       "Economy_Agriculture             object\n",
       "Region                          object\n",
       "Population_in_thousands_2017     int64\n",
       "dtype: object"
      ]
     },
     "execution_count": 7,
     "metadata": {},
     "output_type": "execute_result"
    }
   ],
   "source": [
    "df.dtypes"
   ]
  },
  {
   "cell_type": "markdown",
   "metadata": {},
   "source": [
    "The <code>Economy_Agriculture</code> column has datatype - <code>object</code>. Let us convert it to <code>float</code>."
   ]
  },
  {
   "cell_type": "code",
   "execution_count": 8,
   "metadata": {
    "ExecuteTime": {
     "end_time": "2023-04-09T15:28:53.151497Z",
     "start_time": "2023-04-09T15:28:53.136101Z"
    }
   },
   "outputs": [
    {
     "data": {
      "text/plain": [
       "dtype('float64')"
      ]
     },
     "execution_count": 8,
     "metadata": {},
     "output_type": "execute_result"
    }
   ],
   "source": [
    "df['Economy_Agriculture'] = df['Economy_Agriculture'].astype(float)\n",
    "df['Economy_Agriculture'].dtypes"
   ]
  },
  {
   "cell_type": "markdown",
   "metadata": {},
   "source": [
    "Now that our data is processed, we can create a GridDB container and insert it using the python-client. But what is GridDB and why do we need it?"
   ]
  },
  {
   "cell_type": "markdown",
   "metadata": {},
   "source": [
    "## 6. What is GridDB?"
   ]
  },
  {
   "cell_type": "markdown",
   "metadata": {},
   "source": [
    "[GridDB](https://griddb.net/) is a scalable, in-memory no-SQL database. It has a unique key-container model which is designed to handle both metadata and time series data. Moreover, GridDB makes use of an in-memory architecture in addition to parallel processing to provide efficient performance with minimum delays. \n",
    "\n",
    "But why do we need a database?"
   ]
  },
  {
   "cell_type": "markdown",
   "metadata": {},
   "source": [
    "### Why do we need it?"
   ]
  },
  {
   "cell_type": "markdown",
   "metadata": {},
   "source": [
    "We have all heard the term 'Big Data' but what are the challenges that come with it? \n",
    "\n",
    "When we have huge amounts of data, we not only face storage issues but also integrity issues. For instance, what if we want to change a row or an attribute, is the same copy available for all the users in an organization? Will they see the update when it's being done?\n",
    "\n",
    "If you are using a CSV file, then it could be chaotic to update and verify these changes among all users every time. Using a database management system tackles these issues. Additionally, with different kinds of access being given to the users, you can control who gets to manipulate what. \n",
    "\n",
    "The motivation behind GridDB is now clear. Let's see how can we insert the data into a GridDB container with the help of a python-client"
   ]
  },
  {
   "cell_type": "markdown",
   "metadata": {},
   "source": [
    "## 7. Data Insertion into GridDB"
   ]
  },
  {
   "cell_type": "markdown",
   "metadata": {},
   "source": [
    "With the help of GridDB's python-client, it is quite easy to interact with your data. In this section, we will first establish a connection to the node. Then, we will create a container to store the data. "
   ]
  },
  {
   "cell_type": "markdown",
   "metadata": {},
   "source": [
    "### a. Creating a connection"
   ]
  },
  {
   "cell_type": "code",
   "execution_count": 9,
   "metadata": {},
   "outputs": [
    {
     "name": "stdout",
     "output_type": "stream",
     "text": [
      "connection successful\n"
     ]
    }
   ],
   "source": [
    "import griddb_python as griddb\n",
    "\n",
    "factory = griddb.StoreFactory.get_instance()\n",
    "host = \"127.0.0.1:10001\"\n",
    "cluster = \"myCluster\"\n",
    "db_user = \"admin\"\n",
    "db_password = \"admin\"\n",
    "\n",
    "try:\n",
    "    gridstore = factory.get_store(notification_member=host, cluster_name=cluster, username=db_user, password=db_password)\n",
    "    print(\"connection successful\")\n",
    "    \n",
    "except griddb.GSException as e:\n",
    "    for i in range(e.get_error_stack_size()):\n",
    "        print(\"[\",i,\"]\")\n",
    "        print(e.get_error_code(i))\n",
    "        print(e.get_location(i))\n",
    "        print(e.get_message(i))"
   ]
  },
  {
   "cell_type": "markdown",
   "metadata": {},
   "source": [
    "If you run this execute this code and it prints </code>connection successful</code>, then a connection has been made. However, if you encounter an error, please check your credentials and the host's address as well as the port number. \n",
    "\n",
    "More information on how to start a node and setup the host name can be found in the [Quick Start guide by GridDB](https://www.toshiba-sol.co.jp/en/pro/griddb/docs-en/v4_3_2/GridDB_QuickStartGuide.html)."
   ]
  },
  {
   "cell_type": "markdown",
   "metadata": {},
   "source": [
    "The code is not complete yet! We still need to create a container and define its schema."
   ]
  },
  {
   "cell_type": "markdown",
   "metadata": {},
   "source": [
    "### b. Container Creation"
   ]
  },
  {
   "cell_type": "markdown",
   "metadata": {},
   "source": [
    "Within the <code>try</code> clause, we need to define a container. Thus, our final code will look like:"
   ]
  },
  {
   "cell_type": "code",
   "execution_count": 10,
   "metadata": {},
   "outputs": [
    {
     "name": "stdout",
     "output_type": "stream",
     "text": [
      "connection successful\n",
      "<griddb_python.ContainerInfo; proxy of <Swig Object of type 'std::shared_ptr< griddb::ContainerInfo > *' at 0x7f85695dc060> >\n",
      "container creation successful\n",
      "data insertion successful\n"
     ]
    }
   ],
   "source": [
    "try:\n",
    "    gridstore = factory.get_store(notification_member=host, cluster_name=cluster, username=db_user, password=db_password)\n",
    "    print(\"connection successful\")\n",
    "\n",
    "    conInfo = griddb.ContainerInfo(name=\"socio_econ\",\n",
    "                    column_info_list = [[\"country\", griddb.Type.STRING],\n",
    "                                       [\"Economy_Agriculture\", griddb.Type.FLOAT],\n",
    "                                       [\"Region\", griddb.Type.STRING],\n",
    "                                       [\"Population_in_thousands_2017\", griddb.Type.INTEGER]],\n",
    "                    type=griddb.ContainerType.COLLECTION)\n",
    "\n",
    "    print(conInfo)\n",
    "\n",
    "    socio_econ_container = gridstore.put_container(conInfo)\n",
    "    print(\"container creation successful\")\n",
    "\n",
    "    socio_econ_container.put_rows(df)\n",
    "\n",
    "    print(\"data insertion successful\")\n",
    "\n",
    "\n",
    "except griddb.GSException as e:\n",
    "    for i in range(e.get_error_stack_size()):\n",
    "        print(\"[\",i,\"]\")\n",
    "        print(e.get_error_code(i))\n",
    "        print(e.get_location(i))\n",
    "        print(e.get_message(i))"
   ]
  },
  {
   "cell_type": "markdown",
   "metadata": {
    "ExecuteTime": {
     "end_time": "2023-02-18T07:11:44.741787Z",
     "start_time": "2023-02-18T07:11:44.724817Z"
    }
   },
   "source": [
    "Here, we are creating a container name <code>socio_econ</code> which has the following columns:\n",
    "- Country (Type: String)\n",
    "- Economy_Agriculture (Type: Float)\n",
    "- Region (Type: String)\n",
    "- Population_in_thousands_2017 (Type: Integer)"
   ]
  },
  {
   "cell_type": "markdown",
   "metadata": {},
   "source": [
    "If this executes successfully, the output will look like this:\n",
    "\n",
    "<img src=\"griddb1.png\" alt=\"Alternative text\" />"
   ]
  },
  {
   "cell_type": "markdown",
   "metadata": {},
   "source": [
    "### c. Few things to note"
   ]
  },
  {
   "cell_type": "markdown",
   "metadata": {},
   "source": [
    "During the data insertion, I encountered a couple of errors. Here are some things to keep in mind to avoid this situation:\n",
    "\n",
    "- The order of the schema is quite important and it should match with the columns of your dataframe.\n",
    "\n",
    "- Insertion could result in an <code>[1008:CM_LIMITS_EXCEEDED]</code> error. For me, it got resolved by removing the special characters and spaces from column names. \n",
    "\n",
    "- If your container type is <code>TIMESERIES</code>, then a <code>ROWKEY</code> must be defined. A <code>ROWKEY</code> is a primary key for your dataset. It is not need if the container type is <code>COLLECTION</code> which is the case for this dataset. \n",
    "\n",
    "- A <code>ROWKEY</code> is either a STRING, INTEGER, LONG or TIMESTAMP column. If you do not specify a ROWKEY column, then it takes the first column as the default ROWKEY. If your first column is not from those datatypes, then it would throw an <code>[140009:CC_UNSUPPORTED_KEY_TYPE]</code>. "
   ]
  },
  {
   "cell_type": "markdown",
   "metadata": {},
   "source": [
    "## 8. Reading Data from GridDB"
   ]
  },
  {
   "cell_type": "markdown",
   "metadata": {},
   "source": [
    "After inserting the data into our gridDB container, it's time to read it and load it into our python environment. This operation is quite simple as well."
   ]
  },
  {
   "cell_type": "code",
   "execution_count": 11,
   "metadata": {},
   "outputs": [
    {
     "name": "stdout",
     "output_type": "stream",
     "text": [
      "import successful\n",
      "connection successful\n",
      "<class 'pandas.core.frame.DataFrame'>\n",
      "     country  Economy_Agriculture         Region  Population_in_thousands_2017\n",
      "0  Argentina                  6.0   SouthAmerica                         44271\n",
      "1  Australia                  2.5        Oceania                         24451\n",
      "2    Austria                  1.3  WesternEurope                          8736\n",
      "3    Belarus                  7.5  EasternEurope                          9468\n",
      "4    Belgium                  0.7  WesternEurope                         11429\n"
     ]
    }
   ],
   "source": [
    "import griddb_python as griddb\n",
    "print(\"import successful\")\n",
    "\n",
    "factory = griddb.StoreFactory.get_instance()\n",
    "\n",
    "host = \"127.0.0.1:10001\"\n",
    "cluster = \"myCluster\"\n",
    "db_user = \"admin\"\n",
    "db_password = \"admin\"\n",
    "\n",
    "\n",
    "try:\n",
    "        gridstore = factory.get_store(notification_member=host, cluster_name=cluster, username=db_user, password=db_password)\n",
    "        cont = gridstore.get_container(\"socio_econ\")\n",
    "        if cont is None:\n",
    "            print(\"Does not exist\")\n",
    "        print(\"connection successful\")\n",
    "\n",
    "        query = cont.query(\"select *\")\n",
    "        rs = query.fetch(False)\n",
    "        df = rs.fetch_rows()\n",
    "        print(type(df))\n",
    "        print(df.head())\n",
    "\n",
    "except griddb.GSException as e:\n",
    "    \n",
    "    for i in range(e.get_error_stack_size()):\n",
    "        print(\"[\",i,\"]\")\n",
    "        print(e.get_error_code(i))\n",
    "        print(e.get_location(i))\n",
    "        print(e.get_message(i))"
   ]
  },
  {
   "cell_type": "markdown",
   "metadata": {},
   "source": [
    "The output looks like as follows:\n",
    "\n",
    "<img src=\"griddb2.png\" alt=\"Alternative text\" />"
   ]
  },
  {
   "cell_type": "markdown",
   "metadata": {},
   "source": [
    "If you are new to GridDB, there's a [YouTube tutorial](https://www.youtube.com/watch?v=GMURnoS9bK4) that covers the basic operations such as data insertion, container creation, etc. \n",
    "\n",
    "Our data is now ready to be used! It's time to move on to the next section - Data Filtering and Basic Data Visualization."
   ]
  },
  {
   "cell_type": "markdown",
   "metadata": {},
   "source": [
    "## 9. Data Filtering and Basic Data Visualization"
   ]
  },
  {
   "cell_type": "markdown",
   "metadata": {},
   "source": [
    "One of the first columns to notice is the <code>Population</code> column. How about we want to print the most or least populated countries on this list? \n",
    "\n",
    "This can be achieved via the <code>sort_value()</code> function. We will sort our dataset in descending order of population and get the 5 most populated countries. "
   ]
  },
  {
   "cell_type": "code",
   "execution_count": 12,
   "metadata": {
    "ExecuteTime": {
     "end_time": "2023-04-09T15:29:04.347578Z",
     "start_time": "2023-04-09T15:29:04.323989Z"
    },
    "scrolled": true
   },
   "outputs": [
    {
     "data": {
      "text/html": [
       "<div>\n",
       "<style scoped>\n",
       "    .dataframe tbody tr th:only-of-type {\n",
       "        vertical-align: middle;\n",
       "    }\n",
       "\n",
       "    .dataframe tbody tr th {\n",
       "        vertical-align: top;\n",
       "    }\n",
       "\n",
       "    .dataframe thead th {\n",
       "        text-align: right;\n",
       "    }\n",
       "</style>\n",
       "<table border=\"1\" class=\"dataframe\">\n",
       "  <thead>\n",
       "    <tr style=\"text-align: right;\">\n",
       "      <th></th>\n",
       "      <th>country</th>\n",
       "      <th>Economy_Agriculture</th>\n",
       "      <th>Region</th>\n",
       "      <th>Population_in_thousands_2017</th>\n",
       "    </tr>\n",
       "  </thead>\n",
       "  <tbody>\n",
       "    <tr>\n",
       "      <th>11</th>\n",
       "      <td>China</td>\n",
       "      <td>9.2</td>\n",
       "      <td>EasternAsia</td>\n",
       "      <td>1409517</td>\n",
       "    </tr>\n",
       "    <tr>\n",
       "      <th>24</th>\n",
       "      <td>India</td>\n",
       "      <td>17.0</td>\n",
       "      <td>SouthernAsia</td>\n",
       "      <td>1339180</td>\n",
       "    </tr>\n",
       "    <tr>\n",
       "      <th>63</th>\n",
       "      <td>United States of America</td>\n",
       "      <td>1.0</td>\n",
       "      <td>NorthernAmerica</td>\n",
       "      <td>324460</td>\n",
       "    </tr>\n",
       "    <tr>\n",
       "      <th>25</th>\n",
       "      <td>Indonesia</td>\n",
       "      <td>14.0</td>\n",
       "      <td>South-easternAsia</td>\n",
       "      <td>263991</td>\n",
       "    </tr>\n",
       "    <tr>\n",
       "      <th>6</th>\n",
       "      <td>Brazil</td>\n",
       "      <td>5.2</td>\n",
       "      <td>SouthAmerica</td>\n",
       "      <td>209288</td>\n",
       "    </tr>\n",
       "  </tbody>\n",
       "</table>\n",
       "</div>"
      ],
      "text/plain": [
       "                     country  Economy_Agriculture             Region  \\\n",
       "11                     China                  9.2        EasternAsia   \n",
       "24                     India                 17.0       SouthernAsia   \n",
       "63  United States of America                  1.0    NorthernAmerica   \n",
       "25                 Indonesia                 14.0  South-easternAsia   \n",
       "6                     Brazil                  5.2       SouthAmerica   \n",
       "\n",
       "    Population_in_thousands_2017  \n",
       "11                       1409517  \n",
       "24                       1339180  \n",
       "63                        324460  \n",
       "25                        263991  \n",
       "6                         209288  "
      ]
     },
     "execution_count": 12,
     "metadata": {},
     "output_type": "execute_result"
    }
   ],
   "source": [
    "top_population = df.sort_values(by=['Population_in_thousands_2017'], ascending=False).iloc[:5]\n",
    "top_population"
   ]
  },
  {
   "cell_type": "markdown",
   "metadata": {},
   "source": [
    "As we can see, the <code>sort_value()</code> function here takes 2 arguments. The <code>ascending=False</code> column is optional and its default value is <code>True</code>. The <code>iloc</code> function helps us to retrieve the first 5 rows of the resulting dataframe. \n",
    "\n",
    "We can also plot the same information using a Bar Graph. This can be achieved by using the <code>plot()</code> function directly on our sorted dataframe."
   ]
  },
  {
   "cell_type": "code",
   "execution_count": 13,
   "metadata": {
    "ExecuteTime": {
     "end_time": "2023-04-09T15:29:17.605851Z",
     "start_time": "2023-04-09T15:29:17.275616Z"
    }
   },
   "outputs": [
    {
     "data": {
      "text/plain": [
       "<AxesSubplot:title={'center':'The 5 most populated countries in the world.'}, ylabel='country'>"
      ]
     },
     "execution_count": 13,
     "metadata": {},
     "output_type": "execute_result"
    },
    {
     "data": {
      "image/png": "[encoded data removed]",
      "text/plain": [
       "<Figure size 432x288 with 1 Axes>"
      ]
     },
     "metadata": {
      "needs_background": "light"
     },
     "output_type": "display_data"
    }
   ],
   "source": [
    "top_population.plot(x= 'country', y ='Population_in_thousands_2017', kind=\"barh\", title=\"The 5 most populated countries in the world.\", legend=False)"
   ]
  },
  {
   "cell_type": "markdown",
   "metadata": {},
   "source": [
    "The X-axis represents the <code>population</code> parameter whereas the Y-axis represents the country name. You can do much more with [Dataframe.plot()](https://pandas.pydata.org/docs/reference/api/pandas.DataFrame.plot.html) such as setting the title, legend, etc."
   ]
  },
  {
   "cell_type": "markdown",
   "metadata": {},
   "source": [
    "Great! Now you know how to sort our dataset using any column. But what if we want to calculate any statistic based on this data? For instance, mean population or total population for a region?\n",
    "\n",
    "We can do so by using the <code>groupby</code> clause in Pandas. But before that, let us look at how many different regions are there in our dataset."
   ]
  },
  {
   "cell_type": "code",
   "execution_count": 14,
   "metadata": {
    "ExecuteTime": {
     "end_time": "2023-04-09T15:29:21.855467Z",
     "start_time": "2023-04-09T15:29:21.824785Z"
    }
   },
   "outputs": [
    {
     "name": "stdout",
     "output_type": "stream",
     "text": [
      "['SouthAmerica' 'Oceania' 'WesternEurope' 'EasternEurope' 'SouthernEurope'\n",
      " 'NorthernAmerica' 'EasternAsia' 'WesternAsia' 'NorthernEurope'\n",
      " 'NorthernAfrica' 'SouthernAsia' 'South-easternAsia' 'CentralAmerica'\n",
      " 'SouthernAfrica']\n",
      "14\n"
     ]
    }
   ],
   "source": [
    "print(df['Region'].unique())\n",
    "print(len(df['Region'].unique()))"
   ]
  },
  {
   "cell_type": "markdown",
   "metadata": {},
   "source": [
    "So, there are 13 regions and each country is a part of one region. We can group our data using these regions and calculate statistical values for each. For this example, let us calculate the mean value of <code>Economy: Agriculture (% of GVA)</code> using the <code>agg()</code> function."
   ]
  },
  {
   "cell_type": "code",
   "execution_count": 15,
   "metadata": {
    "ExecuteTime": {
     "end_time": "2023-04-09T15:29:24.171697Z",
     "start_time": "2023-04-09T15:29:24.135487Z"
    }
   },
   "outputs": [
    {
     "data": {
      "text/html": [
       "<div>\n",
       "<style scoped>\n",
       "    .dataframe tbody tr th:only-of-type {\n",
       "        vertical-align: middle;\n",
       "    }\n",
       "\n",
       "    .dataframe tbody tr th {\n",
       "        vertical-align: top;\n",
       "    }\n",
       "\n",
       "    .dataframe thead th {\n",
       "        text-align: right;\n",
       "    }\n",
       "</style>\n",
       "<table border=\"1\" class=\"dataframe\">\n",
       "  <thead>\n",
       "    <tr style=\"text-align: right;\">\n",
       "      <th></th>\n",
       "      <th>Economy_Agriculture</th>\n",
       "    </tr>\n",
       "    <tr>\n",
       "      <th>Region</th>\n",
       "      <th></th>\n",
       "    </tr>\n",
       "  </thead>\n",
       "  <tbody>\n",
       "    <tr>\n",
       "      <th>CentralAmerica</th>\n",
       "      <td>3.600000</td>\n",
       "    </tr>\n",
       "    <tr>\n",
       "      <th>EasternAsia</th>\n",
       "      <td>3.200000</td>\n",
       "    </tr>\n",
       "    <tr>\n",
       "      <th>EasternEurope</th>\n",
       "      <td>5.444444</td>\n",
       "    </tr>\n",
       "    <tr>\n",
       "      <th>NorthernAfrica</th>\n",
       "      <td>11.200000</td>\n",
       "    </tr>\n",
       "    <tr>\n",
       "      <th>NorthernAmerica</th>\n",
       "      <td>1.400000</td>\n",
       "    </tr>\n",
       "    <tr>\n",
       "      <th>NorthernEurope</th>\n",
       "      <td>1.937500</td>\n",
       "    </tr>\n",
       "    <tr>\n",
       "      <th>Oceania</th>\n",
       "      <td>4.500000</td>\n",
       "    </tr>\n",
       "    <tr>\n",
       "      <th>South-easternAsia</th>\n",
       "      <td>10.183333</td>\n",
       "    </tr>\n",
       "    <tr>\n",
       "      <th>SouthAmerica</th>\n",
       "      <td>5.440000</td>\n",
       "    </tr>\n",
       "    <tr>\n",
       "      <th>SouthernAfrica</th>\n",
       "      <td>2.400000</td>\n",
       "    </tr>\n",
       "    <tr>\n",
       "      <th>SouthernAsia</th>\n",
       "      <td>14.950000</td>\n",
       "    </tr>\n",
       "    <tr>\n",
       "      <th>SouthernEurope</th>\n",
       "      <td>5.022222</td>\n",
       "    </tr>\n",
       "    <tr>\n",
       "      <th>WesternAsia</th>\n",
       "      <td>2.825000</td>\n",
       "    </tr>\n",
       "    <tr>\n",
       "      <th>WesternEurope</th>\n",
       "      <td>1.133333</td>\n",
       "    </tr>\n",
       "  </tbody>\n",
       "</table>\n",
       "</div>"
      ],
      "text/plain": [
       "                   Economy_Agriculture\n",
       "Region                                \n",
       "CentralAmerica                3.600000\n",
       "EasternAsia                   3.200000\n",
       "EasternEurope                 5.444444\n",
       "NorthernAfrica               11.200000\n",
       "NorthernAmerica               1.400000\n",
       "NorthernEurope                1.937500\n",
       "Oceania                       4.500000\n",
       "South-easternAsia            10.183333\n",
       "SouthAmerica                  5.440000\n",
       "SouthernAfrica                2.400000\n",
       "SouthernAsia                 14.950000\n",
       "SouthernEurope                5.022222\n",
       "WesternAsia                   2.825000\n",
       "WesternEurope                 1.133333"
      ]
     },
     "execution_count": 15,
     "metadata": {},
     "output_type": "execute_result"
    }
   ],
   "source": [
    "agriculture_share = df.groupby('Region').agg({'Economy_Agriculture':'mean'})\n",
    "agriculture_share"
   ]
  },
  {
   "cell_type": "markdown",
   "metadata": {},
   "source": [
    "Note that the same could be achieved by <code>dataset_filter.groupby('Region')['Economy: Agriculture (% of GVA)'].mean()</code>. But the [agg() function](https://pandas.pydata.org/pandas-docs/stable/reference/api/pandas.DataFrame.aggregate.html) allows us to calculate more than one statistic at once for one or more columns. \n",
    "\n",
    "Let's go ahead and plot this as well."
   ]
  },
  {
   "cell_type": "code",
   "execution_count": 16,
   "metadata": {
    "ExecuteTime": {
     "end_time": "2023-04-09T15:29:27.188161Z",
     "start_time": "2023-04-09T15:29:27.087024Z"
    }
   },
   "outputs": [
    {
     "data": {
      "image/png": "[encoded data removed]",
      "text/plain": [
       "<Figure size 720x720 with 1 Axes>"
      ]
     },
     "metadata": {},
     "output_type": "display_data"
    }
   ],
   "source": [
    "fig, ax = plt.subplots(figsize=(10,10))\n",
    "ax.pie(x=agriculture_share['Economy_Agriculture'], labels=agriculture_share['Economy_Agriculture'].index)\n",
    "plt.show()"
   ]
  },
  {
   "cell_type": "markdown",
   "metadata": {},
   "source": [
    "Awesome! Now we know how to plot both individual and aggregate values using Pandas and Matplotlib. But for datasets such as this, there is a huge number of columns to be analyzed. Each column represents a different statistic. \n",
    "\n",
    "What if we want to plot each column? One way that comes to my mind is to put up a for loop but that could be chaotic. The <code>print()</code> function will display a long list of graphs. It's difficult to scroll through in such a case. \n",
    "\n",
    "Widgets come to our rescue here. Let's try to create interactive plots where you can select from a drop-down box what you want to see. "
   ]
  },
  {
   "cell_type": "markdown",
   "metadata": {},
   "source": [
    "## 7. Interactive Data Visualization "
   ]
  },
  {
   "cell_type": "markdown",
   "metadata": {},
   "source": [
    "Let's again group our data by <code>Region</code> and calculate the mean for all attributes.  "
   ]
  },
  {
   "cell_type": "code",
   "execution_count": 17,
   "metadata": {
    "ExecuteTime": {
     "end_time": "2023-04-09T15:29:31.240986Z",
     "start_time": "2023-04-09T15:29:31.231901Z"
    }
   },
   "outputs": [],
   "source": [
    "region_data = df.groupby('Region').mean()"
   ]
  },
  {
   "cell_type": "markdown",
   "metadata": {},
   "source": [
    "Now, we will pass all our columns to our widget object. We will also define a <code>plotbar()</code> function which takes this data and plots a bar graph. "
   ]
  },
  {
   "cell_type": "code",
   "execution_count": 18,
   "metadata": {
    "ExecuteTime": {
     "end_time": "2023-04-09T15:29:33.589199Z",
     "start_time": "2023-04-09T15:29:33.370783Z"
    }
   },
   "outputs": [
    {
     "data": {
      "application/vnd.jupyter.widget-view+json": {
       "model_id": "17497f68be59481ab0d9549a60083a57",
       "version_major": 2,
       "version_minor": 0
      },
      "text/plain": [
       "interactive(children=(Dropdown(description='Data', options=('Economy_Agriculture', 'Population_in_thousands_20…"
      ]
     },
     "metadata": {},
     "output_type": "display_data"
    }
   ],
   "source": [
    "@widgets.interact(Data = region_data.columns)\n",
    "def plotbar(Data):\n",
    "  fig, ax = plt.subplots(figsize=(25,7))\n",
    "  ax.bar(region_data.index, height = region_data[Data])\n",
    "  ax.axhline(region_data[Data].mean(), ls='--', color='red', label='Mean')\n",
    "  ax.set_title(Data)\n",
    "  ax.legend()"
   ]
  },
  {
   "cell_type": "markdown",
   "metadata": {},
   "source": [
    "Using a similar logic, we can also plot pie charts for the same <code>groupby</code> object."
   ]
  },
  {
   "cell_type": "code",
   "execution_count": 19,
   "metadata": {
    "ExecuteTime": {
     "end_time": "2023-04-09T15:29:37.243236Z",
     "start_time": "2023-04-09T15:29:37.113754Z"
    }
   },
   "outputs": [
    {
     "data": {
      "application/vnd.jupyter.widget-view+json": {
       "model_id": "9e8595d7328b45cca7134fed3b991aa5",
       "version_major": 2,
       "version_minor": 0
      },
      "text/plain": [
       "interactive(children=(Dropdown(description='Data', options=('Economy_Agriculture', 'Population_in_thousands_20…"
      ]
     },
     "metadata": {},
     "output_type": "display_data"
    }
   ],
   "source": [
    "@widgets.interact(Data = region_data.columns)\n",
    "def plotpie(Data):\n",
    "  fig, ax = plt.subplots(figsize=(10,10))\n",
    "  ax.pie(x=region_data[Data], labels=region_data.index)\n",
    "  ax.set_title(Data, size=20)"
   ]
  },
  {
   "cell_type": "markdown",
   "metadata": {},
   "source": [
    "In both plots, you can just scroll down to select the attribute you want to visualize. Thus, this is an easier and more comprehensive approach."
   ]
  },
  {
   "cell_type": "markdown",
   "metadata": {},
   "source": [
    "## 8. Conclusion "
   ]
  },
  {
   "cell_type": "markdown",
   "metadata": {},
   "source": [
    "In this tutorial, we analyzed the socio-economic dataset. We started with preprocessing followed by filtering and visualization. We also saw how to make interactive graphs using widgets. \n",
    "\n",
    "Moreover, we covered how GridDB makes your life easier. Download [GridDB](https://www.kaggle.com/datasets/sudalairajkumar/undata-country-profiles) and get your journey started today!"
   ]
  },
  {
   "cell_type": "markdown",
   "metadata": {},
   "source": [
    "## 9. References"
   ]
  },
  {
   "cell_type": "markdown",
   "metadata": {},
   "source": [
    "1. https://www.kaggle.com/datasets/sudalairajkumar/undata-country-profiles\n",
    "2. https://www.kaggle.com/code/henriquegaspar/transforming-and-clustering-socioeconomic-data"
   ]
  }
 ],
 "metadata": {
  "kernelspec": {
   "display_name": "Python 3",
   "language": "python",
   "name": "python3"
  },
  "language_info": {
   "codemirror_mode": {
    "name": "ipython",
    "version": 3
   },
   "file_extension": ".py",
   "mimetype": "text/x-python",
   "name": "python",
   "nbconvert_exporter": "python",
   "pygments_lexer": "ipython3",
   "version": "3.6.9"
  }
 },
 "nbformat": 4,
 "nbformat_minor": 4
}
